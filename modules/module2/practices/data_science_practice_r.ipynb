{
 "cells": [
  {
   "cell_type": "markdown",
   "metadata": {},
   "source": [
    "# Data Science with `R` Practice\n",
    "\n",
    "This practice will be going over the fundamentals of data science with `R`. Much of the content will be similar to your lab, [Introduction to Data Science with R](../labs/intro_data_science_r.ipynb), and thus it will serve as a good guide post to answering some of the questions. We'll begin today with reading in the data..."
   ]
  },
  {
   "cell_type": "markdown",
   "metadata": {},
   "source": [
    "## Read in the Data"
   ]
  },
  {
   "cell_type": "code",
   "execution_count": 1,
   "metadata": {},
   "outputs": [
    {
     "data": {
      "text/html": [
       "<table>\n",
       "<caption>A data.frame: 6 × 5</caption>\n",
       "<thead>\n",
       "\t<tr><th scope=col>Id</th><th scope=col>Name</th><th scope=col>Year</th><th scope=col>Gender</th><th scope=col>Count</th></tr>\n",
       "\t<tr><th scope=col>&lt;int&gt;</th><th scope=col>&lt;fct&gt;</th><th scope=col>&lt;int&gt;</th><th scope=col>&lt;fct&gt;</th><th scope=col>&lt;int&gt;</th></tr>\n",
       "</thead>\n",
       "<tbody>\n",
       "\t<tr><td> 4</td><td>Elizabeth</td><td>1880</td><td>F</td><td>1939</td></tr>\n",
       "\t<tr><td> 8</td><td>Alice    </td><td>1880</td><td>F</td><td>1414</td></tr>\n",
       "\t<tr><td>12</td><td>Clara    </td><td>1880</td><td>F</td><td>1226</td></tr>\n",
       "\t<tr><td>13</td><td>Ella     </td><td>1880</td><td>F</td><td>1156</td></tr>\n",
       "\t<tr><td>18</td><td>Nellie   </td><td>1880</td><td>F</td><td> 995</td></tr>\n",
       "\t<tr><td>21</td><td>Maude    </td><td>1880</td><td>F</td><td> 858</td></tr>\n",
       "</tbody>\n",
       "</table>\n"
      ],
      "text/latex": [
       "A data.frame: 6 × 5\n",
       "\\begin{tabular}{r|lllll}\n",
       " Id & Name & Year & Gender & Count\\\\\n",
       " <int> & <fct> & <int> & <fct> & <int>\\\\\n",
       "\\hline\n",
       "\t  4 & Elizabeth & 1880 & F & 1939\\\\\n",
       "\t  8 & Alice     & 1880 & F & 1414\\\\\n",
       "\t 12 & Clara     & 1880 & F & 1226\\\\\n",
       "\t 13 & Ella      & 1880 & F & 1156\\\\\n",
       "\t 18 & Nellie    & 1880 & F &  995\\\\\n",
       "\t 21 & Maude     & 1880 & F &  858\\\\\n",
       "\\end{tabular}\n"
      ],
      "text/markdown": [
       "\n",
       "A data.frame: 6 × 5\n",
       "\n",
       "| Id &lt;int&gt; | Name &lt;fct&gt; | Year &lt;int&gt; | Gender &lt;fct&gt; | Count &lt;int&gt; |\n",
       "|---|---|---|---|---|\n",
       "|  4 | Elizabeth | 1880 | F | 1939 |\n",
       "|  8 | Alice     | 1880 | F | 1414 |\n",
       "| 12 | Clara     | 1880 | F | 1226 |\n",
       "| 13 | Ella      | 1880 | F | 1156 |\n",
       "| 18 | Nellie    | 1880 | F |  995 |\n",
       "| 21 | Maude     | 1880 | F |  858 |\n",
       "\n"
      ],
      "text/plain": [
       "  Id Name      Year Gender Count\n",
       "1  4 Elizabeth 1880 F      1939 \n",
       "2  8 Alice     1880 F      1414 \n",
       "3 12 Clara     1880 F      1226 \n",
       "4 13 Ella      1880 F      1156 \n",
       "5 18 Nellie    1880 F       995 \n",
       "6 21 Maude     1880 F       858 "
      ]
     },
     "metadata": {},
     "output_type": "display_data"
    }
   ],
   "source": [
    "df <- read.csv('/dsa/data/all_datasets/baby-names/NationalNames2.csv')\n",
    "\n",
    "head(df)"
   ]
  },
  {
   "cell_type": "markdown",
   "metadata": {},
   "source": [
    "Now that the data is read in, how would you remove the `Id` column from the dataframe in `R`. Remember, `R` is very flexible so there are several ways to remove columns. Do the following:\n",
    "\n",
    "**Activity 1**: Remove the column `Id` from the dataframe and rename this data frame, `df`.\n",
    "\n",
    "**Activity 2**: Find the dimensions (the number of rows and columns) of this updated data frame. *Hint: You will have to look up the function to do this as it was not mentioned in the lab*. \n",
    "\n",
    "**Activity 3**: Display the ***last*** 10 columns of the updated data frame."
   ]
  },
  {
   "cell_type": "code",
   "execution_count": 2,
   "metadata": {},
   "outputs": [],
   "source": [
    "#' Code for Activity 1 goes here -----------------------\n",
    "\n",
    "df <- subset(df, select = -Id)"
   ]
  },
  {
   "cell_type": "code",
   "execution_count": 3,
   "metadata": {},
   "outputs": [
    {
     "data": {
      "text/html": [
       "<ol class=list-inline>\n",
       "\t<li>608892</li>\n",
       "\t<li>4</li>\n",
       "</ol>\n"
      ],
      "text/latex": [
       "\\begin{enumerate*}\n",
       "\\item 608892\n",
       "\\item 4\n",
       "\\end{enumerate*}\n"
      ],
      "text/markdown": [
       "1. 608892\n",
       "2. 4\n",
       "\n",
       "\n"
      ],
      "text/plain": [
       "[1] 608892      4"
      ]
     },
     "metadata": {},
     "output_type": "display_data"
    },
    {
     "data": {
      "text/html": [
       "608892"
      ],
      "text/latex": [
       "608892"
      ],
      "text/markdown": [
       "608892"
      ],
      "text/plain": [
       "[1] 608892"
      ]
     },
     "metadata": {},
     "output_type": "display_data"
    },
    {
     "data": {
      "text/html": [
       "4"
      ],
      "text/latex": [
       "4"
      ],
      "text/markdown": [
       "4"
      ],
      "text/plain": [
       "[1] 4"
      ]
     },
     "metadata": {},
     "output_type": "display_data"
    }
   ],
   "source": [
    "#' Code for Activity 2 goes here -----------------------\n",
    "\n",
    "dim(df)\n",
    "\n",
    "# Or\n",
    "\n",
    "nrow(df)\n",
    "ncol(df)"
   ]
  },
  {
   "cell_type": "code",
   "execution_count": 4,
   "metadata": {},
   "outputs": [
    {
     "data": {
      "text/html": [
       "<table>\n",
       "<caption>A data.frame: 6 × 4</caption>\n",
       "<thead>\n",
       "\t<tr><th></th><th scope=col>Name</th><th scope=col>Year</th><th scope=col>Gender</th><th scope=col>Count</th></tr>\n",
       "\t<tr><th></th><th scope=col>&lt;fct&gt;</th><th scope=col>&lt;int&gt;</th><th scope=col>&lt;fct&gt;</th><th scope=col>&lt;int&gt;</th></tr>\n",
       "</thead>\n",
       "<tbody>\n",
       "\t<tr><th scope=row>608887</th><td>Zijun</td><td>2014</td><td>M</td><td>5</td></tr>\n",
       "\t<tr><th scope=row>608888</th><td>Zirui</td><td>2014</td><td>M</td><td>5</td></tr>\n",
       "\t<tr><th scope=row>608889</th><td>Zo   </td><td>2014</td><td>M</td><td>5</td></tr>\n",
       "\t<tr><th scope=row>608890</th><td>Zyel </td><td>2014</td><td>M</td><td>5</td></tr>\n",
       "\t<tr><th scope=row>608891</th><td>Zyran</td><td>2014</td><td>M</td><td>5</td></tr>\n",
       "\t<tr><th scope=row>608892</th><td>Zyrin</td><td>2014</td><td>M</td><td>5</td></tr>\n",
       "</tbody>\n",
       "</table>\n"
      ],
      "text/latex": [
       "A data.frame: 6 × 4\n",
       "\\begin{tabular}{r|llll}\n",
       "  & Name & Year & Gender & Count\\\\\n",
       "  & <fct> & <int> & <fct> & <int>\\\\\n",
       "\\hline\n",
       "\t608887 & Zijun & 2014 & M & 5\\\\\n",
       "\t608888 & Zirui & 2014 & M & 5\\\\\n",
       "\t608889 & Zo    & 2014 & M & 5\\\\\n",
       "\t608890 & Zyel  & 2014 & M & 5\\\\\n",
       "\t608891 & Zyran & 2014 & M & 5\\\\\n",
       "\t608892 & Zyrin & 2014 & M & 5\\\\\n",
       "\\end{tabular}\n"
      ],
      "text/markdown": [
       "\n",
       "A data.frame: 6 × 4\n",
       "\n",
       "| <!--/--> | Name &lt;fct&gt; | Year &lt;int&gt; | Gender &lt;fct&gt; | Count &lt;int&gt; |\n",
       "|---|---|---|---|---|\n",
       "| 608887 | Zijun | 2014 | M | 5 |\n",
       "| 608888 | Zirui | 2014 | M | 5 |\n",
       "| 608889 | Zo    | 2014 | M | 5 |\n",
       "| 608890 | Zyel  | 2014 | M | 5 |\n",
       "| 608891 | Zyran | 2014 | M | 5 |\n",
       "| 608892 | Zyrin | 2014 | M | 5 |\n",
       "\n"
      ],
      "text/plain": [
       "       Name  Year Gender Count\n",
       "608887 Zijun 2014 M      5    \n",
       "608888 Zirui 2014 M      5    \n",
       "608889 Zo    2014 M      5    \n",
       "608890 Zyel  2014 M      5    \n",
       "608891 Zyran 2014 M      5    \n",
       "608892 Zyrin 2014 M      5    "
      ]
     },
     "metadata": {},
     "output_type": "display_data"
    }
   ],
   "source": [
    "#' Code for Activity 3 goes here -----------------------\n",
    "tail(df)\n"
   ]
  },
  {
   "cell_type": "markdown",
   "metadata": {},
   "source": [
    "Below is one of the ways that you can subset a data frame. Run the code below to see what it returns."
   ]
  },
  {
   "cell_type": "code",
   "execution_count": 5,
   "metadata": {},
   "outputs": [
    {
     "data": {
      "text/html": [
       "<table>\n",
       "<caption>A data.frame: 6 × 4</caption>\n",
       "<thead>\n",
       "\t<tr><th></th><th scope=col>Name</th><th scope=col>Year</th><th scope=col>Gender</th><th scope=col>Count</th></tr>\n",
       "\t<tr><th></th><th scope=col>&lt;fct&gt;</th><th scope=col>&lt;int&gt;</th><th scope=col>&lt;fct&gt;</th><th scope=col>&lt;int&gt;</th></tr>\n",
       "</thead>\n",
       "<tbody>\n",
       "\t<tr><th scope=row>330</th><td>Charles</td><td>1880</td><td>M</td><td>5348</td></tr>\n",
       "\t<tr><th scope=row>331</th><td>Thomas </td><td>1880</td><td>M</td><td>2534</td></tr>\n",
       "\t<tr><th scope=row>985</th><td>James  </td><td>1881</td><td>M</td><td>5442</td></tr>\n",
       "\t<tr><th scope=row>986</th><td>Frank  </td><td>1881</td><td>M</td><td>2834</td></tr>\n",
       "\t<tr><th scope=row>987</th><td>Thomas </td><td>1881</td><td>M</td><td>2282</td></tr>\n",
       "\t<tr><th scope=row>988</th><td>Robert </td><td>1881</td><td>M</td><td>2140</td></tr>\n",
       "</tbody>\n",
       "</table>\n"
      ],
      "text/latex": [
       "A data.frame: 6 × 4\n",
       "\\begin{tabular}{r|llll}\n",
       "  & Name & Year & Gender & Count\\\\\n",
       "  & <fct> & <int> & <fct> & <int>\\\\\n",
       "\\hline\n",
       "\t330 & Charles & 1880 & M & 5348\\\\\n",
       "\t331 & Thomas  & 1880 & M & 2534\\\\\n",
       "\t985 & James   & 1881 & M & 5442\\\\\n",
       "\t986 & Frank   & 1881 & M & 2834\\\\\n",
       "\t987 & Thomas  & 1881 & M & 2282\\\\\n",
       "\t988 & Robert  & 1881 & M & 2140\\\\\n",
       "\\end{tabular}\n"
      ],
      "text/markdown": [
       "\n",
       "A data.frame: 6 × 4\n",
       "\n",
       "| <!--/--> | Name &lt;fct&gt; | Year &lt;int&gt; | Gender &lt;fct&gt; | Count &lt;int&gt; |\n",
       "|---|---|---|---|---|\n",
       "| 330 | Charles | 1880 | M | 5348 |\n",
       "| 331 | Thomas  | 1880 | M | 2534 |\n",
       "| 985 | James   | 1881 | M | 5442 |\n",
       "| 986 | Frank   | 1881 | M | 2834 |\n",
       "| 987 | Thomas  | 1881 | M | 2282 |\n",
       "| 988 | Robert  | 1881 | M | 2140 |\n",
       "\n"
      ],
      "text/plain": [
       "    Name    Year Gender Count\n",
       "330 Charles 1880 M      5348 \n",
       "331 Thomas  1880 M      2534 \n",
       "985 James   1881 M      5442 \n",
       "986 Frank   1881 M      2834 \n",
       "987 Thomas  1881 M      2282 \n",
       "988 Robert  1881 M      2140 "
      ]
     },
     "metadata": {},
     "output_type": "display_data"
    }
   ],
   "source": [
    "head(df[df$Count > 2000,])"
   ]
  },
  {
   "cell_type": "markdown",
   "metadata": {},
   "source": [
    "The bit of code only returns the first few rows of data but, in reality, there are lot more rows.\n",
    "\n",
    "**Activity 4**: *Find out how many rows where the `Count` is greater than 2000.*"
   ]
  },
  {
   "cell_type": "code",
   "execution_count": 6,
   "metadata": {},
   "outputs": [
    {
     "data": {
      "text/html": [
       "10092"
      ],
      "text/latex": [
       "10092"
      ],
      "text/markdown": [
       "10092"
      ],
      "text/plain": [
       "[1] 10092"
      ]
     },
     "metadata": {},
     "output_type": "display_data"
    }
   ],
   "source": [
    "#' Code for Activity 4 goes here -----------------------\n",
    "\n",
    "nrow(df[df$Count > 2000,])"
   ]
  },
  {
   "cell_type": "markdown",
   "metadata": {},
   "source": [
    "Now let's say that we were interested in only male names, particularly those names that are popular and not so popular.\n",
    "\n",
    "**Activity 5**: subset the data set for rows where the gender is male and the count is above 2000 and below 100."
   ]
  },
  {
   "cell_type": "code",
   "execution_count": 7,
   "metadata": {},
   "outputs": [
    {
     "data": {
      "text/html": [
       "221572"
      ],
      "text/latex": [
       "221572"
      ],
      "text/markdown": [
       "221572"
      ],
      "text/plain": [
       "[1] 221572"
      ]
     },
     "metadata": {},
     "output_type": "display_data"
    }
   ],
   "source": [
    "#' Code for Activity 5 goes here -----------------------\n",
    "\n",
    "nrow(df[df$Gender == 'M' & c(df$Count > 2000 | df$Count < 100),])\n"
   ]
  },
  {
   "cell_type": "markdown",
   "metadata": {},
   "source": [
    "Imagine we were interested in names during a certain time period and we didn't need any of the data for the years were were not interested in. Let's say we were interested in names from the year 1950 through 1965. Below is one way to subset based on a specific year."
   ]
  },
  {
   "cell_type": "code",
   "execution_count": 8,
   "metadata": {},
   "outputs": [
    {
     "data": {
      "text/html": [
       "<table>\n",
       "<caption>A data.frame: 6 × 4</caption>\n",
       "<thead>\n",
       "\t<tr><th></th><th scope=col>Name</th><th scope=col>Year</th><th scope=col>Gender</th><th scope=col>Count</th></tr>\n",
       "\t<tr><th></th><th scope=col>&lt;fct&gt;</th><th scope=col>&lt;int&gt;</th><th scope=col>&lt;fct&gt;</th><th scope=col>&lt;int&gt;</th></tr>\n",
       "</thead>\n",
       "<tbody>\n",
       "\t<tr><th scope=row>153876</th><td>Mary   </td><td>1950</td><td>F</td><td>65460</td></tr>\n",
       "\t<tr><th scope=row>153877</th><td>Nancy  </td><td>1950</td><td>F</td><td>29621</td></tr>\n",
       "\t<tr><th scope=row>153878</th><td>Deborah</td><td>1950</td><td>F</td><td>29071</td></tr>\n",
       "\t<tr><th scope=row>153879</th><td>Sandra </td><td>1950</td><td>F</td><td>28893</td></tr>\n",
       "\t<tr><th scope=row>153880</th><td>Karen  </td><td>1950</td><td>F</td><td>24139</td></tr>\n",
       "\t<tr><th scope=row>153881</th><td>Pamela </td><td>1950</td><td>F</td><td>16200</td></tr>\n",
       "</tbody>\n",
       "</table>\n"
      ],
      "text/latex": [
       "A data.frame: 6 × 4\n",
       "\\begin{tabular}{r|llll}\n",
       "  & Name & Year & Gender & Count\\\\\n",
       "  & <fct> & <int> & <fct> & <int>\\\\\n",
       "\\hline\n",
       "\t153876 & Mary    & 1950 & F & 65460\\\\\n",
       "\t153877 & Nancy   & 1950 & F & 29621\\\\\n",
       "\t153878 & Deborah & 1950 & F & 29071\\\\\n",
       "\t153879 & Sandra  & 1950 & F & 28893\\\\\n",
       "\t153880 & Karen   & 1950 & F & 24139\\\\\n",
       "\t153881 & Pamela  & 1950 & F & 16200\\\\\n",
       "\\end{tabular}\n"
      ],
      "text/markdown": [
       "\n",
       "A data.frame: 6 × 4\n",
       "\n",
       "| <!--/--> | Name &lt;fct&gt; | Year &lt;int&gt; | Gender &lt;fct&gt; | Count &lt;int&gt; |\n",
       "|---|---|---|---|---|\n",
       "| 153876 | Mary    | 1950 | F | 65460 |\n",
       "| 153877 | Nancy   | 1950 | F | 29621 |\n",
       "| 153878 | Deborah | 1950 | F | 29071 |\n",
       "| 153879 | Sandra  | 1950 | F | 28893 |\n",
       "| 153880 | Karen   | 1950 | F | 24139 |\n",
       "| 153881 | Pamela  | 1950 | F | 16200 |\n",
       "\n"
      ],
      "text/plain": [
       "       Name    Year Gender Count\n",
       "153876 Mary    1950 F      65460\n",
       "153877 Nancy   1950 F      29621\n",
       "153878 Deborah 1950 F      29071\n",
       "153879 Sandra  1950 F      28893\n",
       "153880 Karen   1950 F      24139\n",
       "153881 Pamela  1950 F      16200"
      ]
     },
     "metadata": {},
     "output_type": "display_data"
    },
    {
     "data": {
      "text/html": [
       "<table>\n",
       "<caption>A data.frame: 6 × 4</caption>\n",
       "<thead>\n",
       "\t<tr><th></th><th scope=col>Name</th><th scope=col>Year</th><th scope=col>Gender</th><th scope=col>Count</th></tr>\n",
       "\t<tr><th></th><th scope=col>&lt;fct&gt;</th><th scope=col>&lt;int&gt;</th><th scope=col>&lt;fct&gt;</th><th scope=col>&lt;int&gt;</th></tr>\n",
       "</thead>\n",
       "<tbody>\n",
       "\t<tr><th scope=row>211248</th><td>Patricia</td><td>1965</td><td>F</td><td>23554</td></tr>\n",
       "\t<tr><th scope=row>211249</th><td>Linda   </td><td>1965</td><td>F</td><td>19339</td></tr>\n",
       "\t<tr><th scope=row>211250</th><td>Michelle</td><td>1965</td><td>F</td><td>16215</td></tr>\n",
       "\t<tr><th scope=row>211251</th><td>Lori    </td><td>1965</td><td>F</td><td>15698</td></tr>\n",
       "\t<tr><th scope=row>211252</th><td>Teresa  </td><td>1965</td><td>F</td><td>14578</td></tr>\n",
       "\t<tr><th scope=row>211253</th><td>Barbara </td><td>1965</td><td>F</td><td>14026</td></tr>\n",
       "</tbody>\n",
       "</table>\n"
      ],
      "text/latex": [
       "A data.frame: 6 × 4\n",
       "\\begin{tabular}{r|llll}\n",
       "  & Name & Year & Gender & Count\\\\\n",
       "  & <fct> & <int> & <fct> & <int>\\\\\n",
       "\\hline\n",
       "\t211248 & Patricia & 1965 & F & 23554\\\\\n",
       "\t211249 & Linda    & 1965 & F & 19339\\\\\n",
       "\t211250 & Michelle & 1965 & F & 16215\\\\\n",
       "\t211251 & Lori     & 1965 & F & 15698\\\\\n",
       "\t211252 & Teresa   & 1965 & F & 14578\\\\\n",
       "\t211253 & Barbara  & 1965 & F & 14026\\\\\n",
       "\\end{tabular}\n"
      ],
      "text/markdown": [
       "\n",
       "A data.frame: 6 × 4\n",
       "\n",
       "| <!--/--> | Name &lt;fct&gt; | Year &lt;int&gt; | Gender &lt;fct&gt; | Count &lt;int&gt; |\n",
       "|---|---|---|---|---|\n",
       "| 211248 | Patricia | 1965 | F | 23554 |\n",
       "| 211249 | Linda    | 1965 | F | 19339 |\n",
       "| 211250 | Michelle | 1965 | F | 16215 |\n",
       "| 211251 | Lori     | 1965 | F | 15698 |\n",
       "| 211252 | Teresa   | 1965 | F | 14578 |\n",
       "| 211253 | Barbara  | 1965 | F | 14026 |\n",
       "\n"
      ],
      "text/plain": [
       "       Name     Year Gender Count\n",
       "211248 Patricia 1965 F      23554\n",
       "211249 Linda    1965 F      19339\n",
       "211250 Michelle 1965 F      16215\n",
       "211251 Lori     1965 F      15698\n",
       "211252 Teresa   1965 F      14578\n",
       "211253 Barbara  1965 F      14026"
      ]
     },
     "metadata": {},
     "output_type": "display_data"
    }
   ],
   "source": [
    "df1950 <- head(df[df$Year == 1950,])\n",
    "df1965 <- head(df[df$Year == 1965,])\n",
    "\n",
    "comb <- rbind(df1950,df1965)\n",
    "\n",
    "head(comb);tail(comb)"
   ]
  },
  {
   "cell_type": "markdown",
   "metadata": {},
   "source": [
    "**Questions**\n",
    "1. What does the `rbind` function do?\n",
    "2. Describe what the code above is doing."
   ]
  },
  {
   "cell_type": "code",
   "execution_count": 9,
   "metadata": {},
   "outputs": [],
   "source": [
    "?rbind"
   ]
  },
  {
   "cell_type": "raw",
   "metadata": {},
   "source": [
    "Answer the questions above here.\n",
    "1.\n",
    "\n",
    "rbind takes a sequence (vector, matrix, data-frame) of arguments and combines by columns or rows\n",
    "\n",
    "2.\n",
    "\n",
    "The above code stores the head (first 6 elements) of 2 df subsets based on Year = 1950 and Year = 1965.\n",
    "The rbind funciton is then used to combine the two subsets (df1950 + df1965) into one combined data frame.\n",
    "Finally, the head and tail of the new combined df are printed out.\n"
   ]
  },
  {
   "cell_type": "markdown",
   "metadata": {},
   "source": [
    "Well, the above code would be extremely inefficient when trying to find all of the names between the years 1950 and 1965. How might you subset the data frame based off names between the year 1950 through 1965 without subsetting each year seperately. \n",
    "\n",
    "**Activity 6**: *Subset the data frame based off names between the year 1950 through 1965 without subsetting each year seperately.*"
   ]
  },
  {
   "cell_type": "code",
   "execution_count": 10,
   "metadata": {},
   "outputs": [
    {
     "data": {
      "text/html": [
       "<table>\n",
       "<caption>A data.frame: 6 × 4</caption>\n",
       "<thead>\n",
       "\t<tr><th></th><th scope=col>Name</th><th scope=col>Year</th><th scope=col>Gender</th><th scope=col>Count</th></tr>\n",
       "\t<tr><th></th><th scope=col>&lt;fct&gt;</th><th scope=col>&lt;int&gt;</th><th scope=col>&lt;fct&gt;</th><th scope=col>&lt;int&gt;</th></tr>\n",
       "</thead>\n",
       "<tbody>\n",
       "\t<tr><th scope=row>153876</th><td>Mary   </td><td>1950</td><td>F</td><td>65460</td></tr>\n",
       "\t<tr><th scope=row>153877</th><td>Nancy  </td><td>1950</td><td>F</td><td>29621</td></tr>\n",
       "\t<tr><th scope=row>153878</th><td>Deborah</td><td>1950</td><td>F</td><td>29071</td></tr>\n",
       "\t<tr><th scope=row>153879</th><td>Sandra </td><td>1950</td><td>F</td><td>28893</td></tr>\n",
       "\t<tr><th scope=row>153880</th><td>Karen  </td><td>1950</td><td>F</td><td>24139</td></tr>\n",
       "\t<tr><th scope=row>153881</th><td>Pamela </td><td>1950</td><td>F</td><td>16200</td></tr>\n",
       "</tbody>\n",
       "</table>\n"
      ],
      "text/latex": [
       "A data.frame: 6 × 4\n",
       "\\begin{tabular}{r|llll}\n",
       "  & Name & Year & Gender & Count\\\\\n",
       "  & <fct> & <int> & <fct> & <int>\\\\\n",
       "\\hline\n",
       "\t153876 & Mary    & 1950 & F & 65460\\\\\n",
       "\t153877 & Nancy   & 1950 & F & 29621\\\\\n",
       "\t153878 & Deborah & 1950 & F & 29071\\\\\n",
       "\t153879 & Sandra  & 1950 & F & 28893\\\\\n",
       "\t153880 & Karen   & 1950 & F & 24139\\\\\n",
       "\t153881 & Pamela  & 1950 & F & 16200\\\\\n",
       "\\end{tabular}\n"
      ],
      "text/markdown": [
       "\n",
       "A data.frame: 6 × 4\n",
       "\n",
       "| <!--/--> | Name &lt;fct&gt; | Year &lt;int&gt; | Gender &lt;fct&gt; | Count &lt;int&gt; |\n",
       "|---|---|---|---|---|\n",
       "| 153876 | Mary    | 1950 | F | 65460 |\n",
       "| 153877 | Nancy   | 1950 | F | 29621 |\n",
       "| 153878 | Deborah | 1950 | F | 29071 |\n",
       "| 153879 | Sandra  | 1950 | F | 28893 |\n",
       "| 153880 | Karen   | 1950 | F | 24139 |\n",
       "| 153881 | Pamela  | 1950 | F | 16200 |\n",
       "\n"
      ],
      "text/plain": [
       "       Name    Year Gender Count\n",
       "153876 Mary    1950 F      65460\n",
       "153877 Nancy   1950 F      29621\n",
       "153878 Deborah 1950 F      29071\n",
       "153879 Sandra  1950 F      28893\n",
       "153880 Karen   1950 F      24139\n",
       "153881 Pamela  1950 F      16200"
      ]
     },
     "metadata": {},
     "output_type": "display_data"
    },
    {
     "data": {
      "text/html": [
       "<table>\n",
       "<caption>A data.frame: 6 × 4</caption>\n",
       "<thead>\n",
       "\t<tr><th></th><th scope=col>Name</th><th scope=col>Year</th><th scope=col>Gender</th><th scope=col>Count</th></tr>\n",
       "\t<tr><th></th><th scope=col>&lt;fct&gt;</th><th scope=col>&lt;int&gt;</th><th scope=col>&lt;fct&gt;</th><th scope=col>&lt;int&gt;</th></tr>\n",
       "</thead>\n",
       "<tbody>\n",
       "\t<tr><th scope=row>215204</th><td>Tylon </td><td>1965</td><td>M</td><td>5</td></tr>\n",
       "\t<tr><th scope=row>215205</th><td>Tyre  </td><td>1965</td><td>M</td><td>5</td></tr>\n",
       "\t<tr><th scope=row>215206</th><td>Vahe  </td><td>1965</td><td>M</td><td>5</td></tr>\n",
       "\t<tr><th scope=row>215207</th><td>Vyron </td><td>1965</td><td>M</td><td>5</td></tr>\n",
       "\t<tr><th scope=row>215208</th><td>Wadell</td><td>1965</td><td>M</td><td>5</td></tr>\n",
       "\t<tr><th scope=row>215209</th><td>Wane  </td><td>1965</td><td>M</td><td>5</td></tr>\n",
       "</tbody>\n",
       "</table>\n"
      ],
      "text/latex": [
       "A data.frame: 6 × 4\n",
       "\\begin{tabular}{r|llll}\n",
       "  & Name & Year & Gender & Count\\\\\n",
       "  & <fct> & <int> & <fct> & <int>\\\\\n",
       "\\hline\n",
       "\t215204 & Tylon  & 1965 & M & 5\\\\\n",
       "\t215205 & Tyre   & 1965 & M & 5\\\\\n",
       "\t215206 & Vahe   & 1965 & M & 5\\\\\n",
       "\t215207 & Vyron  & 1965 & M & 5\\\\\n",
       "\t215208 & Wadell & 1965 & M & 5\\\\\n",
       "\t215209 & Wane   & 1965 & M & 5\\\\\n",
       "\\end{tabular}\n"
      ],
      "text/markdown": [
       "\n",
       "A data.frame: 6 × 4\n",
       "\n",
       "| <!--/--> | Name &lt;fct&gt; | Year &lt;int&gt; | Gender &lt;fct&gt; | Count &lt;int&gt; |\n",
       "|---|---|---|---|---|\n",
       "| 215204 | Tylon  | 1965 | M | 5 |\n",
       "| 215205 | Tyre   | 1965 | M | 5 |\n",
       "| 215206 | Vahe   | 1965 | M | 5 |\n",
       "| 215207 | Vyron  | 1965 | M | 5 |\n",
       "| 215208 | Wadell | 1965 | M | 5 |\n",
       "| 215209 | Wane   | 1965 | M | 5 |\n",
       "\n"
      ],
      "text/plain": [
       "       Name   Year Gender Count\n",
       "215204 Tylon  1965 M      5    \n",
       "215205 Tyre   1965 M      5    \n",
       "215206 Vahe   1965 M      5    \n",
       "215207 Vyron  1965 M      5    \n",
       "215208 Wadell 1965 M      5    \n",
       "215209 Wane   1965 M      5    "
      ]
     },
     "metadata": {},
     "output_type": "display_data"
    }
   ],
   "source": [
    "#' Code for Activity 6 goes here -----------------------\n",
    "\n",
    "df1950.1965 <- subset(df[c(df$Year == 1950 | df$Year == 1965),])\n",
    "\n",
    "head(df1950.1965)\n",
    "tail(df1950.1965)\n"
   ]
  },
  {
   "cell_type": "markdown",
   "metadata": {},
   "source": [
    "## A Bit of Sorting\n",
    "\n",
    "The code below sorts the data frame based of `Count`, but we can also sort the data alphabetically off of a column of strings.\n"
   ]
  },
  {
   "cell_type": "code",
   "execution_count": 11,
   "metadata": {},
   "outputs": [
    {
     "data": {
      "text/html": [
       "<table>\n",
       "<caption>A data.frame: 6 × 4</caption>\n",
       "<thead>\n",
       "\t<tr><th></th><th scope=col>Name</th><th scope=col>Year</th><th scope=col>Gender</th><th scope=col>Count</th></tr>\n",
       "\t<tr><th></th><th scope=col>&lt;fct&gt;</th><th scope=col>&lt;int&gt;</th><th scope=col>&lt;fct&gt;</th><th scope=col>&lt;int&gt;</th></tr>\n",
       "</thead>\n",
       "<tbody>\n",
       "\t<tr><th scope=row>295</th><td>Adrienne </td><td>1880</td><td>F</td><td>5</td></tr>\n",
       "\t<tr><th scope=row>296</th><td>Albertine</td><td>1880</td><td>F</td><td>5</td></tr>\n",
       "\t<tr><th scope=row>297</th><td>Alys     </td><td>1880</td><td>F</td><td>5</td></tr>\n",
       "\t<tr><th scope=row>298</th><td>Celie    </td><td>1880</td><td>F</td><td>5</td></tr>\n",
       "\t<tr><th scope=row>299</th><td>Cordella </td><td>1880</td><td>F</td><td>5</td></tr>\n",
       "\t<tr><th scope=row>300</th><td>Corrine  </td><td>1880</td><td>F</td><td>5</td></tr>\n",
       "</tbody>\n",
       "</table>\n"
      ],
      "text/latex": [
       "A data.frame: 6 × 4\n",
       "\\begin{tabular}{r|llll}\n",
       "  & Name & Year & Gender & Count\\\\\n",
       "  & <fct> & <int> & <fct> & <int>\\\\\n",
       "\\hline\n",
       "\t295 & Adrienne  & 1880 & F & 5\\\\\n",
       "\t296 & Albertine & 1880 & F & 5\\\\\n",
       "\t297 & Alys      & 1880 & F & 5\\\\\n",
       "\t298 & Celie     & 1880 & F & 5\\\\\n",
       "\t299 & Cordella  & 1880 & F & 5\\\\\n",
       "\t300 & Corrine   & 1880 & F & 5\\\\\n",
       "\\end{tabular}\n"
      ],
      "text/markdown": [
       "\n",
       "A data.frame: 6 × 4\n",
       "\n",
       "| <!--/--> | Name &lt;fct&gt; | Year &lt;int&gt; | Gender &lt;fct&gt; | Count &lt;int&gt; |\n",
       "|---|---|---|---|---|\n",
       "| 295 | Adrienne  | 1880 | F | 5 |\n",
       "| 296 | Albertine | 1880 | F | 5 |\n",
       "| 297 | Alys      | 1880 | F | 5 |\n",
       "| 298 | Celie     | 1880 | F | 5 |\n",
       "| 299 | Cordella  | 1880 | F | 5 |\n",
       "| 300 | Corrine   | 1880 | F | 5 |\n",
       "\n"
      ],
      "text/plain": [
       "    Name      Year Gender Count\n",
       "295 Adrienne  1880 F      5    \n",
       "296 Albertine 1880 F      5    \n",
       "297 Alys      1880 F      5    \n",
       "298 Celie     1880 F      5    \n",
       "299 Cordella  1880 F      5    \n",
       "300 Corrine   1880 F      5    "
      ]
     },
     "metadata": {},
     "output_type": "display_data"
    }
   ],
   "source": [
    "head(df[order(df$Count),])"
   ]
  },
  {
   "cell_type": "markdown",
   "metadata": {},
   "source": [
    "**Activity 7**: Sort the data frame based on `Name` where the names starting with \"Z\" are on the top of the frame."
   ]
  },
  {
   "cell_type": "code",
   "execution_count": 12,
   "metadata": {},
   "outputs": [],
   "source": [
    "?order"
   ]
  },
  {
   "cell_type": "code",
   "execution_count": 20,
   "metadata": {},
   "outputs": [
    {
     "data": {
      "text/html": [
       "<table>\n",
       "<caption>A data.frame: 6 × 4</caption>\n",
       "<thead>\n",
       "\t<tr><th></th><th scope=col>Name</th><th scope=col>Year</th><th scope=col>Gender</th><th scope=col>Count</th></tr>\n",
       "\t<tr><th></th><th scope=col>&lt;fct&gt;</th><th scope=col>&lt;int&gt;</th><th scope=col>&lt;fct&gt;</th><th scope=col>&lt;int&gt;</th></tr>\n",
       "</thead>\n",
       "<tbody>\n",
       "\t<tr><th scope=row>563987</th><td>Zzyzx    </td><td>2010</td><td>M</td><td> 5</td></tr>\n",
       "\t<tr><th scope=row>552813</th><td>Zyvion   </td><td>2009</td><td>M</td><td> 5</td></tr>\n",
       "\t<tr><th scope=row>506575</th><td>Zytavious</td><td>2005</td><td>M</td><td> 5</td></tr>\n",
       "\t<tr><th scope=row>573751</th><td>Zytaveon </td><td>2011</td><td>M</td><td> 8</td></tr>\n",
       "\t<tr><th scope=row>462463</th><td>Zyshonne </td><td>2001</td><td>M</td><td>12</td></tr>\n",
       "\t<tr><th scope=row>506574</th><td>Zyshon   </td><td>2005</td><td>M</td><td> 5</td></tr>\n",
       "</tbody>\n",
       "</table>\n"
      ],
      "text/latex": [
       "A data.frame: 6 × 4\n",
       "\\begin{tabular}{r|llll}\n",
       "  & Name & Year & Gender & Count\\\\\n",
       "  & <fct> & <int> & <fct> & <int>\\\\\n",
       "\\hline\n",
       "\t563987 & Zzyzx     & 2010 & M &  5\\\\\n",
       "\t552813 & Zyvion    & 2009 & M &  5\\\\\n",
       "\t506575 & Zytavious & 2005 & M &  5\\\\\n",
       "\t573751 & Zytaveon  & 2011 & M &  8\\\\\n",
       "\t462463 & Zyshonne  & 2001 & M & 12\\\\\n",
       "\t506574 & Zyshon    & 2005 & M &  5\\\\\n",
       "\\end{tabular}\n"
      ],
      "text/markdown": [
       "\n",
       "A data.frame: 6 × 4\n",
       "\n",
       "| <!--/--> | Name &lt;fct&gt; | Year &lt;int&gt; | Gender &lt;fct&gt; | Count &lt;int&gt; |\n",
       "|---|---|---|---|---|\n",
       "| 563987 | Zzyzx     | 2010 | M |  5 |\n",
       "| 552813 | Zyvion    | 2009 | M |  5 |\n",
       "| 506575 | Zytavious | 2005 | M |  5 |\n",
       "| 573751 | Zytaveon  | 2011 | M |  8 |\n",
       "| 462463 | Zyshonne  | 2001 | M | 12 |\n",
       "| 506574 | Zyshon    | 2005 | M |  5 |\n",
       "\n"
      ],
      "text/plain": [
       "       Name      Year Gender Count\n",
       "563987 Zzyzx     2010 M       5   \n",
       "552813 Zyvion    2009 M       5   \n",
       "506575 Zytavious 2005 M       5   \n",
       "573751 Zytaveon  2011 M       8   \n",
       "462463 Zyshonne  2001 M      12   \n",
       "506574 Zyshon    2005 M       5   "
      ]
     },
     "metadata": {},
     "output_type": "display_data"
    }
   ],
   "source": [
    "#' Code for Activity 7 goes here -----------------------\n",
    "\n",
    "head(df[order(df$Name, decreasing=TRUE),])"
   ]
  },
  {
   "cell_type": "markdown",
   "metadata": {},
   "source": [
    "## Manipulating data with dplyr\n",
    "\n",
    "`dplyr` makes manipulating data a bit simpler. Take a look at the code below."
   ]
  },
  {
   "cell_type": "code",
   "execution_count": 21,
   "metadata": {},
   "outputs": [
    {
     "name": "stderr",
     "output_type": "stream",
     "text": [
      "\n",
      "Attaching package: ‘dplyr’\n",
      "\n",
      "The following objects are masked from ‘package:stats’:\n",
      "\n",
      "    filter, lag\n",
      "\n",
      "The following objects are masked from ‘package:base’:\n",
      "\n",
      "    intersect, setdiff, setequal, union\n",
      "\n"
     ]
    },
    {
     "data": {
      "text/html": [
       "<table>\n",
       "<caption>A data.frame: 6 × 4</caption>\n",
       "<thead>\n",
       "\t<tr><th scope=col>Name</th><th scope=col>Year</th><th scope=col>Gender</th><th scope=col>Count</th></tr>\n",
       "\t<tr><th scope=col>&lt;fct&gt;</th><th scope=col>&lt;int&gt;</th><th scope=col>&lt;fct&gt;</th><th scope=col>&lt;int&gt;</th></tr>\n",
       "</thead>\n",
       "<tbody>\n",
       "\t<tr><td>Linda</td><td>1952</td><td>F</td><td>67096</td></tr>\n",
       "\t<tr><td>Linda</td><td>1953</td><td>F</td><td>61244</td></tr>\n",
       "\t<tr><td>Linda</td><td>1946</td><td>F</td><td>52708</td></tr>\n",
       "\t<tr><td>Linda</td><td>1955</td><td>F</td><td>51275</td></tr>\n",
       "\t<tr><td>Linda</td><td>1957</td><td>F</td><td>44496</td></tr>\n",
       "\t<tr><td>Linda</td><td>1945</td><td>F</td><td>41465</td></tr>\n",
       "</tbody>\n",
       "</table>\n"
      ],
      "text/latex": [
       "A data.frame: 6 × 4\n",
       "\\begin{tabular}{r|llll}\n",
       " Name & Year & Gender & Count\\\\\n",
       " <fct> & <int> & <fct> & <int>\\\\\n",
       "\\hline\n",
       "\t Linda & 1952 & F & 67096\\\\\n",
       "\t Linda & 1953 & F & 61244\\\\\n",
       "\t Linda & 1946 & F & 52708\\\\\n",
       "\t Linda & 1955 & F & 51275\\\\\n",
       "\t Linda & 1957 & F & 44496\\\\\n",
       "\t Linda & 1945 & F & 41465\\\\\n",
       "\\end{tabular}\n"
      ],
      "text/markdown": [
       "\n",
       "A data.frame: 6 × 4\n",
       "\n",
       "| Name &lt;fct&gt; | Year &lt;int&gt; | Gender &lt;fct&gt; | Count &lt;int&gt; |\n",
       "|---|---|---|---|\n",
       "| Linda | 1952 | F | 67096 |\n",
       "| Linda | 1953 | F | 61244 |\n",
       "| Linda | 1946 | F | 52708 |\n",
       "| Linda | 1955 | F | 51275 |\n",
       "| Linda | 1957 | F | 44496 |\n",
       "| Linda | 1945 | F | 41465 |\n",
       "\n"
      ],
      "text/plain": [
       "  Name  Year Gender Count\n",
       "1 Linda 1952 F      67096\n",
       "2 Linda 1953 F      61244\n",
       "3 Linda 1946 F      52708\n",
       "4 Linda 1955 F      51275\n",
       "5 Linda 1957 F      44496\n",
       "6 Linda 1945 F      41465"
      ]
     },
     "metadata": {},
     "output_type": "display_data"
    }
   ],
   "source": [
    "library(dplyr)\n",
    "df %>%\n",
    "    filter(Name == \"Linda\") %>%\n",
    "    arrange(-Count) %>%\n",
    "    head()"
   ]
  },
  {
   "cell_type": "markdown",
   "metadata": {},
   "source": [
    "**Questions**\n",
    "1. Describe what the code above is doing."
   ]
  },
  {
   "cell_type": "raw",
   "metadata": {},
   "source": [
    "Answer the question above here.\n",
    "1.\n",
    "\n",
    "First, we load in the dplyr package.\n",
    "Next, using the piping (%>%) technique we pass our data frame into the filter function, filtering out any non-Lisa name.\n",
    "Then, we arrange (order) the resulting data frame based on Count in descending order.\n",
    "Finally, we print out the first 6 rows, the head of the resulting df.\n"
   ]
  },
  {
   "cell_type": "markdown",
   "metadata": {},
   "source": [
    "There is a lot more that you can do with `dplyr` such as renaming column names, lets try some.\n",
    "\n",
    "**Activity 8**: *Copy the code above, but rename each of the columns so that the headers begin with lowercase letters. Name this data frame 'df_lower`.*\n",
    "\n",
    "**Activity 9**: *Now, on the `df_lower` frame, remove the `gender` column.*"
   ]
  },
  {
   "cell_type": "code",
   "execution_count": 22,
   "metadata": {},
   "outputs": [],
   "source": [
    "#' Code for Activity 8 goes here -----------------------\n",
    "df_lower <- rename(read.csv('/dsa/data/all_datasets/baby-names/NationalNames2.csv'), id = Id, name = Name, year = Year, \n",
    "                   gender = Gender, count = Count)\n"
   ]
  },
  {
   "cell_type": "code",
   "execution_count": 23,
   "metadata": {},
   "outputs": [
    {
     "data": {
      "text/html": [
       "<table>\n",
       "<caption>A data.frame: 6 × 5</caption>\n",
       "<thead>\n",
       "\t<tr><th scope=col>id</th><th scope=col>name</th><th scope=col>year</th><th scope=col>gender</th><th scope=col>count</th></tr>\n",
       "\t<tr><th scope=col>&lt;int&gt;</th><th scope=col>&lt;fct&gt;</th><th scope=col>&lt;int&gt;</th><th scope=col>&lt;fct&gt;</th><th scope=col>&lt;int&gt;</th></tr>\n",
       "</thead>\n",
       "<tbody>\n",
       "\t<tr><td> 4</td><td>Elizabeth</td><td>1880</td><td>F</td><td>1939</td></tr>\n",
       "\t<tr><td> 8</td><td>Alice    </td><td>1880</td><td>F</td><td>1414</td></tr>\n",
       "\t<tr><td>12</td><td>Clara    </td><td>1880</td><td>F</td><td>1226</td></tr>\n",
       "\t<tr><td>13</td><td>Ella     </td><td>1880</td><td>F</td><td>1156</td></tr>\n",
       "\t<tr><td>18</td><td>Nellie   </td><td>1880</td><td>F</td><td> 995</td></tr>\n",
       "\t<tr><td>21</td><td>Maude    </td><td>1880</td><td>F</td><td> 858</td></tr>\n",
       "</tbody>\n",
       "</table>\n"
      ],
      "text/latex": [
       "A data.frame: 6 × 5\n",
       "\\begin{tabular}{r|lllll}\n",
       " id & name & year & gender & count\\\\\n",
       " <int> & <fct> & <int> & <fct> & <int>\\\\\n",
       "\\hline\n",
       "\t  4 & Elizabeth & 1880 & F & 1939\\\\\n",
       "\t  8 & Alice     & 1880 & F & 1414\\\\\n",
       "\t 12 & Clara     & 1880 & F & 1226\\\\\n",
       "\t 13 & Ella      & 1880 & F & 1156\\\\\n",
       "\t 18 & Nellie    & 1880 & F &  995\\\\\n",
       "\t 21 & Maude     & 1880 & F &  858\\\\\n",
       "\\end{tabular}\n"
      ],
      "text/markdown": [
       "\n",
       "A data.frame: 6 × 5\n",
       "\n",
       "| id &lt;int&gt; | name &lt;fct&gt; | year &lt;int&gt; | gender &lt;fct&gt; | count &lt;int&gt; |\n",
       "|---|---|---|---|---|\n",
       "|  4 | Elizabeth | 1880 | F | 1939 |\n",
       "|  8 | Alice     | 1880 | F | 1414 |\n",
       "| 12 | Clara     | 1880 | F | 1226 |\n",
       "| 13 | Ella      | 1880 | F | 1156 |\n",
       "| 18 | Nellie    | 1880 | F |  995 |\n",
       "| 21 | Maude     | 1880 | F |  858 |\n",
       "\n"
      ],
      "text/plain": [
       "  id name      year gender count\n",
       "1  4 Elizabeth 1880 F      1939 \n",
       "2  8 Alice     1880 F      1414 \n",
       "3 12 Clara     1880 F      1226 \n",
       "4 13 Ella      1880 F      1156 \n",
       "5 18 Nellie    1880 F       995 \n",
       "6 21 Maude     1880 F       858 "
      ]
     },
     "metadata": {},
     "output_type": "display_data"
    }
   ],
   "source": [
    "head(df_lower)"
   ]
  },
  {
   "cell_type": "code",
   "execution_count": 24,
   "metadata": {},
   "outputs": [],
   "source": [
    "#' Code for Activity 9 goes here -----------------------\n",
    "\n",
    "df_lower <- subset(df_lower, select = -gender)\n"
   ]
  },
  {
   "cell_type": "code",
   "execution_count": 25,
   "metadata": {},
   "outputs": [
    {
     "data": {
      "text/html": [
       "<table>\n",
       "<caption>A data.frame: 6 × 4</caption>\n",
       "<thead>\n",
       "\t<tr><th scope=col>id</th><th scope=col>name</th><th scope=col>year</th><th scope=col>count</th></tr>\n",
       "\t<tr><th scope=col>&lt;int&gt;</th><th scope=col>&lt;fct&gt;</th><th scope=col>&lt;int&gt;</th><th scope=col>&lt;int&gt;</th></tr>\n",
       "</thead>\n",
       "<tbody>\n",
       "\t<tr><td> 4</td><td>Elizabeth</td><td>1880</td><td>1939</td></tr>\n",
       "\t<tr><td> 8</td><td>Alice    </td><td>1880</td><td>1414</td></tr>\n",
       "\t<tr><td>12</td><td>Clara    </td><td>1880</td><td>1226</td></tr>\n",
       "\t<tr><td>13</td><td>Ella     </td><td>1880</td><td>1156</td></tr>\n",
       "\t<tr><td>18</td><td>Nellie   </td><td>1880</td><td> 995</td></tr>\n",
       "\t<tr><td>21</td><td>Maude    </td><td>1880</td><td> 858</td></tr>\n",
       "</tbody>\n",
       "</table>\n"
      ],
      "text/latex": [
       "A data.frame: 6 × 4\n",
       "\\begin{tabular}{r|llll}\n",
       " id & name & year & count\\\\\n",
       " <int> & <fct> & <int> & <int>\\\\\n",
       "\\hline\n",
       "\t  4 & Elizabeth & 1880 & 1939\\\\\n",
       "\t  8 & Alice     & 1880 & 1414\\\\\n",
       "\t 12 & Clara     & 1880 & 1226\\\\\n",
       "\t 13 & Ella      & 1880 & 1156\\\\\n",
       "\t 18 & Nellie    & 1880 &  995\\\\\n",
       "\t 21 & Maude     & 1880 &  858\\\\\n",
       "\\end{tabular}\n"
      ],
      "text/markdown": [
       "\n",
       "A data.frame: 6 × 4\n",
       "\n",
       "| id &lt;int&gt; | name &lt;fct&gt; | year &lt;int&gt; | count &lt;int&gt; |\n",
       "|---|---|---|---|\n",
       "|  4 | Elizabeth | 1880 | 1939 |\n",
       "|  8 | Alice     | 1880 | 1414 |\n",
       "| 12 | Clara     | 1880 | 1226 |\n",
       "| 13 | Ella      | 1880 | 1156 |\n",
       "| 18 | Nellie    | 1880 |  995 |\n",
       "| 21 | Maude     | 1880 |  858 |\n",
       "\n"
      ],
      "text/plain": [
       "  id name      year count\n",
       "1  4 Elizabeth 1880 1939 \n",
       "2  8 Alice     1880 1414 \n",
       "3 12 Clara     1880 1226 \n",
       "4 13 Ella      1880 1156 \n",
       "5 18 Nellie    1880  995 \n",
       "6 21 Maude     1880  858 "
      ]
     },
     "metadata": {},
     "output_type": "display_data"
    }
   ],
   "source": [
    "head(df_lower)"
   ]
  },
  {
   "cell_type": "markdown",
   "metadata": {},
   "source": [
    "**Activity 10**: *Using `dplyr`, select rows based on both the names \"Linda\" and \"John\".*"
   ]
  },
  {
   "cell_type": "code",
   "execution_count": 30,
   "metadata": {},
   "outputs": [],
   "source": [
    "#' Code for Activity 10 goes here -----------------------\n",
    "\n",
    "df_LL <- df_lower %>% \n",
    "    filter(name == c(\"Linda\", \"John\"))"
   ]
  },
  {
   "cell_type": "code",
   "execution_count": 31,
   "metadata": {},
   "outputs": [
    {
     "data": {
      "text/html": [
       "<table>\n",
       "<caption>A data.frame: 6 × 4</caption>\n",
       "<thead>\n",
       "\t<tr><th scope=col>id</th><th scope=col>name</th><th scope=col>year</th><th scope=col>count</th></tr>\n",
       "\t<tr><th scope=col>&lt;int&gt;</th><th scope=col>&lt;fct&gt;</th><th scope=col>&lt;int&gt;</th><th scope=col>&lt;int&gt;</th></tr>\n",
       "</thead>\n",
       "<tbody>\n",
       "\t<tr><td> 6319</td><td>Linda</td><td>1883</td><td>  49</td></tr>\n",
       "\t<tr><td> 8455</td><td>John </td><td>1884</td><td>  40</td></tr>\n",
       "\t<tr><td>10700</td><td>Linda</td><td>1885</td><td>  60</td></tr>\n",
       "\t<tr><td>18977</td><td>John </td><td>1888</td><td>9248</td></tr>\n",
       "\t<tr><td>31362</td><td>John </td><td>1893</td><td>  61</td></tr>\n",
       "\t<tr><td>32672</td><td>John </td><td>1893</td><td>8049</td></tr>\n",
       "</tbody>\n",
       "</table>\n"
      ],
      "text/latex": [
       "A data.frame: 6 × 4\n",
       "\\begin{tabular}{r|llll}\n",
       " id & name & year & count\\\\\n",
       " <int> & <fct> & <int> & <int>\\\\\n",
       "\\hline\n",
       "\t  6319 & Linda & 1883 &   49\\\\\n",
       "\t  8455 & John  & 1884 &   40\\\\\n",
       "\t 10700 & Linda & 1885 &   60\\\\\n",
       "\t 18977 & John  & 1888 & 9248\\\\\n",
       "\t 31362 & John  & 1893 &   61\\\\\n",
       "\t 32672 & John  & 1893 & 8049\\\\\n",
       "\\end{tabular}\n"
      ],
      "text/markdown": [
       "\n",
       "A data.frame: 6 × 4\n",
       "\n",
       "| id &lt;int&gt; | name &lt;fct&gt; | year &lt;int&gt; | count &lt;int&gt; |\n",
       "|---|---|---|---|\n",
       "|  6319 | Linda | 1883 |   49 |\n",
       "|  8455 | John  | 1884 |   40 |\n",
       "| 10700 | Linda | 1885 |   60 |\n",
       "| 18977 | John  | 1888 | 9248 |\n",
       "| 31362 | John  | 1893 |   61 |\n",
       "| 32672 | John  | 1893 | 8049 |\n",
       "\n"
      ],
      "text/plain": [
       "  id    name  year count\n",
       "1  6319 Linda 1883   49 \n",
       "2  8455 John  1884   40 \n",
       "3 10700 Linda 1885   60 \n",
       "4 18977 John  1888 9248 \n",
       "5 31362 John  1893   61 \n",
       "6 32672 John  1893 8049 "
      ]
     },
     "metadata": {},
     "output_type": "display_data"
    }
   ],
   "source": [
    "head(df_LL)"
   ]
  },
  {
   "cell_type": "markdown",
   "metadata": {},
   "source": [
    "**Challenge Activity 1**: *Use `dplyr` to find the max Count per year per name (both Linda and John).*"
   ]
  },
  {
   "cell_type": "code",
   "execution_count": 34,
   "metadata": {},
   "outputs": [
    {
     "data": {
      "text/html": [
       "<table>\n",
       "<caption>A data.frame: 1 × 4</caption>\n",
       "<thead>\n",
       "\t<tr><th scope=col>id</th><th scope=col>name</th><th scope=col>year</th><th scope=col>count</th></tr>\n",
       "\t<tr><th scope=col>&lt;int&gt;</th><th scope=col>&lt;fct&gt;</th><th scope=col>&lt;int&gt;</th><th scope=col>&lt;int&gt;</th></tr>\n",
       "</thead>\n",
       "<tbody>\n",
       "\t<tr><td>482689</td><td>Linda</td><td>1952</td><td>67096</td></tr>\n",
       "</tbody>\n",
       "</table>\n"
      ],
      "text/latex": [
       "A data.frame: 1 × 4\n",
       "\\begin{tabular}{r|llll}\n",
       " id & name & year & count\\\\\n",
       " <int> & <fct> & <int> & <int>\\\\\n",
       "\\hline\n",
       "\t 482689 & Linda & 1952 & 67096\\\\\n",
       "\\end{tabular}\n"
      ],
      "text/markdown": [
       "\n",
       "A data.frame: 1 × 4\n",
       "\n",
       "| id &lt;int&gt; | name &lt;fct&gt; | year &lt;int&gt; | count &lt;int&gt; |\n",
       "|---|---|---|---|\n",
       "| 482689 | Linda | 1952 | 67096 |\n",
       "\n"
      ],
      "text/plain": [
       "  id     name  year count\n",
       "1 482689 Linda 1952 67096"
      ]
     },
     "metadata": {},
     "output_type": "display_data"
    },
    {
     "data": {
      "text/html": [
       "<table>\n",
       "<caption>A data.frame: 1 × 4</caption>\n",
       "<thead>\n",
       "\t<tr><th scope=col>id</th><th scope=col>name</th><th scope=col>year</th><th scope=col>count</th></tr>\n",
       "\t<tr><th scope=col>&lt;int&gt;</th><th scope=col>&lt;fct&gt;</th><th scope=col>&lt;int&gt;</th><th scope=col>&lt;int&gt;</th></tr>\n",
       "</thead>\n",
       "<tbody>\n",
       "\t<tr><td>437160</td><td>John</td><td>1947</td><td>88318</td></tr>\n",
       "</tbody>\n",
       "</table>\n"
      ],
      "text/latex": [
       "A data.frame: 1 × 4\n",
       "\\begin{tabular}{r|llll}\n",
       " id & name & year & count\\\\\n",
       " <int> & <fct> & <int> & <int>\\\\\n",
       "\\hline\n",
       "\t 437160 & John & 1947 & 88318\\\\\n",
       "\\end{tabular}\n"
      ],
      "text/markdown": [
       "\n",
       "A data.frame: 1 × 4\n",
       "\n",
       "| id &lt;int&gt; | name &lt;fct&gt; | year &lt;int&gt; | count &lt;int&gt; |\n",
       "|---|---|---|---|\n",
       "| 437160 | John | 1947 | 88318 |\n",
       "\n"
      ],
      "text/plain": [
       "  id     name year count\n",
       "1 437160 John 1947 88318"
      ]
     },
     "metadata": {},
     "output_type": "display_data"
    }
   ],
   "source": [
    "#' Code for Challenge Activity 1 goes here -----------------------\n",
    "\n",
    "df_LL %>%\n",
    "    filter(name == \"Linda\") %>%\n",
    "    arrange(-count) %>%\n",
    "    head(1)\n",
    "\n",
    "df_LL %>%\n",
    "    filter(name == \"John\") %>%\n",
    "    arrange(-count) %>%\n",
    "    head(1)"
   ]
  },
  {
   "cell_type": "markdown",
   "metadata": {},
   "source": [
    "# Save your notebook, then `File > Close and Halt`"
   ]
  }
 ],
 "metadata": {
  "kernelspec": {
   "display_name": "R",
   "language": "R",
   "name": "ir"
  },
  "language_info": {
   "codemirror_mode": "r",
   "file_extension": ".r",
   "mimetype": "text/x-r-source",
   "name": "R",
   "pygments_lexer": "r",
   "version": "3.5.1"
  }
 },
 "nbformat": 4,
 "nbformat_minor": 2
}
