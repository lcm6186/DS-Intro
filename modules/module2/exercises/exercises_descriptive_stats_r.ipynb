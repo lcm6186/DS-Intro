{
 "cells": [
  {
   "cell_type": "markdown",
   "metadata": {},
   "source": [
    "# Descriptive Statistics with `R` Exercises"
   ]
  },
  {
   "cell_type": "markdown",
   "metadata": {},
   "source": [
    "Like last week, all of the concepts in the exercise will be familiar in the sense that it will mirror the concepts that we learned throughout the labs and practices. This includes the concepts that we worked through in module 1.\n",
    "\n",
    "There could be multiple ways to solve a single answer, some more elegant than others. Revisit older notebooks for guidance, ask questions along the way, and don't be afraid to search the internet. Chances are that someone has had the same/similar issue.\n",
    "\n",
    "For this exercise, we will be working with the `congress-terms.csv`. \n",
    "Again, this is in the `/dsa/data/all_datasets/` directory."
   ]
  },
  {
   "cell_type": "markdown",
   "metadata": {},
   "source": [
    "**Exercise 1**: *Read in the `congress-terms.csv` file and name it `df`.*"
   ]
  },
  {
   "cell_type": "code",
   "execution_count": 1,
   "metadata": {},
   "outputs": [],
   "source": [
    "## I like the functionality of dplyr\n",
    "suppressMessages(library(dplyr))"
   ]
  },
  {
   "cell_type": "code",
   "execution_count": 2,
   "metadata": {},
   "outputs": [
    {
     "data": {
      "text/html": [
       "<table>\n",
       "<caption>A data.frame: 6 × 13</caption>\n",
       "<thead>\n",
       "\t<tr><th scope=col>congress</th><th scope=col>chamber</th><th scope=col>bioguide</th><th scope=col>firstname</th><th scope=col>middlename</th><th scope=col>lastname</th><th scope=col>suffix</th><th scope=col>birthday</th><th scope=col>state</th><th scope=col>party</th><th scope=col>incumbent</th><th scope=col>termstart</th><th scope=col>age</th></tr>\n",
       "\t<tr><th scope=col>&lt;int&gt;</th><th scope=col>&lt;fct&gt;</th><th scope=col>&lt;fct&gt;</th><th scope=col>&lt;fct&gt;</th><th scope=col>&lt;fct&gt;</th><th scope=col>&lt;fct&gt;</th><th scope=col>&lt;fct&gt;</th><th scope=col>&lt;fct&gt;</th><th scope=col>&lt;fct&gt;</th><th scope=col>&lt;fct&gt;</th><th scope=col>&lt;fct&gt;</th><th scope=col>&lt;fct&gt;</th><th scope=col>&lt;dbl&gt;</th></tr>\n",
       "</thead>\n",
       "<tbody>\n",
       "\t<tr><td>80</td><td>house</td><td>M000112</td><td>Joseph </td><td>Jefferson</td><td>Mansfield</td><td></td><td>1861-02-09</td><td>TX</td><td>D</td><td>Yes</td><td>1/3/47</td><td>85.9</td></tr>\n",
       "\t<tr><td>80</td><td>house</td><td>D000448</td><td>Robert </td><td>Lee      </td><td>Doughton </td><td></td><td>1863-11-07</td><td>NC</td><td>D</td><td>Yes</td><td>1/3/47</td><td>83.2</td></tr>\n",
       "\t<tr><td>80</td><td>house</td><td>S000001</td><td>Adolph </td><td>Joachim  </td><td>Sabath   </td><td></td><td>1866-04-04</td><td>IL</td><td>D</td><td>Yes</td><td>1/3/47</td><td>80.7</td></tr>\n",
       "\t<tr><td>80</td><td>house</td><td>E000023</td><td>Charles</td><td>Aubrey   </td><td>Eaton    </td><td></td><td>1868-03-29</td><td>NJ</td><td>R</td><td>Yes</td><td>1/3/47</td><td>78.8</td></tr>\n",
       "\t<tr><td>80</td><td>house</td><td>L000296</td><td>William</td><td>         </td><td>Lewis    </td><td></td><td>1868-09-22</td><td>KY</td><td>R</td><td>No </td><td>1/3/47</td><td>78.3</td></tr>\n",
       "\t<tr><td>80</td><td>house</td><td>G000017</td><td>James  </td><td>A.       </td><td>Gallagher</td><td></td><td>1869-01-16</td><td>PA</td><td>R</td><td>No </td><td>1/3/47</td><td>78.0</td></tr>\n",
       "</tbody>\n",
       "</table>\n"
      ],
      "text/latex": [
       "A data.frame: 6 × 13\n",
       "\\begin{tabular}{r|lllllllllllll}\n",
       " congress & chamber & bioguide & firstname & middlename & lastname & suffix & birthday & state & party & incumbent & termstart & age\\\\\n",
       " <int> & <fct> & <fct> & <fct> & <fct> & <fct> & <fct> & <fct> & <fct> & <fct> & <fct> & <fct> & <dbl>\\\\\n",
       "\\hline\n",
       "\t 80 & house & M000112 & Joseph  & Jefferson & Mansfield &  & 1861-02-09 & TX & D & Yes & 1/3/47 & 85.9\\\\\n",
       "\t 80 & house & D000448 & Robert  & Lee       & Doughton  &  & 1863-11-07 & NC & D & Yes & 1/3/47 & 83.2\\\\\n",
       "\t 80 & house & S000001 & Adolph  & Joachim   & Sabath    &  & 1866-04-04 & IL & D & Yes & 1/3/47 & 80.7\\\\\n",
       "\t 80 & house & E000023 & Charles & Aubrey    & Eaton     &  & 1868-03-29 & NJ & R & Yes & 1/3/47 & 78.8\\\\\n",
       "\t 80 & house & L000296 & William &           & Lewis     &  & 1868-09-22 & KY & R & No  & 1/3/47 & 78.3\\\\\n",
       "\t 80 & house & G000017 & James   & A.        & Gallagher &  & 1869-01-16 & PA & R & No  & 1/3/47 & 78.0\\\\\n",
       "\\end{tabular}\n"
      ],
      "text/markdown": [
       "\n",
       "A data.frame: 6 × 13\n",
       "\n",
       "| congress &lt;int&gt; | chamber &lt;fct&gt; | bioguide &lt;fct&gt; | firstname &lt;fct&gt; | middlename &lt;fct&gt; | lastname &lt;fct&gt; | suffix &lt;fct&gt; | birthday &lt;fct&gt; | state &lt;fct&gt; | party &lt;fct&gt; | incumbent &lt;fct&gt; | termstart &lt;fct&gt; | age &lt;dbl&gt; |\n",
       "|---|---|---|---|---|---|---|---|---|---|---|---|---|\n",
       "| 80 | house | M000112 | Joseph  | Jefferson | Mansfield | <!----> | 1861-02-09 | TX | D | Yes | 1/3/47 | 85.9 |\n",
       "| 80 | house | D000448 | Robert  | Lee       | Doughton  | <!----> | 1863-11-07 | NC | D | Yes | 1/3/47 | 83.2 |\n",
       "| 80 | house | S000001 | Adolph  | Joachim   | Sabath    | <!----> | 1866-04-04 | IL | D | Yes | 1/3/47 | 80.7 |\n",
       "| 80 | house | E000023 | Charles | Aubrey    | Eaton     | <!----> | 1868-03-29 | NJ | R | Yes | 1/3/47 | 78.8 |\n",
       "| 80 | house | L000296 | William | <!----> | Lewis     | <!----> | 1868-09-22 | KY | R | No  | 1/3/47 | 78.3 |\n",
       "| 80 | house | G000017 | James   | A.        | Gallagher | <!----> | 1869-01-16 | PA | R | No  | 1/3/47 | 78.0 |\n",
       "\n"
      ],
      "text/plain": [
       "  congress chamber bioguide firstname middlename lastname  suffix birthday  \n",
       "1 80       house   M000112  Joseph    Jefferson  Mansfield        1861-02-09\n",
       "2 80       house   D000448  Robert    Lee        Doughton         1863-11-07\n",
       "3 80       house   S000001  Adolph    Joachim    Sabath           1866-04-04\n",
       "4 80       house   E000023  Charles   Aubrey     Eaton            1868-03-29\n",
       "5 80       house   L000296  William              Lewis            1868-09-22\n",
       "6 80       house   G000017  James     A.         Gallagher        1869-01-16\n",
       "  state party incumbent termstart age \n",
       "1 TX    D     Yes       1/3/47    85.9\n",
       "2 NC    D     Yes       1/3/47    83.2\n",
       "3 IL    D     Yes       1/3/47    80.7\n",
       "4 NJ    R     Yes       1/3/47    78.8\n",
       "5 KY    R     No        1/3/47    78.3\n",
       "6 PA    R     No        1/3/47    78.0"
      ]
     },
     "metadata": {},
     "output_type": "display_data"
    }
   ],
   "source": [
    "# Exercise 1 code goes here\n",
    "# -------------------------\n",
    "\n",
    "df <- read.csv('/dsa/data/all_datasets/congress-terms.csv')\n",
    "\n",
    "head(df)\n"
   ]
  },
  {
   "cell_type": "markdown",
   "metadata": {},
   "source": [
    "**Exercise 2**: On average, does the house or the senate have older members? What statistics could you use to find this?"
   ]
  },
  {
   "cell_type": "code",
   "execution_count": 3,
   "metadata": {},
   "outputs": [
    {
     "data": {
      "text/html": [
       "<table>\n",
       "<caption>A tibble: 2 × 2</caption>\n",
       "<thead>\n",
       "\t<tr><th scope=col>chamber</th><th scope=col>age.mean</th></tr>\n",
       "\t<tr><th scope=col>&lt;fct&gt;</th><th scope=col>&lt;dbl&gt;</th></tr>\n",
       "</thead>\n",
       "<tbody>\n",
       "\t<tr><td>house </td><td>52.36661</td></tr>\n",
       "\t<tr><td>senate</td><td>57.33553</td></tr>\n",
       "</tbody>\n",
       "</table>\n"
      ],
      "text/latex": [
       "A tibble: 2 × 2\n",
       "\\begin{tabular}{r|ll}\n",
       " chamber & age.mean\\\\\n",
       " <fct> & <dbl>\\\\\n",
       "\\hline\n",
       "\t house  & 52.36661\\\\\n",
       "\t senate & 57.33553\\\\\n",
       "\\end{tabular}\n"
      ],
      "text/markdown": [
       "\n",
       "A tibble: 2 × 2\n",
       "\n",
       "| chamber &lt;fct&gt; | age.mean &lt;dbl&gt; |\n",
       "|---|---|\n",
       "| house  | 52.36661 |\n",
       "| senate | 57.33553 |\n",
       "\n"
      ],
      "text/plain": [
       "  chamber age.mean\n",
       "1 house   52.36661\n",
       "2 senate  57.33553"
      ]
     },
     "metadata": {},
     "output_type": "display_data"
    },
    {
     "data": {
      "text/html": [
       "<table>\n",
       "<caption>A tibble: 2 × 2</caption>\n",
       "<thead>\n",
       "\t<tr><th scope=col>chamber</th><th scope=col>age.median</th></tr>\n",
       "\t<tr><th scope=col>&lt;fct&gt;</th><th scope=col>&lt;dbl&gt;</th></tr>\n",
       "</thead>\n",
       "<tbody>\n",
       "\t<tr><td>house </td><td>52.0</td></tr>\n",
       "\t<tr><td>senate</td><td>56.8</td></tr>\n",
       "</tbody>\n",
       "</table>\n"
      ],
      "text/latex": [
       "A tibble: 2 × 2\n",
       "\\begin{tabular}{r|ll}\n",
       " chamber & age.median\\\\\n",
       " <fct> & <dbl>\\\\\n",
       "\\hline\n",
       "\t house  & 52.0\\\\\n",
       "\t senate & 56.8\\\\\n",
       "\\end{tabular}\n"
      ],
      "text/markdown": [
       "\n",
       "A tibble: 2 × 2\n",
       "\n",
       "| chamber &lt;fct&gt; | age.median &lt;dbl&gt; |\n",
       "|---|---|\n",
       "| house  | 52.0 |\n",
       "| senate | 56.8 |\n",
       "\n"
      ],
      "text/plain": [
       "  chamber age.median\n",
       "1 house   52.0      \n",
       "2 senate  56.8      "
      ]
     },
     "metadata": {},
     "output_type": "display_data"
    }
   ],
   "source": [
    "# Exercise 2 code goes here\n",
    "# -------------------------\n",
    "\n",
    "df %>%\n",
    "    group_by(chamber) %>%\n",
    "    summarise(age.mean = mean(age))\n",
    "\n",
    "df %>%\n",
    "    group_by(chamber) %>%\n",
    "    summarise(age.median = median(age))\n"
   ]
  },
  {
   "cell_type": "raw",
   "metadata": {},
   "source": [
    "Answer the question above here.\n",
    "2. On average, the members of the senate are older based on both the mean and median ages of the two houses."
   ]
  },
  {
   "cell_type": "markdown",
   "metadata": {},
   "source": [
    "**Exercise 3**: Who is the oldest person in this dataset? The youngest?"
   ]
  },
  {
   "cell_type": "code",
   "execution_count": 4,
   "metadata": {},
   "outputs": [
    {
     "data": {
      "text/html": [
       "<table>\n",
       "<caption>A data.frame: 1 × 13</caption>\n",
       "<thead>\n",
       "\t<tr><th scope=col>congress</th><th scope=col>chamber</th><th scope=col>bioguide</th><th scope=col>firstname</th><th scope=col>middlename</th><th scope=col>lastname</th><th scope=col>suffix</th><th scope=col>birthday</th><th scope=col>state</th><th scope=col>party</th><th scope=col>incumbent</th><th scope=col>termstart</th><th scope=col>age</th></tr>\n",
       "\t<tr><th scope=col>&lt;int&gt;</th><th scope=col>&lt;fct&gt;</th><th scope=col>&lt;fct&gt;</th><th scope=col>&lt;fct&gt;</th><th scope=col>&lt;fct&gt;</th><th scope=col>&lt;fct&gt;</th><th scope=col>&lt;fct&gt;</th><th scope=col>&lt;fct&gt;</th><th scope=col>&lt;fct&gt;</th><th scope=col>&lt;fct&gt;</th><th scope=col>&lt;fct&gt;</th><th scope=col>&lt;fct&gt;</th><th scope=col>&lt;dbl&gt;</th></tr>\n",
       "</thead>\n",
       "<tbody>\n",
       "\t<tr><td>107</td><td>senate</td><td>T000254</td><td>J.</td><td>Strom</td><td>Thurmond</td><td></td><td>1902-12-05</td><td>SC</td><td>R</td><td>Yes</td><td>1/3/01</td><td>98.1</td></tr>\n",
       "</tbody>\n",
       "</table>\n"
      ],
      "text/latex": [
       "A data.frame: 1 × 13\n",
       "\\begin{tabular}{r|lllllllllllll}\n",
       " congress & chamber & bioguide & firstname & middlename & lastname & suffix & birthday & state & party & incumbent & termstart & age\\\\\n",
       " <int> & <fct> & <fct> & <fct> & <fct> & <fct> & <fct> & <fct> & <fct> & <fct> & <fct> & <fct> & <dbl>\\\\\n",
       "\\hline\n",
       "\t 107 & senate & T000254 & J. & Strom & Thurmond &  & 1902-12-05 & SC & R & Yes & 1/3/01 & 98.1\\\\\n",
       "\\end{tabular}\n"
      ],
      "text/markdown": [
       "\n",
       "A data.frame: 1 × 13\n",
       "\n",
       "| congress &lt;int&gt; | chamber &lt;fct&gt; | bioguide &lt;fct&gt; | firstname &lt;fct&gt; | middlename &lt;fct&gt; | lastname &lt;fct&gt; | suffix &lt;fct&gt; | birthday &lt;fct&gt; | state &lt;fct&gt; | party &lt;fct&gt; | incumbent &lt;fct&gt; | termstart &lt;fct&gt; | age &lt;dbl&gt; |\n",
       "|---|---|---|---|---|---|---|---|---|---|---|---|---|\n",
       "| 107 | senate | T000254 | J. | Strom | Thurmond | <!----> | 1902-12-05 | SC | R | Yes | 1/3/01 | 98.1 |\n",
       "\n"
      ],
      "text/plain": [
       "  congress chamber bioguide firstname middlename lastname suffix birthday  \n",
       "1 107      senate  T000254  J.        Strom      Thurmond        1902-12-05\n",
       "  state party incumbent termstart age \n",
       "1 SC    R     Yes       1/3/01    98.1"
      ]
     },
     "metadata": {},
     "output_type": "display_data"
    },
    {
     "data": {
      "text/html": [
       "<table>\n",
       "<caption>A data.frame: 1 × 13</caption>\n",
       "<thead>\n",
       "\t<tr><th scope=col>congress</th><th scope=col>chamber</th><th scope=col>bioguide</th><th scope=col>firstname</th><th scope=col>middlename</th><th scope=col>lastname</th><th scope=col>suffix</th><th scope=col>birthday</th><th scope=col>state</th><th scope=col>party</th><th scope=col>incumbent</th><th scope=col>termstart</th><th scope=col>age</th></tr>\n",
       "\t<tr><th scope=col>&lt;int&gt;</th><th scope=col>&lt;fct&gt;</th><th scope=col>&lt;fct&gt;</th><th scope=col>&lt;fct&gt;</th><th scope=col>&lt;fct&gt;</th><th scope=col>&lt;fct&gt;</th><th scope=col>&lt;fct&gt;</th><th scope=col>&lt;fct&gt;</th><th scope=col>&lt;fct&gt;</th><th scope=col>&lt;fct&gt;</th><th scope=col>&lt;fct&gt;</th><th scope=col>&lt;fct&gt;</th><th scope=col>&lt;dbl&gt;</th></tr>\n",
       "</thead>\n",
       "<tbody>\n",
       "\t<tr><td>89</td><td>house</td><td>J000151</td><td>Jed</td><td>Joseph</td><td>Johnson</td><td>Jr.</td><td>12/27/39</td><td>OK</td><td>D</td><td>No</td><td>1/4/65</td><td>25</td></tr>\n",
       "</tbody>\n",
       "</table>\n"
      ],
      "text/latex": [
       "A data.frame: 1 × 13\n",
       "\\begin{tabular}{r|lllllllllllll}\n",
       " congress & chamber & bioguide & firstname & middlename & lastname & suffix & birthday & state & party & incumbent & termstart & age\\\\\n",
       " <int> & <fct> & <fct> & <fct> & <fct> & <fct> & <fct> & <fct> & <fct> & <fct> & <fct> & <fct> & <dbl>\\\\\n",
       "\\hline\n",
       "\t 89 & house & J000151 & Jed & Joseph & Johnson & Jr. & 12/27/39 & OK & D & No & 1/4/65 & 25\\\\\n",
       "\\end{tabular}\n"
      ],
      "text/markdown": [
       "\n",
       "A data.frame: 1 × 13\n",
       "\n",
       "| congress &lt;int&gt; | chamber &lt;fct&gt; | bioguide &lt;fct&gt; | firstname &lt;fct&gt; | middlename &lt;fct&gt; | lastname &lt;fct&gt; | suffix &lt;fct&gt; | birthday &lt;fct&gt; | state &lt;fct&gt; | party &lt;fct&gt; | incumbent &lt;fct&gt; | termstart &lt;fct&gt; | age &lt;dbl&gt; |\n",
       "|---|---|---|---|---|---|---|---|---|---|---|---|---|\n",
       "| 89 | house | J000151 | Jed | Joseph | Johnson | Jr. | 12/27/39 | OK | D | No | 1/4/65 | 25 |\n",
       "\n"
      ],
      "text/plain": [
       "  congress chamber bioguide firstname middlename lastname suffix birthday state\n",
       "1 89       house   J000151  Jed       Joseph     Johnson  Jr.    12/27/39 OK   \n",
       "  party incumbent termstart age\n",
       "1 D     No        1/4/65    25 "
      ]
     },
     "metadata": {},
     "output_type": "display_data"
    }
   ],
   "source": [
    "# Exercise 3 code goes here\n",
    "# -------------------------\n",
    "\n",
    "df %>%\n",
    "    filter(age == max(age))\n",
    "\n",
    "df %>%\n",
    "    filter(age == min(age))\n"
   ]
  },
  {
   "cell_type": "raw",
   "metadata": {},
   "source": [
    "Answer the question above here.\n",
    "3. The oldest person in the data set is J. Strom Thurmon, a member of the senate at 98.1 years old.\n",
    "The youngest person in the dat set is Jed Joseph Johnson Jr., a member of the house at 25 years old."
   ]
  },
  {
   "cell_type": "markdown",
   "metadata": {},
   "source": [
    "**Exercise 4**: Who is the oldest and youngest person per political party?"
   ]
  },
  {
   "cell_type": "code",
   "execution_count": 5,
   "metadata": {},
   "outputs": [
    {
     "data": {
      "text/html": [
       "<table>\n",
       "<caption>A grouped_df: 6 × 13</caption>\n",
       "<thead>\n",
       "\t<tr><th scope=col>congress</th><th scope=col>chamber</th><th scope=col>bioguide</th><th scope=col>firstname</th><th scope=col>middlename</th><th scope=col>lastname</th><th scope=col>suffix</th><th scope=col>birthday</th><th scope=col>state</th><th scope=col>party</th><th scope=col>incumbent</th><th scope=col>termstart</th><th scope=col>age</th></tr>\n",
       "\t<tr><th scope=col>&lt;int&gt;</th><th scope=col>&lt;fct&gt;</th><th scope=col>&lt;fct&gt;</th><th scope=col>&lt;fct&gt;</th><th scope=col>&lt;fct&gt;</th><th scope=col>&lt;fct&gt;</th><th scope=col>&lt;fct&gt;</th><th scope=col>&lt;fct&gt;</th><th scope=col>&lt;fct&gt;</th><th scope=col>&lt;fct&gt;</th><th scope=col>&lt;fct&gt;</th><th scope=col>&lt;fct&gt;</th><th scope=col>&lt;dbl&gt;</th></tr>\n",
       "</thead>\n",
       "<tbody>\n",
       "\t<tr><td> 81</td><td>house </td><td>M000122</td><td>Vito    </td><td>Anthony</td><td>Marcantonio</td><td>   </td><td>1902-12-10</td><td>NY</td><td>AL</td><td>Yes</td><td>1/3/49</td><td>46.1</td></tr>\n",
       "\t<tr><td> 81</td><td>house </td><td>R000425</td><td>Franklin</td><td>Delano </td><td>Roosevelt  </td><td>Jr.</td><td>8/17/14   </td><td>NY</td><td>L </td><td>No </td><td>1/3/49</td><td>34.4</td></tr>\n",
       "\t<tr><td>107</td><td>senate</td><td>T000254</td><td>J.      </td><td>Strom  </td><td>Thurmond   </td><td>   </td><td>1902-12-05</td><td>SC</td><td>R </td><td>Yes</td><td>1/3/01</td><td>98.1</td></tr>\n",
       "\t<tr><td>111</td><td>senate</td><td>L000304</td><td>Joseph  </td><td>I.     </td><td>Lieberman  </td><td>   </td><td>2/24/42   </td><td>CT</td><td>ID</td><td>Yes</td><td>1/6/09</td><td>66.9</td></tr>\n",
       "\t<tr><td>111</td><td>senate</td><td>B001210</td><td>Robert  </td><td>C.     </td><td>Byrd       </td><td>   </td><td>11/19/13  </td><td>WV</td><td>D </td><td>Yes</td><td>1/6/09</td><td>95.1</td></tr>\n",
       "\t<tr><td>113</td><td>senate</td><td>S000033</td><td>Bernard </td><td>       </td><td>Sanders    </td><td>   </td><td>9/8/41    </td><td>VT</td><td>I </td><td>Yes</td><td>1/3/13</td><td>71.3</td></tr>\n",
       "</tbody>\n",
       "</table>\n"
      ],
      "text/latex": [
       "A grouped_df: 6 × 13\n",
       "\\begin{tabular}{r|lllllllllllll}\n",
       " congress & chamber & bioguide & firstname & middlename & lastname & suffix & birthday & state & party & incumbent & termstart & age\\\\\n",
       " <int> & <fct> & <fct> & <fct> & <fct> & <fct> & <fct> & <fct> & <fct> & <fct> & <fct> & <fct> & <dbl>\\\\\n",
       "\\hline\n",
       "\t  81 & house  & M000122 & Vito     & Anthony & Marcantonio &     & 1902-12-10 & NY & AL & Yes & 1/3/49 & 46.1\\\\\n",
       "\t  81 & house  & R000425 & Franklin & Delano  & Roosevelt   & Jr. & 8/17/14    & NY & L  & No  & 1/3/49 & 34.4\\\\\n",
       "\t 107 & senate & T000254 & J.       & Strom   & Thurmond    &     & 1902-12-05 & SC & R  & Yes & 1/3/01 & 98.1\\\\\n",
       "\t 111 & senate & L000304 & Joseph   & I.      & Lieberman   &     & 2/24/42    & CT & ID & Yes & 1/6/09 & 66.9\\\\\n",
       "\t 111 & senate & B001210 & Robert   & C.      & Byrd        &     & 11/19/13   & WV & D  & Yes & 1/6/09 & 95.1\\\\\n",
       "\t 113 & senate & S000033 & Bernard  &         & Sanders     &     & 9/8/41     & VT & I  & Yes & 1/3/13 & 71.3\\\\\n",
       "\\end{tabular}\n"
      ],
      "text/markdown": [
       "\n",
       "A grouped_df: 6 × 13\n",
       "\n",
       "| congress &lt;int&gt; | chamber &lt;fct&gt; | bioguide &lt;fct&gt; | firstname &lt;fct&gt; | middlename &lt;fct&gt; | lastname &lt;fct&gt; | suffix &lt;fct&gt; | birthday &lt;fct&gt; | state &lt;fct&gt; | party &lt;fct&gt; | incumbent &lt;fct&gt; | termstart &lt;fct&gt; | age &lt;dbl&gt; |\n",
       "|---|---|---|---|---|---|---|---|---|---|---|---|---|\n",
       "|  81 | house  | M000122 | Vito     | Anthony | Marcantonio | <!----> | 1902-12-10 | NY | AL | Yes | 1/3/49 | 46.1 |\n",
       "|  81 | house  | R000425 | Franklin | Delano  | Roosevelt   | Jr. | 8/17/14    | NY | L  | No  | 1/3/49 | 34.4 |\n",
       "| 107 | senate | T000254 | J.       | Strom   | Thurmond    | <!----> | 1902-12-05 | SC | R  | Yes | 1/3/01 | 98.1 |\n",
       "| 111 | senate | L000304 | Joseph   | I.      | Lieberman   | <!----> | 2/24/42    | CT | ID | Yes | 1/6/09 | 66.9 |\n",
       "| 111 | senate | B001210 | Robert   | C.      | Byrd        | <!----> | 11/19/13   | WV | D  | Yes | 1/6/09 | 95.1 |\n",
       "| 113 | senate | S000033 | Bernard  | <!----> | Sanders     | <!----> | 9/8/41     | VT | I  | Yes | 1/3/13 | 71.3 |\n",
       "\n"
      ],
      "text/plain": [
       "  congress chamber bioguide firstname middlename lastname    suffix birthday  \n",
       "1  81      house   M000122  Vito      Anthony    Marcantonio        1902-12-10\n",
       "2  81      house   R000425  Franklin  Delano     Roosevelt   Jr.    8/17/14   \n",
       "3 107      senate  T000254  J.        Strom      Thurmond           1902-12-05\n",
       "4 111      senate  L000304  Joseph    I.         Lieberman          2/24/42   \n",
       "5 111      senate  B001210  Robert    C.         Byrd               11/19/13  \n",
       "6 113      senate  S000033  Bernard              Sanders            9/8/41    \n",
       "  state party incumbent termstart age \n",
       "1 NY    AL    Yes       1/3/49    46.1\n",
       "2 NY    L     No        1/3/49    34.4\n",
       "3 SC    R     Yes       1/3/01    98.1\n",
       "4 CT    ID    Yes       1/6/09    66.9\n",
       "5 WV    D     Yes       1/6/09    95.1\n",
       "6 VT    I     Yes       1/3/13    71.3"
      ]
     },
     "metadata": {},
     "output_type": "display_data"
    },
    {
     "data": {
      "text/html": [
       "<table>\n",
       "<caption>A grouped_df: 7 × 13</caption>\n",
       "<thead>\n",
       "\t<tr><th scope=col>congress</th><th scope=col>chamber</th><th scope=col>bioguide</th><th scope=col>firstname</th><th scope=col>middlename</th><th scope=col>lastname</th><th scope=col>suffix</th><th scope=col>birthday</th><th scope=col>state</th><th scope=col>party</th><th scope=col>incumbent</th><th scope=col>termstart</th><th scope=col>age</th></tr>\n",
       "\t<tr><th scope=col>&lt;int&gt;</th><th scope=col>&lt;fct&gt;</th><th scope=col>&lt;fct&gt;</th><th scope=col>&lt;fct&gt;</th><th scope=col>&lt;fct&gt;</th><th scope=col>&lt;fct&gt;</th><th scope=col>&lt;fct&gt;</th><th scope=col>&lt;fct&gt;</th><th scope=col>&lt;fct&gt;</th><th scope=col>&lt;fct&gt;</th><th scope=col>&lt;fct&gt;</th><th scope=col>&lt;fct&gt;</th><th scope=col>&lt;dbl&gt;</th></tr>\n",
       "</thead>\n",
       "<tbody>\n",
       "\t<tr><td> 80</td><td>house </td><td>I000046</td><td>Leo     </td><td>         </td><td>Isacson  </td><td>   </td><td>4/20/10 </td><td>NY</td><td>AL</td><td>No</td><td>1/3/47 </td><td>36.7</td></tr>\n",
       "\t<tr><td> 81</td><td>house </td><td>R000425</td><td>Franklin</td><td>Delano   </td><td>Roosevelt</td><td>Jr.</td><td>8/17/14 </td><td>NY</td><td>L </td><td>No</td><td>1/3/49 </td><td>34.4</td></tr>\n",
       "\t<tr><td> 86</td><td>house </td><td>A000105</td><td>Thomas  </td><td>Dale     </td><td>Alford   </td><td>   </td><td>1/28/16 </td><td>AR</td><td>ID</td><td>No</td><td>1/7/59 </td><td>42.9</td></tr>\n",
       "\t<tr><td> 88</td><td>senate</td><td>M000851</td><td>Walter  </td><td>Frederick</td><td>Mondale  </td><td>   </td><td>1/5/28  </td><td>MN</td><td>I </td><td>No</td><td>1/9/63 </td><td>35.0</td></tr>\n",
       "\t<tr><td> 89</td><td>house </td><td>J000151</td><td>Jed     </td><td>Joseph   </td><td>Johnson  </td><td>Jr.</td><td>12/27/39</td><td>OK</td><td>D </td><td>No</td><td>1/4/65 </td><td>25.0</td></tr>\n",
       "\t<tr><td> 94</td><td>house </td><td>E000175</td><td>David   </td><td>Farnham  </td><td>Emery    </td><td>   </td><td>9/1/48  </td><td>ME</td><td>R </td><td>No</td><td>1/14/75</td><td>26.4</td></tr>\n",
       "\t<tr><td>107</td><td>house </td><td>P000586</td><td>Adam    </td><td>H.       </td><td>Putnam   </td><td>   </td><td>7/31/74 </td><td>FL</td><td>R </td><td>No</td><td>1/3/01 </td><td>26.4</td></tr>\n",
       "</tbody>\n",
       "</table>\n"
      ],
      "text/latex": [
       "A grouped_df: 7 × 13\n",
       "\\begin{tabular}{r|lllllllllllll}\n",
       " congress & chamber & bioguide & firstname & middlename & lastname & suffix & birthday & state & party & incumbent & termstart & age\\\\\n",
       " <int> & <fct> & <fct> & <fct> & <fct> & <fct> & <fct> & <fct> & <fct> & <fct> & <fct> & <fct> & <dbl>\\\\\n",
       "\\hline\n",
       "\t  80 & house  & I000046 & Leo      &           & Isacson   &     & 4/20/10  & NY & AL & No & 1/3/47  & 36.7\\\\\n",
       "\t  81 & house  & R000425 & Franklin & Delano    & Roosevelt & Jr. & 8/17/14  & NY & L  & No & 1/3/49  & 34.4\\\\\n",
       "\t  86 & house  & A000105 & Thomas   & Dale      & Alford    &     & 1/28/16  & AR & ID & No & 1/7/59  & 42.9\\\\\n",
       "\t  88 & senate & M000851 & Walter   & Frederick & Mondale   &     & 1/5/28   & MN & I  & No & 1/9/63  & 35.0\\\\\n",
       "\t  89 & house  & J000151 & Jed      & Joseph    & Johnson   & Jr. & 12/27/39 & OK & D  & No & 1/4/65  & 25.0\\\\\n",
       "\t  94 & house  & E000175 & David    & Farnham   & Emery     &     & 9/1/48   & ME & R  & No & 1/14/75 & 26.4\\\\\n",
       "\t 107 & house  & P000586 & Adam     & H.        & Putnam    &     & 7/31/74  & FL & R  & No & 1/3/01  & 26.4\\\\\n",
       "\\end{tabular}\n"
      ],
      "text/markdown": [
       "\n",
       "A grouped_df: 7 × 13\n",
       "\n",
       "| congress &lt;int&gt; | chamber &lt;fct&gt; | bioguide &lt;fct&gt; | firstname &lt;fct&gt; | middlename &lt;fct&gt; | lastname &lt;fct&gt; | suffix &lt;fct&gt; | birthday &lt;fct&gt; | state &lt;fct&gt; | party &lt;fct&gt; | incumbent &lt;fct&gt; | termstart &lt;fct&gt; | age &lt;dbl&gt; |\n",
       "|---|---|---|---|---|---|---|---|---|---|---|---|---|\n",
       "|  80 | house  | I000046 | Leo      | <!----> | Isacson   | <!----> | 4/20/10  | NY | AL | No | 1/3/47  | 36.7 |\n",
       "|  81 | house  | R000425 | Franklin | Delano    | Roosevelt | Jr. | 8/17/14  | NY | L  | No | 1/3/49  | 34.4 |\n",
       "|  86 | house  | A000105 | Thomas   | Dale      | Alford    | <!----> | 1/28/16  | AR | ID | No | 1/7/59  | 42.9 |\n",
       "|  88 | senate | M000851 | Walter   | Frederick | Mondale   | <!----> | 1/5/28   | MN | I  | No | 1/9/63  | 35.0 |\n",
       "|  89 | house  | J000151 | Jed      | Joseph    | Johnson   | Jr. | 12/27/39 | OK | D  | No | 1/4/65  | 25.0 |\n",
       "|  94 | house  | E000175 | David    | Farnham   | Emery     | <!----> | 9/1/48   | ME | R  | No | 1/14/75 | 26.4 |\n",
       "| 107 | house  | P000586 | Adam     | H.        | Putnam    | <!----> | 7/31/74  | FL | R  | No | 1/3/01  | 26.4 |\n",
       "\n"
      ],
      "text/plain": [
       "  congress chamber bioguide firstname middlename lastname  suffix birthday\n",
       "1  80      house   I000046  Leo                  Isacson          4/20/10 \n",
       "2  81      house   R000425  Franklin  Delano     Roosevelt Jr.    8/17/14 \n",
       "3  86      house   A000105  Thomas    Dale       Alford           1/28/16 \n",
       "4  88      senate  M000851  Walter    Frederick  Mondale          1/5/28  \n",
       "5  89      house   J000151  Jed       Joseph     Johnson   Jr.    12/27/39\n",
       "6  94      house   E000175  David     Farnham    Emery            9/1/48  \n",
       "7 107      house   P000586  Adam      H.         Putnam           7/31/74 \n",
       "  state party incumbent termstart age \n",
       "1 NY    AL    No        1/3/47    36.7\n",
       "2 NY    L     No        1/3/49    34.4\n",
       "3 AR    ID    No        1/7/59    42.9\n",
       "4 MN    I     No        1/9/63    35.0\n",
       "5 OK    D     No        1/4/65    25.0\n",
       "6 ME    R     No        1/14/75   26.4\n",
       "7 FL    R     No        1/3/01    26.4"
      ]
     },
     "metadata": {},
     "output_type": "display_data"
    }
   ],
   "source": [
    "# Exercise 4 code goes here\n",
    "# -------------------------\n",
    "\n",
    "df %>%\n",
    "    group_by(party) %>%\n",
    "    filter(age == max(age))\n",
    "\n",
    "df %>%\n",
    "    group_by(party) %>%\n",
    "    filter(age == min(age))\n"
   ]
  },
  {
   "cell_type": "raw",
   "metadata": {},
   "source": [
    "Answer the question above here.\n",
    "4. Based on the charts above, we can see the oldest and youngest person in each of the politcal parties. A few interesting things to note, the oldest (and youngest!) person from the liberal party of New York was FDR Jr. at 34.4 years.\n",
    "Only the democrat and republican party had members above 90 years old with Strom Thurmond (R) and Robert Byrd (D).\n",
    "\n",
    "For youngest, as stated before Jed Johnson (D) was the youngest member overall. Interestingly there was a tie for the youngest republican between David Emery and Adam Putnam at 26.4 years. \n"
   ]
  },
  {
   "cell_type": "markdown",
   "metadata": {},
   "source": [
    "There is a column in this data frame called `bioguide`. This is a unique id for each individual in the data set. As you are probably aware, many politicians have multiple terms.\n",
    "\n",
    "**Exercise 5**: Who is the politician with the most terms?"
   ]
  },
  {
   "cell_type": "code",
   "execution_count": 6,
   "metadata": {},
   "outputs": [
    {
     "data": {
      "text/html": [
       "<table>\n",
       "<caption>A tibble: 1 × 2</caption>\n",
       "<thead>\n",
       "\t<tr><th scope=col>bioguide</th><th scope=col>n</th></tr>\n",
       "\t<tr><th scope=col>&lt;fct&gt;</th><th scope=col>&lt;int&gt;</th></tr>\n",
       "</thead>\n",
       "<tbody>\n",
       "\t<tr><td>D000355</td><td>30</td></tr>\n",
       "</tbody>\n",
       "</table>\n"
      ],
      "text/latex": [
       "A tibble: 1 × 2\n",
       "\\begin{tabular}{r|ll}\n",
       " bioguide & n\\\\\n",
       " <fct> & <int>\\\\\n",
       "\\hline\n",
       "\t D000355 & 30\\\\\n",
       "\\end{tabular}\n"
      ],
      "text/markdown": [
       "\n",
       "A tibble: 1 × 2\n",
       "\n",
       "| bioguide &lt;fct&gt; | n &lt;int&gt; |\n",
       "|---|---|\n",
       "| D000355 | 30 |\n",
       "\n"
      ],
      "text/plain": [
       "  bioguide n \n",
       "1 D000355  30"
      ]
     },
     "metadata": {},
     "output_type": "display_data"
    },
    {
     "data": {
      "text/html": [
       "<table>\n",
       "<caption>A grouped_df: 1 × 14</caption>\n",
       "<thead>\n",
       "\t<tr><th scope=col>congress</th><th scope=col>chamber</th><th scope=col>bioguide</th><th scope=col>firstname</th><th scope=col>middlename</th><th scope=col>lastname</th><th scope=col>suffix</th><th scope=col>birthday</th><th scope=col>state</th><th scope=col>party</th><th scope=col>incumbent</th><th scope=col>termstart</th><th scope=col>age</th><th scope=col>count</th></tr>\n",
       "\t<tr><th scope=col>&lt;int&gt;</th><th scope=col>&lt;fct&gt;</th><th scope=col>&lt;fct&gt;</th><th scope=col>&lt;fct&gt;</th><th scope=col>&lt;fct&gt;</th><th scope=col>&lt;fct&gt;</th><th scope=col>&lt;fct&gt;</th><th scope=col>&lt;fct&gt;</th><th scope=col>&lt;fct&gt;</th><th scope=col>&lt;fct&gt;</th><th scope=col>&lt;fct&gt;</th><th scope=col>&lt;fct&gt;</th><th scope=col>&lt;dbl&gt;</th><th scope=col>&lt;int&gt;</th></tr>\n",
       "</thead>\n",
       "<tbody>\n",
       "\t<tr><td>84</td><td>house</td><td>D000355</td><td>John</td><td>D.</td><td>Dingell</td><td></td><td>7/8/26</td><td>MI</td><td>D</td><td>No</td><td>1/5/55</td><td>28.5</td><td>30</td></tr>\n",
       "</tbody>\n",
       "</table>\n"
      ],
      "text/latex": [
       "A grouped_df: 1 × 14\n",
       "\\begin{tabular}{r|llllllllllllll}\n",
       " congress & chamber & bioguide & firstname & middlename & lastname & suffix & birthday & state & party & incumbent & termstart & age & count\\\\\n",
       " <int> & <fct> & <fct> & <fct> & <fct> & <fct> & <fct> & <fct> & <fct> & <fct> & <fct> & <fct> & <dbl> & <int>\\\\\n",
       "\\hline\n",
       "\t 84 & house & D000355 & John & D. & Dingell &  & 7/8/26 & MI & D & No & 1/5/55 & 28.5 & 30\\\\\n",
       "\\end{tabular}\n"
      ],
      "text/markdown": [
       "\n",
       "A grouped_df: 1 × 14\n",
       "\n",
       "| congress &lt;int&gt; | chamber &lt;fct&gt; | bioguide &lt;fct&gt; | firstname &lt;fct&gt; | middlename &lt;fct&gt; | lastname &lt;fct&gt; | suffix &lt;fct&gt; | birthday &lt;fct&gt; | state &lt;fct&gt; | party &lt;fct&gt; | incumbent &lt;fct&gt; | termstart &lt;fct&gt; | age &lt;dbl&gt; | count &lt;int&gt; |\n",
       "|---|---|---|---|---|---|---|---|---|---|---|---|---|---|\n",
       "| 84 | house | D000355 | John | D. | Dingell | <!----> | 7/8/26 | MI | D | No | 1/5/55 | 28.5 | 30 |\n",
       "\n"
      ],
      "text/plain": [
       "  congress chamber bioguide firstname middlename lastname suffix birthday state\n",
       "1 84       house   D000355  John      D.         Dingell         7/8/26   MI   \n",
       "  party incumbent termstart age  count\n",
       "1 D     No        1/5/55    28.5 30   "
      ]
     },
     "metadata": {},
     "output_type": "display_data"
    }
   ],
   "source": [
    "# Exercise 5 code goes here\n",
    "# -------------------------\n",
    "\n",
    "df %>%\n",
    "    group_by(bioguide) %>%\n",
    "    tally() %>% arrange(desc(n)) %>% head(1)\n",
    "\n",
    "## second way to find this since above using tally() does not return the name but just the bioguide\n",
    "\n",
    "df %>%\n",
    "    group_by(bioguide) %>%\n",
    "    mutate(count = n()) %>% arrange(desc(count)) %>% head(1)\n"
   ]
  },
  {
   "cell_type": "raw",
   "metadata": {},
   "source": [
    "Answer the question above here.\n",
    "5. The politician with the most terms as John Dingell, a democratic member of the house who served 30 times. His bioguide was D000355 as confirmed in both the above codes."
   ]
  },
  {
   "cell_type": "markdown",
   "metadata": {},
   "source": [
    "**Exercise 6**: Who has had the most Senate terms? House terms?"
   ]
  },
  {
   "cell_type": "code",
   "execution_count": 8,
   "metadata": {},
   "outputs": [
    {
     "data": {
      "text/html": [
       "<table>\n",
       "<caption>A grouped_df: 6 × 14</caption>\n",
       "<thead>\n",
       "\t<tr><th scope=col>congress</th><th scope=col>chamber</th><th scope=col>bioguide</th><th scope=col>firstname</th><th scope=col>middlename</th><th scope=col>lastname</th><th scope=col>suffix</th><th scope=col>birthday</th><th scope=col>state</th><th scope=col>party</th><th scope=col>incumbent</th><th scope=col>termstart</th><th scope=col>age</th><th scope=col>count</th></tr>\n",
       "\t<tr><th scope=col>&lt;int&gt;</th><th scope=col>&lt;fct&gt;</th><th scope=col>&lt;fct&gt;</th><th scope=col>&lt;fct&gt;</th><th scope=col>&lt;fct&gt;</th><th scope=col>&lt;fct&gt;</th><th scope=col>&lt;fct&gt;</th><th scope=col>&lt;fct&gt;</th><th scope=col>&lt;fct&gt;</th><th scope=col>&lt;fct&gt;</th><th scope=col>&lt;fct&gt;</th><th scope=col>&lt;fct&gt;</th><th scope=col>&lt;dbl&gt;</th><th scope=col>&lt;int&gt;</th></tr>\n",
       "</thead>\n",
       "<tbody>\n",
       "\t<tr><td>87</td><td>senate</td><td>K000105</td><td>Edward</td><td>M.   </td><td>Kennedy </td><td>   </td><td>2/22/32   </td><td>MA</td><td>D</td><td>No </td><td>1/3/61</td><td>28.9</td><td>25</td></tr>\n",
       "\t<tr><td>88</td><td>senate</td><td>I000025</td><td>Daniel</td><td>K.   </td><td>Inouye  </td><td>   </td><td>9/7/24    </td><td>HI</td><td>D</td><td>Yes</td><td>1/9/63</td><td>38.3</td><td>25</td></tr>\n",
       "\t<tr><td>89</td><td>house </td><td>C000714</td><td>John  </td><td>     </td><td>Conyers </td><td>Jr.</td><td>5/16/29   </td><td>MI</td><td>D</td><td>No </td><td>1/4/65</td><td>35.6</td><td>25</td></tr>\n",
       "\t<tr><td>83</td><td>senate</td><td>T000254</td><td>J.    </td><td>Strom</td><td>Thurmond</td><td>   </td><td>1902-12-05</td><td>SC</td><td>D</td><td>No </td><td>1/3/53</td><td>50.1</td><td>26</td></tr>\n",
       "\t<tr><td>86</td><td>senate</td><td>B001210</td><td>Robert</td><td>C.   </td><td>Byrd    </td><td>   </td><td>11/20/17  </td><td>WV</td><td>D</td><td>Yes</td><td>1/7/59</td><td>41.1</td><td>26</td></tr>\n",
       "\t<tr><td>84</td><td>house </td><td>D000355</td><td>John  </td><td>D.   </td><td>Dingell </td><td>   </td><td>7/8/26    </td><td>MI</td><td>D</td><td>No </td><td>1/5/55</td><td>28.5</td><td>30</td></tr>\n",
       "</tbody>\n",
       "</table>\n"
      ],
      "text/latex": [
       "A grouped_df: 6 × 14\n",
       "\\begin{tabular}{r|llllllllllllll}\n",
       " congress & chamber & bioguide & firstname & middlename & lastname & suffix & birthday & state & party & incumbent & termstart & age & count\\\\\n",
       " <int> & <fct> & <fct> & <fct> & <fct> & <fct> & <fct> & <fct> & <fct> & <fct> & <fct> & <fct> & <dbl> & <int>\\\\\n",
       "\\hline\n",
       "\t 87 & senate & K000105 & Edward & M.    & Kennedy  &     & 2/22/32    & MA & D & No  & 1/3/61 & 28.9 & 25\\\\\n",
       "\t 88 & senate & I000025 & Daniel & K.    & Inouye   &     & 9/7/24     & HI & D & Yes & 1/9/63 & 38.3 & 25\\\\\n",
       "\t 89 & house  & C000714 & John   &       & Conyers  & Jr. & 5/16/29    & MI & D & No  & 1/4/65 & 35.6 & 25\\\\\n",
       "\t 83 & senate & T000254 & J.     & Strom & Thurmond &     & 1902-12-05 & SC & D & No  & 1/3/53 & 50.1 & 26\\\\\n",
       "\t 86 & senate & B001210 & Robert & C.    & Byrd     &     & 11/20/17   & WV & D & Yes & 1/7/59 & 41.1 & 26\\\\\n",
       "\t 84 & house  & D000355 & John   & D.    & Dingell  &     & 7/8/26     & MI & D & No  & 1/5/55 & 28.5 & 30\\\\\n",
       "\\end{tabular}\n"
      ],
      "text/markdown": [
       "\n",
       "A grouped_df: 6 × 14\n",
       "\n",
       "| congress &lt;int&gt; | chamber &lt;fct&gt; | bioguide &lt;fct&gt; | firstname &lt;fct&gt; | middlename &lt;fct&gt; | lastname &lt;fct&gt; | suffix &lt;fct&gt; | birthday &lt;fct&gt; | state &lt;fct&gt; | party &lt;fct&gt; | incumbent &lt;fct&gt; | termstart &lt;fct&gt; | age &lt;dbl&gt; | count &lt;int&gt; |\n",
       "|---|---|---|---|---|---|---|---|---|---|---|---|---|---|\n",
       "| 87 | senate | K000105 | Edward | M.    | Kennedy  | <!----> | 2/22/32    | MA | D | No  | 1/3/61 | 28.9 | 25 |\n",
       "| 88 | senate | I000025 | Daniel | K.    | Inouye   | <!----> | 9/7/24     | HI | D | Yes | 1/9/63 | 38.3 | 25 |\n",
       "| 89 | house  | C000714 | John   | <!----> | Conyers  | Jr. | 5/16/29    | MI | D | No  | 1/4/65 | 35.6 | 25 |\n",
       "| 83 | senate | T000254 | J.     | Strom | Thurmond | <!----> | 1902-12-05 | SC | D | No  | 1/3/53 | 50.1 | 26 |\n",
       "| 86 | senate | B001210 | Robert | C.    | Byrd     | <!----> | 11/20/17   | WV | D | Yes | 1/7/59 | 41.1 | 26 |\n",
       "| 84 | house  | D000355 | John   | D.    | Dingell  | <!----> | 7/8/26     | MI | D | No  | 1/5/55 | 28.5 | 30 |\n",
       "\n"
      ],
      "text/plain": [
       "  congress chamber bioguide firstname middlename lastname suffix birthday  \n",
       "1 87       senate  K000105  Edward    M.         Kennedy         2/22/32   \n",
       "2 88       senate  I000025  Daniel    K.         Inouye          9/7/24    \n",
       "3 89       house   C000714  John                 Conyers  Jr.    5/16/29   \n",
       "4 83       senate  T000254  J.        Strom      Thurmond        1902-12-05\n",
       "5 86       senate  B001210  Robert    C.         Byrd            11/20/17  \n",
       "6 84       house   D000355  John      D.         Dingell         7/8/26    \n",
       "  state party incumbent termstart age  count\n",
       "1 MA    D     No        1/3/61    28.9 25   \n",
       "2 HI    D     Yes       1/9/63    38.3 25   \n",
       "3 MI    D     No        1/4/65    35.6 25   \n",
       "4 SC    D     No        1/3/53    50.1 26   \n",
       "5 WV    D     Yes       1/7/59    41.1 26   \n",
       "6 MI    D     No        1/5/55    28.5 30   "
      ]
     },
     "metadata": {},
     "output_type": "display_data"
    }
   ],
   "source": [
    "# Exercise 6 code goes here\n",
    "# -------------------------\n",
    "\n",
    "df %>% \n",
    "    group_by(chamber, bioguide) %>%\n",
    "    mutate(count = n()) %>%\n",
    "    distinct(bioguide, .keep_all = TRUE) %>% arrange(count) %>% tail()\n",
    "\n",
    "## Will search for a better way, but this at least gets to the correct answer\n"
   ]
  },
  {
   "cell_type": "code",
   "execution_count": 13,
   "metadata": {},
   "outputs": [
    {
     "name": "stderr",
     "output_type": "stream",
     "text": [
      "Warning message in FUN(X[[i]], ...):\n",
      "“input string 6 is invalid in this locale”Warning message in FUN(X[[i]], ...):\n",
      "“input string 6 is invalid in this locale”Warning message in FUN(X[[i]], ...):\n",
      "“input string 6 is invalid in this locale”ERROR while rich displaying an object: Error in gsub(chr, html_specials[[chr]], text, fixed = TRUE): input string 6 is invalid in this locale\n",
      "\n",
      "Traceback:\n",
      "1. FUN(X[[i]], ...)\n",
      "2. tryCatch(withCallingHandlers({\n",
      " .     if (!mime %in% names(repr::mime2repr)) \n",
      " .         stop(\"No repr_* for mimetype \", mime, \" in repr::mime2repr\")\n",
      " .     rpr <- repr::mime2repr[[mime]](obj)\n",
      " .     if (is.null(rpr)) \n",
      " .         return(NULL)\n",
      " .     prepare_content(is.raw(rpr), rpr)\n",
      " . }, error = error_handler), error = outer_handler)\n",
      "3. tryCatchList(expr, classes, parentenv, handlers)\n",
      "4. tryCatchOne(expr, names, parentenv, handlers[[1L]])\n",
      "5. doTryCatch(return(expr), name, parentenv, handler)\n",
      "6. withCallingHandlers({\n",
      " .     if (!mime %in% names(repr::mime2repr)) \n",
      " .         stop(\"No repr_* for mimetype \", mime, \" in repr::mime2repr\")\n",
      " .     rpr <- repr::mime2repr[[mime]](obj)\n",
      " .     if (is.null(rpr)) \n",
      " .         return(NULL)\n",
      " .     prepare_content(is.raw(rpr), rpr)\n",
      " . }, error = error_handler)\n",
      "7. repr::mime2repr[[mime]](obj)\n",
      "8. repr_markdown.data.frame(obj)\n",
      "9. repr_matrix_generic(obj, \"\\n%s\\n\\n%s%s\\n\", sprintf(\"|%%s\\n|%s|\\n\", \n",
      " .     underline), NULL, \" <!--/--> |\", \" %s |\", \"%s\", \"|%s\\n\", \n",
      " .     \" %s |\", \" %s |\", escape_fun = markdown_escape, rows = rows, \n",
      " .     cols = cols, ...)\n",
      "10. lapply(seq_len(nrow(x)), function(r) {\n",
      "  .     row <- escape_fun(slice_row(x, r))\n",
      "  .     cells <- sprintf(cell, row)\n",
      "  .     if (has_rownames) {\n",
      "  .         row_head <- sprintf(row_head, escape_fun(rownames(x)[[r]]))\n",
      "  .         cells <- c(row_head, cells)\n",
      "  .     }\n",
      "  .     sprintf(row_wrap, paste(cells, collapse = \"\"))\n",
      "  . })\n",
      "11. FUN(X[[i]], ...)\n",
      "12. escape_fun(slice_row(x, r))\n",
      "13. html_escape(values, do_spaces = FALSE)\n",
      "14. gsub(chr, html_specials[[chr]], text, fixed = TRUE)\n",
      "Warning message in FUN(X[[i]], ...):\n",
      "“input string 6 is invalid in this locale”Warning message in FUN(X[[i]], ...):\n",
      "“input string 6 is invalid in this locale”Warning message in FUN(X[[i]], ...):\n",
      "“input string 6 is invalid in this locale”Warning message in FUN(X[[i]], ...):\n",
      "“input string 6 is invalid in this locale”Warning message in FUN(X[[i]], ...):\n",
      "“input string 6 is invalid in this locale”Warning message in FUN(X[[i]], ...):\n",
      "“input string 6 is invalid in this locale”Warning message in FUN(X[[i]], ...):\n",
      "“input string 6 is invalid in this locale”Warning message in FUN(X[[i]], ...):\n",
      "“input string 6 is invalid in this locale”Warning message in FUN(X[[i]], ...):\n",
      "“input string 6 is invalid in this locale”Warning message in FUN(X[[i]], ...):\n",
      "“input string 6 is invalid in this locale”Warning message in FUN(X[[i]], ...):\n",
      "“input string 6 is invalid in this locale”Warning message in FUN(X[[i]], ...):\n",
      "“input string 6 is invalid in this locale”Warning message in FUN(X[[i]], ...):\n",
      "“input string 6 is invalid in this locale”"
     ]
    },
    {
     "data": {
      "text/html": [
       "<table>\n",
       "<caption>A grouped_df: 2796 × 14</caption>\n",
       "<thead>\n",
       "\t<tr><th scope=col>congress</th><th scope=col>chamber</th><th scope=col>bioguide</th><th scope=col>firstname</th><th scope=col>middlename</th><th scope=col>lastname</th><th scope=col>suffix</th><th scope=col>birthday</th><th scope=col>state</th><th scope=col>party</th><th scope=col>incumbent</th><th scope=col>termstart</th><th scope=col>age</th><th scope=col>terms</th></tr>\n",
       "\t<tr><th scope=col>&lt;int&gt;</th><th scope=col>&lt;fct&gt;</th><th scope=col>&lt;fct&gt;</th><th scope=col>&lt;fct&gt;</th><th scope=col>&lt;fct&gt;</th><th scope=col>&lt;fct&gt;</th><th scope=col>&lt;fct&gt;</th><th scope=col>&lt;fct&gt;</th><th scope=col>&lt;fct&gt;</th><th scope=col>&lt;fct&gt;</th><th scope=col>&lt;fct&gt;</th><th scope=col>&lt;fct&gt;</th><th scope=col>&lt;dbl&gt;</th><th scope=col>&lt;int&gt;</th></tr>\n",
       "</thead>\n",
       "<tbody>\n",
       "\t<tr><td>84</td><td>house</td><td>D000355</td><td>John   </td><td>D.     </td><td>Dingell        </td><td>   </td><td>7/8/26  </td><td>MI</td><td>D</td><td>No </td><td>1/5/55 </td><td>28.5</td><td>30</td></tr>\n",
       "\t<tr><td>89</td><td>house</td><td>C000714</td><td>John   </td><td>       </td><td>Conyers        </td><td>Jr.</td><td>5/16/29 </td><td>MI</td><td>D</td><td>No </td><td>1/4/65 </td><td>35.6</td><td>25</td></tr>\n",
       "\t<tr><td>80</td><td>house</td><td>W000428</td><td>Jamie  </td><td>Lloyd  </td><td>Whitten        </td><td>   </td><td>4/18/10 </td><td>MS</td><td>D</td><td>Yes</td><td>1/3/47 </td><td>36.7</td><td>24</td></tr>\n",
       "\t<tr><td>81</td><td>house</td><td>Y000013</td><td>Sidney </td><td>Richard</td><td>Yates          </td><td>   </td><td>8/27/09 </td><td>IL</td><td>D</td><td>No </td><td>1/3/49 </td><td>39.4</td><td>24</td></tr>\n",
       "\t<tr><td>81</td><td>house</td><td>B000371</td><td>Charles</td><td>Edward </td><td>Bennett        </td><td>   </td><td>12/2/10 </td><td>FL</td><td>D</td><td>No </td><td>1/3/49 </td><td>38.1</td><td>22</td></tr>\n",
       "\t<tr><td>92</td><td>house</td><td>R000053</td><td>Charles</td><td>B.     </td><td>Rangel         </td><td>   </td><td>6/11/30 </td><td>NY</td><td>D</td><td>No </td><td>1/21/71</td><td>40.6</td><td>22</td></tr>\n",
       "\t<tr><td>92</td><td>house</td><td>Y000031</td><td>C.     </td><td>W. Bill</td><td>Young          </td><td>   </td><td>12/16/30</td><td>FL</td><td>R</td><td>No </td><td>1/21/71</td><td>40.1</td><td>22</td></tr>\n",
       "\t<tr><td>80</td><td>house</td><td>P000522</td><td>Charles</td><td>Melvin </td><td>Price          </td><td>   </td><td>1/1/05  </td><td>IL</td><td>D</td><td>Yes</td><td>1/3/47 </td><td>42.0</td><td>21</td></tr>\n",
       "\t<tr><td>83</td><td>house</td><td>N000009</td><td>William</td><td>Huston </td><td>Natcher        </td><td>   </td><td>9/11/09 </td><td>KY</td><td>D</td><td>No </td><td>1/3/53 </td><td>43.3</td><td>21</td></tr>\n",
       "\t<tr><td>83</td><td>house</td><td>B000880</td><td>Jack   </td><td>Bascom </td><td>Brooks         </td><td>   </td><td>12/18/22</td><td>TX</td><td>D</td><td>No </td><td>1/3/53 </td><td>30.0</td><td>21</td></tr>\n",
       "\t<tr><td>91</td><td>house</td><td>O000007</td><td>David  </td><td>Ross   </td><td>Obey           </td><td>   </td><td>10/3/38 </td><td>WI</td><td>D</td><td>No </td><td>1/3/69 </td><td>30.3</td><td>21</td></tr>\n",
       "\t<tr><td>93</td><td>house</td><td>Y000033</td><td>Don    </td><td>E.     </td><td>Young          </td><td>   </td><td>6/9/33  </td><td>AK</td><td>R</td><td>No </td><td>1/3/73 </td><td>39.6</td><td>21</td></tr>\n",
       "\t<tr><td>81</td><td>house</td><td>R000374</td><td>Peter  </td><td>Wallace</td><td>Rodino         </td><td>Jr.</td><td>6/7/09  </td><td>NJ</td><td>D</td><td>No </td><td>1/3/49 </td><td>39.6</td><td>20</td></tr>\n",
       "\t<tr><td>93</td><td>house</td><td>S000810</td><td>Fortney</td><td>H.     </td><td>Stark          </td><td>   </td><td>11/11/31</td><td>CA</td><td>D</td><td>No </td><td>1/3/73 </td><td>41.1</td><td>20</td></tr>\n",
       "\t<tr><td>94</td><td>house</td><td>W000215</td><td>Henry  </td><td>A.     </td><td>Waxman         </td><td>   </td><td>9/12/39 </td><td>CA</td><td>D</td><td>No </td><td>1/14/75</td><td>35.3</td><td>20</td></tr>\n",
       "\t<tr><td>94</td><td>house</td><td>M000725</td><td>George </td><td>       </td><td>Miller         </td><td>   </td><td>5/17/45 </td><td>CA</td><td>D</td><td>No </td><td>1/14/75</td><td>29.7</td><td>20</td></tr>\n",
       "\t<tr><td>94</td><td>house</td><td>M000133</td><td>Edward </td><td>J.     </td><td>Markey         </td><td>   </td><td>7/11/46 </td><td>MA</td><td>D</td><td>No </td><td>1/14/75</td><td>28.5</td><td>20</td></tr>\n",
       "\t<tr><td>84</td><td>house</td><td>F000041</td><td>Dante  </td><td>Bruno  </td><td>Fascell        </td><td>   </td><td>3/9/17  </td><td>FL</td><td>D</td><td>No </td><td>1/5/55 </td><td>37.8</td><td>19</td></tr>\n",
       "\t<tr><td>85</td><td>house</td><td>M000692</td><td>Robert </td><td>Henry  </td><td>Michel         </td><td>   </td><td>3/2/23  </td><td>IL</td><td>R</td><td>No </td><td>1/3/57 </td><td>33.8</td><td>19</td></tr>\n",
       "\t<tr><td>87</td><td>house</td><td>G000272</td><td>Henry  </td><td>Barbosa</td><td>Gonz<cc><c1>lez</td><td>   </td><td>5/3/16  </td><td>TX</td><td>D</td><td>No </td><td>1/3/61 </td><td>44.7</td><td>19</td></tr>\n",
       "\t<tr><td>93</td><td>house</td><td>M001120</td><td>John   </td><td>P.     </td><td>Murtha         </td><td>   </td><td>6/17/32 </td><td>PA</td><td>D</td><td>No </td><td>1/3/73 </td><td>40.5</td><td>19</td></tr>\n",
       "\t<tr><td>95</td><td>house</td><td>R000011</td><td>Nick   </td><td>J.     </td><td>Rahall         </td><td>II </td><td>5/20/49 </td><td>WV</td><td>D</td><td>No </td><td>1/4/77 </td><td>27.6</td><td>19</td></tr>\n",
       "\t<tr><td>81</td><td>house</td><td>P000230</td><td>Carl   </td><td>Dewey  </td><td>Perkins        </td><td>   </td><td>10/15/12</td><td>KY</td><td>D</td><td>No </td><td>1/3/49 </td><td>36.2</td><td>18</td></tr>\n",
       "\t<tr><td>81</td><td>house</td><td>Z000001</td><td>Clement</td><td>John   </td><td>Zablocki       </td><td>   </td><td>11/18/12</td><td>WI</td><td>D</td><td>No </td><td>1/3/49 </td><td>36.1</td><td>18</td></tr>\n",
       "\t<tr><td>83</td><td>house</td><td>B000600</td><td>Edward </td><td>Patrick</td><td>Boland         </td><td>   </td><td>10/1/11 </td><td>MA</td><td>D</td><td>No </td><td>1/3/53 </td><td>41.3</td><td>18</td></tr>\n",
       "\t<tr><td>84</td><td>house</td><td>W000763</td><td>James  </td><td>Claude </td><td>Wright         </td><td>Jr.</td><td>12/22/22</td><td>TX</td><td>D</td><td>No </td><td>1/5/55 </td><td>32.0</td><td>18</td></tr>\n",
       "\t<tr><td>85</td><td>house</td><td>B000890</td><td>William</td><td>S.     </td><td>Broomfield     </td><td>   </td><td>4/28/22 </td><td>MI</td><td>R</td><td>No </td><td>1/3/57 </td><td>34.7</td><td>18</td></tr>\n",
       "\t<tr><td>86</td><td>house</td><td>S000596</td><td>Neal   </td><td>Edward </td><td>Smith          </td><td>   </td><td>3/23/20 </td><td>IA</td><td>D</td><td>No </td><td>1/7/59 </td><td>38.8</td><td>18</td></tr>\n",
       "\t<tr><td>86</td><td>house</td><td>R000458</td><td>Daniel </td><td>David  </td><td>Rostenkowski   </td><td>   </td><td>1/2/28  </td><td>IL</td><td>D</td><td>No </td><td>1/7/59 </td><td>31.0</td><td>18</td></tr>\n",
       "\t<tr><td>88</td><td>house</td><td>B000918</td><td>George </td><td>E.     </td><td>Brown          </td><td>Jr.</td><td>3/6/20  </td><td>CA</td><td>D</td><td>No </td><td>1/9/63 </td><td>42.8</td><td>18</td></tr>\n",
       "\t<tr><td>⋮</td><td>⋮</td><td>⋮</td><td>⋮</td><td>⋮</td><td>⋮</td><td>⋮</td><td>⋮</td><td>⋮</td><td>⋮</td><td>⋮</td><td>⋮</td><td>⋮</td><td>⋮</td></tr>\n",
       "\t<tr><td>113</td><td>house</td><td>B001287</td><td>Ami      </td><td>       </td><td>Bera       </td><td>   </td><td>3/2/65  </td><td>CA</td><td>D</td><td>No</td><td>1/3/13</td><td>47.8</td><td>1</td></tr>\n",
       "\t<tr><td>113</td><td>house</td><td>M001185</td><td>Sean     </td><td>Patrick</td><td>Maloney    </td><td>   </td><td>7/30/66 </td><td>NY</td><td>D</td><td>No</td><td>1/3/13</td><td>46.4</td><td>1</td></tr>\n",
       "\t<tr><td>113</td><td>house</td><td>C001093</td><td>Doug     </td><td>       </td><td>Collins    </td><td>   </td><td>8/16/66 </td><td>GA</td><td>R</td><td>No</td><td>1/3/13</td><td>46.4</td><td>1</td></tr>\n",
       "\t<tr><td>113</td><td>house</td><td>D000622</td><td>Tammy    </td><td>       </td><td>Duckworth  </td><td>   </td><td>3/12/68 </td><td>IL</td><td>D</td><td>No</td><td>1/3/13</td><td>44.8</td><td>1</td></tr>\n",
       "\t<tr><td>113</td><td>house</td><td>H001065</td><td>George   </td><td>       </td><td>Holding    </td><td>   </td><td>4/17/68 </td><td>NC</td><td>R</td><td>No</td><td>1/3/13</td><td>44.7</td><td>1</td></tr>\n",
       "\t<tr><td>113</td><td>house</td><td>M001189</td><td>Luke     </td><td>       </td><td>Messer     </td><td>   </td><td>2/27/69 </td><td>IN</td><td>R</td><td>No</td><td>1/3/13</td><td>43.8</td><td>1</td></tr>\n",
       "\t<tr><td>113</td><td>house</td><td>D000619</td><td>Rodney   </td><td>       </td><td>Davis      </td><td>   </td><td>1/5/70  </td><td>IL</td><td>R</td><td>No</td><td>1/3/13</td><td>43.0</td><td>1</td></tr>\n",
       "\t<tr><td>113</td><td>house</td><td>J000294</td><td>Hakeem   </td><td>S.     </td><td>Jeffries   </td><td>   </td><td>8/4/70  </td><td>NY</td><td>D</td><td>No</td><td>1/3/13</td><td>42.4</td><td>1</td></tr>\n",
       "\t<tr><td>113</td><td>house</td><td>V000131</td><td>Marc     </td><td>A.     </td><td>Veasey     </td><td>   </td><td>1/3/71  </td><td>TX</td><td>D</td><td>No</td><td>1/3/13</td><td>42.0</td><td>1</td></tr>\n",
       "\t<tr><td>113</td><td>house</td><td>H001067</td><td>Richard  </td><td>       </td><td>Hudson     </td><td>   </td><td>11/4/71 </td><td>NC</td><td>R</td><td>No</td><td>1/3/13</td><td>41.2</td><td>1</td></tr>\n",
       "\t<tr><td>113</td><td>house</td><td>R000599</td><td>Raul     </td><td>       </td><td>Ruiz       </td><td>   </td><td>8/25/72 </td><td>CA</td><td>D</td><td>No</td><td>1/3/13</td><td>40.4</td><td>1</td></tr>\n",
       "\t<tr><td>113</td><td>house</td><td>O000170</td><td>Beto     </td><td>       </td><td>O'Rourke   </td><td>   </td><td>9/26/72 </td><td>TX</td><td>D</td><td>No</td><td>1/3/13</td><td>40.3</td><td>1</td></tr>\n",
       "\t<tr><td>113</td><td>house</td><td>H001066</td><td>Steven   </td><td>A.     </td><td>Horsford   </td><td>   </td><td>4/29/73 </td><td>NV</td><td>D</td><td>No</td><td>1/3/13</td><td>39.7</td><td>1</td></tr>\n",
       "\t<tr><td>113</td><td>house</td><td>B001282</td><td>Garland  </td><td>       </td><td>Barr       </td><td>   </td><td>7/24/73 </td><td>KY</td><td>R</td><td>No</td><td>1/3/13</td><td>39.4</td><td>1</td></tr>\n",
       "\t<tr><td>113</td><td>house</td><td>K000381</td><td>Derek    </td><td>       </td><td>Kilmer     </td><td>   </td><td>1/1/74  </td><td>WA</td><td>D</td><td>No</td><td>1/3/13</td><td>39.0</td><td>1</td></tr>\n",
       "\t<tr><td>113</td><td>house</td><td>M001192</td><td>Vance    </td><td>       </td><td>McAllister </td><td>   </td><td>1/7/74  </td><td>LA</td><td>R</td><td>No</td><td>1/3/13</td><td>39.0</td><td>1</td></tr>\n",
       "\t<tr><td>113</td><td>house</td><td>C001091</td><td>Joaquin  </td><td>       </td><td>Castro     </td><td>   </td><td>9/16/74 </td><td>TX</td><td>D</td><td>No</td><td>1/3/13</td><td>38.3</td><td>1</td></tr>\n",
       "\t<tr><td>113</td><td>house</td><td>B001283</td><td>Jim      </td><td>       </td><td>Bridenstine</td><td>   </td><td>6/15/75 </td><td>OK</td><td>R</td><td>No</td><td>1/3/13</td><td>37.6</td><td>1</td></tr>\n",
       "\t<tr><td>113</td><td>house</td><td>M001188</td><td>Grace    </td><td>       </td><td>Meng       </td><td>   </td><td>10/1/75 </td><td>NY</td><td>D</td><td>No</td><td>1/3/13</td><td>37.3</td><td>1</td></tr>\n",
       "\t<tr><td>113</td><td>house</td><td>R000596</td><td>Trey     </td><td>       </td><td>Radel      </td><td>   </td><td>4/20/76 </td><td>FL</td><td>R</td><td>No</td><td>1/3/13</td><td>36.7</td><td>1</td></tr>\n",
       "\t<tr><td>113</td><td>house</td><td>S001191</td><td>Kyrsten  </td><td>       </td><td>Sinema     </td><td>   </td><td>7/12/76 </td><td>AZ</td><td>D</td><td>No</td><td>1/3/13</td><td>36.5</td><td>1</td></tr>\n",
       "\t<tr><td>113</td><td>house</td><td>V000129</td><td>David    </td><td>G.     </td><td>Valadao    </td><td>   </td><td>4/14/77 </td><td>CA</td><td>R</td><td>No</td><td>1/3/13</td><td>35.7</td><td>1</td></tr>\n",
       "\t<tr><td>113</td><td>house</td><td>C001095</td><td>Tom      </td><td>       </td><td>Cotton     </td><td>   </td><td>5/13/77 </td><td>AR</td><td>R</td><td>No</td><td>1/3/13</td><td>35.6</td><td>1</td></tr>\n",
       "\t<tr><td>113</td><td>house</td><td>M001190</td><td>Markwayne</td><td>       </td><td>Mullin     </td><td>   </td><td>7/26/77 </td><td>OK</td><td>R</td><td>No</td><td>1/3/13</td><td>35.4</td><td>1</td></tr>\n",
       "\t<tr><td>113</td><td>house</td><td>D000621</td><td>Ron      </td><td>       </td><td>DeSantis   </td><td>   </td><td>9/14/78 </td><td>FL</td><td>R</td><td>No</td><td>1/3/13</td><td>34.3</td><td>1</td></tr>\n",
       "\t<tr><td>113</td><td>house</td><td>S001195</td><td>Jason    </td><td>T.     </td><td>Smith      </td><td>   </td><td>6/16/80 </td><td>MO</td><td>R</td><td>No</td><td>1/3/13</td><td>32.6</td><td>1</td></tr>\n",
       "\t<tr><td>113</td><td>house</td><td>K000379</td><td>Joseph   </td><td>P.     </td><td>Kennedy    </td><td>III</td><td>10/4/80 </td><td>MA</td><td>D</td><td>No</td><td>1/3/13</td><td>32.2</td><td>1</td></tr>\n",
       "\t<tr><td>113</td><td>house</td><td>S001193</td><td>Eric     </td><td>       </td><td>Swalwell   </td><td>   </td><td>11/16/80</td><td>CA</td><td>D</td><td>No</td><td>1/3/13</td><td>32.1</td><td>1</td></tr>\n",
       "\t<tr><td>113</td><td>house</td><td>G000571</td><td>Tulsi    </td><td>       </td><td>Gabbard    </td><td>   </td><td>4/12/81 </td><td>HI</td><td>D</td><td>No</td><td>1/3/13</td><td>31.7</td><td>1</td></tr>\n",
       "\t<tr><td>113</td><td>house</td><td>M001191</td><td>Patrick  </td><td>       </td><td>Murphy     </td><td>   </td><td>3/30/83 </td><td>FL</td><td>D</td><td>No</td><td>1/3/13</td><td>29.8</td><td>1</td></tr>\n",
       "</tbody>\n",
       "</table>\n"
      ],
      "text/latex": [
       "A grouped_df: 2796 × 14\n",
       "\\begin{tabular}{r|llllllllllllll}\n",
       " congress & chamber & bioguide & firstname & middlename & lastname & suffix & birthday & state & party & incumbent & termstart & age & terms\\\\\n",
       " <int> & <fct> & <fct> & <fct> & <fct> & <fct> & <fct> & <fct> & <fct> & <fct> & <fct> & <fct> & <dbl> & <int>\\\\\n",
       "\\hline\n",
       "\t 84 & house & D000355 & John    & D.      & Dingell         &     & 7/8/26   & MI & D & No  & 1/5/55  & 28.5 & 30\\\\\n",
       "\t 89 & house & C000714 & John    &         & Conyers         & Jr. & 5/16/29  & MI & D & No  & 1/4/65  & 35.6 & 25\\\\\n",
       "\t 80 & house & W000428 & Jamie   & Lloyd   & Whitten         &     & 4/18/10  & MS & D & Yes & 1/3/47  & 36.7 & 24\\\\\n",
       "\t 81 & house & Y000013 & Sidney  & Richard & Yates           &     & 8/27/09  & IL & D & No  & 1/3/49  & 39.4 & 24\\\\\n",
       "\t 81 & house & B000371 & Charles & Edward  & Bennett         &     & 12/2/10  & FL & D & No  & 1/3/49  & 38.1 & 22\\\\\n",
       "\t 92 & house & R000053 & Charles & B.      & Rangel          &     & 6/11/30  & NY & D & No  & 1/21/71 & 40.6 & 22\\\\\n",
       "\t 92 & house & Y000031 & C.      & W. Bill & Young           &     & 12/16/30 & FL & R & No  & 1/21/71 & 40.1 & 22\\\\\n",
       "\t 80 & house & P000522 & Charles & Melvin  & Price           &     & 1/1/05   & IL & D & Yes & 1/3/47  & 42.0 & 21\\\\\n",
       "\t 83 & house & N000009 & William & Huston  & Natcher         &     & 9/11/09  & KY & D & No  & 1/3/53  & 43.3 & 21\\\\\n",
       "\t 83 & house & B000880 & Jack    & Bascom  & Brooks          &     & 12/18/22 & TX & D & No  & 1/3/53  & 30.0 & 21\\\\\n",
       "\t 91 & house & O000007 & David   & Ross    & Obey            &     & 10/3/38  & WI & D & No  & 1/3/69  & 30.3 & 21\\\\\n",
       "\t 93 & house & Y000033 & Don     & E.      & Young           &     & 6/9/33   & AK & R & No  & 1/3/73  & 39.6 & 21\\\\\n",
       "\t 81 & house & R000374 & Peter   & Wallace & Rodino          & Jr. & 6/7/09   & NJ & D & No  & 1/3/49  & 39.6 & 20\\\\\n",
       "\t 93 & house & S000810 & Fortney & H.      & Stark           &     & 11/11/31 & CA & D & No  & 1/3/73  & 41.1 & 20\\\\\n",
       "\t 94 & house & W000215 & Henry   & A.      & Waxman          &     & 9/12/39  & CA & D & No  & 1/14/75 & 35.3 & 20\\\\\n",
       "\t 94 & house & M000725 & George  &         & Miller          &     & 5/17/45  & CA & D & No  & 1/14/75 & 29.7 & 20\\\\\n",
       "\t 94 & house & M000133 & Edward  & J.      & Markey          &     & 7/11/46  & MA & D & No  & 1/14/75 & 28.5 & 20\\\\\n",
       "\t 84 & house & F000041 & Dante   & Bruno   & Fascell         &     & 3/9/17   & FL & D & No  & 1/5/55  & 37.8 & 19\\\\\n",
       "\t 85 & house & M000692 & Robert  & Henry   & Michel          &     & 3/2/23   & IL & R & No  & 1/3/57  & 33.8 & 19\\\\\n",
       "\t 87 & house & G000272 & Henry   & Barbosa & Gonz<cc><c1>lez &     & 5/3/16   & TX & D & No  & 1/3/61  & 44.7 & 19\\\\\n",
       "\t 93 & house & M001120 & John    & P.      & Murtha          &     & 6/17/32  & PA & D & No  & 1/3/73  & 40.5 & 19\\\\\n",
       "\t 95 & house & R000011 & Nick    & J.      & Rahall          & II  & 5/20/49  & WV & D & No  & 1/4/77  & 27.6 & 19\\\\\n",
       "\t 81 & house & P000230 & Carl    & Dewey   & Perkins         &     & 10/15/12 & KY & D & No  & 1/3/49  & 36.2 & 18\\\\\n",
       "\t 81 & house & Z000001 & Clement & John    & Zablocki        &     & 11/18/12 & WI & D & No  & 1/3/49  & 36.1 & 18\\\\\n",
       "\t 83 & house & B000600 & Edward  & Patrick & Boland          &     & 10/1/11  & MA & D & No  & 1/3/53  & 41.3 & 18\\\\\n",
       "\t 84 & house & W000763 & James   & Claude  & Wright          & Jr. & 12/22/22 & TX & D & No  & 1/5/55  & 32.0 & 18\\\\\n",
       "\t 85 & house & B000890 & William & S.      & Broomfield      &     & 4/28/22  & MI & R & No  & 1/3/57  & 34.7 & 18\\\\\n",
       "\t 86 & house & S000596 & Neal    & Edward  & Smith           &     & 3/23/20  & IA & D & No  & 1/7/59  & 38.8 & 18\\\\\n",
       "\t 86 & house & R000458 & Daniel  & David   & Rostenkowski    &     & 1/2/28   & IL & D & No  & 1/7/59  & 31.0 & 18\\\\\n",
       "\t 88 & house & B000918 & George  & E.      & Brown           & Jr. & 3/6/20   & CA & D & No  & 1/9/63  & 42.8 & 18\\\\\n",
       "\t ⋮ & ⋮ & ⋮ & ⋮ & ⋮ & ⋮ & ⋮ & ⋮ & ⋮ & ⋮ & ⋮ & ⋮ & ⋮ & ⋮\\\\\n",
       "\t 113 & house & B001287 & Ami       &         & Bera        &     & 3/2/65   & CA & D & No & 1/3/13 & 47.8 & 1\\\\\n",
       "\t 113 & house & M001185 & Sean      & Patrick & Maloney     &     & 7/30/66  & NY & D & No & 1/3/13 & 46.4 & 1\\\\\n",
       "\t 113 & house & C001093 & Doug      &         & Collins     &     & 8/16/66  & GA & R & No & 1/3/13 & 46.4 & 1\\\\\n",
       "\t 113 & house & D000622 & Tammy     &         & Duckworth   &     & 3/12/68  & IL & D & No & 1/3/13 & 44.8 & 1\\\\\n",
       "\t 113 & house & H001065 & George    &         & Holding     &     & 4/17/68  & NC & R & No & 1/3/13 & 44.7 & 1\\\\\n",
       "\t 113 & house & M001189 & Luke      &         & Messer      &     & 2/27/69  & IN & R & No & 1/3/13 & 43.8 & 1\\\\\n",
       "\t 113 & house & D000619 & Rodney    &         & Davis       &     & 1/5/70   & IL & R & No & 1/3/13 & 43.0 & 1\\\\\n",
       "\t 113 & house & J000294 & Hakeem    & S.      & Jeffries    &     & 8/4/70   & NY & D & No & 1/3/13 & 42.4 & 1\\\\\n",
       "\t 113 & house & V000131 & Marc      & A.      & Veasey      &     & 1/3/71   & TX & D & No & 1/3/13 & 42.0 & 1\\\\\n",
       "\t 113 & house & H001067 & Richard   &         & Hudson      &     & 11/4/71  & NC & R & No & 1/3/13 & 41.2 & 1\\\\\n",
       "\t 113 & house & R000599 & Raul      &         & Ruiz        &     & 8/25/72  & CA & D & No & 1/3/13 & 40.4 & 1\\\\\n",
       "\t 113 & house & O000170 & Beto      &         & O'Rourke    &     & 9/26/72  & TX & D & No & 1/3/13 & 40.3 & 1\\\\\n",
       "\t 113 & house & H001066 & Steven    & A.      & Horsford    &     & 4/29/73  & NV & D & No & 1/3/13 & 39.7 & 1\\\\\n",
       "\t 113 & house & B001282 & Garland   &         & Barr        &     & 7/24/73  & KY & R & No & 1/3/13 & 39.4 & 1\\\\\n",
       "\t 113 & house & K000381 & Derek     &         & Kilmer      &     & 1/1/74   & WA & D & No & 1/3/13 & 39.0 & 1\\\\\n",
       "\t 113 & house & M001192 & Vance     &         & McAllister  &     & 1/7/74   & LA & R & No & 1/3/13 & 39.0 & 1\\\\\n",
       "\t 113 & house & C001091 & Joaquin   &         & Castro      &     & 9/16/74  & TX & D & No & 1/3/13 & 38.3 & 1\\\\\n",
       "\t 113 & house & B001283 & Jim       &         & Bridenstine &     & 6/15/75  & OK & R & No & 1/3/13 & 37.6 & 1\\\\\n",
       "\t 113 & house & M001188 & Grace     &         & Meng        &     & 10/1/75  & NY & D & No & 1/3/13 & 37.3 & 1\\\\\n",
       "\t 113 & house & R000596 & Trey      &         & Radel       &     & 4/20/76  & FL & R & No & 1/3/13 & 36.7 & 1\\\\\n",
       "\t 113 & house & S001191 & Kyrsten   &         & Sinema      &     & 7/12/76  & AZ & D & No & 1/3/13 & 36.5 & 1\\\\\n",
       "\t 113 & house & V000129 & David     & G.      & Valadao     &     & 4/14/77  & CA & R & No & 1/3/13 & 35.7 & 1\\\\\n",
       "\t 113 & house & C001095 & Tom       &         & Cotton      &     & 5/13/77  & AR & R & No & 1/3/13 & 35.6 & 1\\\\\n",
       "\t 113 & house & M001190 & Markwayne &         & Mullin      &     & 7/26/77  & OK & R & No & 1/3/13 & 35.4 & 1\\\\\n",
       "\t 113 & house & D000621 & Ron       &         & DeSantis    &     & 9/14/78  & FL & R & No & 1/3/13 & 34.3 & 1\\\\\n",
       "\t 113 & house & S001195 & Jason     & T.      & Smith       &     & 6/16/80  & MO & R & No & 1/3/13 & 32.6 & 1\\\\\n",
       "\t 113 & house & K000379 & Joseph    & P.      & Kennedy     & III & 10/4/80  & MA & D & No & 1/3/13 & 32.2 & 1\\\\\n",
       "\t 113 & house & S001193 & Eric      &         & Swalwell    &     & 11/16/80 & CA & D & No & 1/3/13 & 32.1 & 1\\\\\n",
       "\t 113 & house & G000571 & Tulsi     &         & Gabbard     &     & 4/12/81  & HI & D & No & 1/3/13 & 31.7 & 1\\\\\n",
       "\t 113 & house & M001191 & Patrick   &         & Murphy      &     & 3/30/83  & FL & D & No & 1/3/13 & 29.8 & 1\\\\\n",
       "\\end{tabular}\n"
      ],
      "text/plain": [
       "     congress chamber bioguide firstname middlename lastname        suffix\n",
       "1    84       house   D000355  John      D.         Dingell               \n",
       "2    89       house   C000714  John                 Conyers         Jr.   \n",
       "3    80       house   W000428  Jamie     Lloyd      Whitten               \n",
       "4    81       house   Y000013  Sidney    Richard    Yates                 \n",
       "5    81       house   B000371  Charles   Edward     Bennett               \n",
       "6    92       house   R000053  Charles   B.         Rangel                \n",
       "7    92       house   Y000031  C.        W. Bill    Young                 \n",
       "8    80       house   P000522  Charles   Melvin     Price                 \n",
       "9    83       house   N000009  William   Huston     Natcher               \n",
       "10   83       house   B000880  Jack      Bascom     Brooks                \n",
       "11   91       house   O000007  David     Ross       Obey                  \n",
       "12   93       house   Y000033  Don       E.         Young                 \n",
       "13   81       house   R000374  Peter     Wallace    Rodino          Jr.   \n",
       "14   93       house   S000810  Fortney   H.         Stark                 \n",
       "15   94       house   W000215  Henry     A.         Waxman                \n",
       "16   94       house   M000725  George               Miller                \n",
       "17   94       house   M000133  Edward    J.         Markey                \n",
       "18   84       house   F000041  Dante     Bruno      Fascell               \n",
       "19   85       house   M000692  Robert    Henry      Michel                \n",
       "20   87       house   G000272  Henry     Barbosa    Gonz\\xcc\\xc1lez       \n",
       "21   93       house   M001120  John      P.         Murtha                \n",
       "22   95       house   R000011  Nick      J.         Rahall          II    \n",
       "23   81       house   P000230  Carl      Dewey      Perkins               \n",
       "24   81       house   Z000001  Clement   John       Zablocki              \n",
       "25   83       house   B000600  Edward    Patrick    Boland                \n",
       "26   84       house   W000763  James     Claude     Wright          Jr.   \n",
       "27   85       house   B000890  William   S.         Broomfield            \n",
       "28   86       house   S000596  Neal      Edward     Smith                 \n",
       "29   86       house   R000458  Daniel    David      Rostenkowski          \n",
       "30   88       house   B000918  George    E.         Brown           Jr.   \n",
       "⋮    ⋮        ⋮       ⋮        ⋮         ⋮          ⋮               ⋮     \n",
       "2767 113      house   B001287  Ami                  Bera                  \n",
       "2768 113      house   M001185  Sean      Patrick    Maloney               \n",
       "2769 113      house   C001093  Doug                 Collins               \n",
       "2770 113      house   D000622  Tammy                Duckworth             \n",
       "2771 113      house   H001065  George               Holding               \n",
       "2772 113      house   M001189  Luke                 Messer                \n",
       "2773 113      house   D000619  Rodney               Davis                 \n",
       "2774 113      house   J000294  Hakeem    S.         Jeffries              \n",
       "2775 113      house   V000131  Marc      A.         Veasey                \n",
       "2776 113      house   H001067  Richard              Hudson                \n",
       "2777 113      house   R000599  Raul                 Ruiz                  \n",
       "2778 113      house   O000170  Beto                 O'Rourke              \n",
       "2779 113      house   H001066  Steven    A.         Horsford              \n",
       "2780 113      house   B001282  Garland              Barr                  \n",
       "2781 113      house   K000381  Derek                Kilmer                \n",
       "2782 113      house   M001192  Vance                McAllister            \n",
       "2783 113      house   C001091  Joaquin              Castro                \n",
       "2784 113      house   B001283  Jim                  Bridenstine           \n",
       "2785 113      house   M001188  Grace                Meng                  \n",
       "2786 113      house   R000596  Trey                 Radel                 \n",
       "2787 113      house   S001191  Kyrsten              Sinema                \n",
       "2788 113      house   V000129  David     G.         Valadao               \n",
       "2789 113      house   C001095  Tom                  Cotton                \n",
       "2790 113      house   M001190  Markwayne            Mullin                \n",
       "2791 113      house   D000621  Ron                  DeSantis              \n",
       "2792 113      house   S001195  Jason     T.         Smith                 \n",
       "2793 113      house   K000379  Joseph    P.         Kennedy         III   \n",
       "2794 113      house   S001193  Eric                 Swalwell              \n",
       "2795 113      house   G000571  Tulsi                Gabbard               \n",
       "2796 113      house   M001191  Patrick              Murphy                \n",
       "     birthday state party incumbent termstart age  terms\n",
       "1    7/8/26   MI    D     No        1/5/55    28.5 30   \n",
       "2    5/16/29  MI    D     No        1/4/65    35.6 25   \n",
       "3    4/18/10  MS    D     Yes       1/3/47    36.7 24   \n",
       "4    8/27/09  IL    D     No        1/3/49    39.4 24   \n",
       "5    12/2/10  FL    D     No        1/3/49    38.1 22   \n",
       "6    6/11/30  NY    D     No        1/21/71   40.6 22   \n",
       "7    12/16/30 FL    R     No        1/21/71   40.1 22   \n",
       "8    1/1/05   IL    D     Yes       1/3/47    42.0 21   \n",
       "9    9/11/09  KY    D     No        1/3/53    43.3 21   \n",
       "10   12/18/22 TX    D     No        1/3/53    30.0 21   \n",
       "11   10/3/38  WI    D     No        1/3/69    30.3 21   \n",
       "12   6/9/33   AK    R     No        1/3/73    39.6 21   \n",
       "13   6/7/09   NJ    D     No        1/3/49    39.6 20   \n",
       "14   11/11/31 CA    D     No        1/3/73    41.1 20   \n",
       "15   9/12/39  CA    D     No        1/14/75   35.3 20   \n",
       "16   5/17/45  CA    D     No        1/14/75   29.7 20   \n",
       "17   7/11/46  MA    D     No        1/14/75   28.5 20   \n",
       "18   3/9/17   FL    D     No        1/5/55    37.8 19   \n",
       "19   3/2/23   IL    R     No        1/3/57    33.8 19   \n",
       "20   5/3/16   TX    D     No        1/3/61    44.7 19   \n",
       "21   6/17/32  PA    D     No        1/3/73    40.5 19   \n",
       "22   5/20/49  WV    D     No        1/4/77    27.6 19   \n",
       "23   10/15/12 KY    D     No        1/3/49    36.2 18   \n",
       "24   11/18/12 WI    D     No        1/3/49    36.1 18   \n",
       "25   10/1/11  MA    D     No        1/3/53    41.3 18   \n",
       "26   12/22/22 TX    D     No        1/5/55    32.0 18   \n",
       "27   4/28/22  MI    R     No        1/3/57    34.7 18   \n",
       "28   3/23/20  IA    D     No        1/7/59    38.8 18   \n",
       "29   1/2/28   IL    D     No        1/7/59    31.0 18   \n",
       "30   3/6/20   CA    D     No        1/9/63    42.8 18   \n",
       "⋮    ⋮        ⋮     ⋮     ⋮         ⋮         ⋮    ⋮    \n",
       "2767 3/2/65   CA    D     No        1/3/13    47.8 1    \n",
       "2768 7/30/66  NY    D     No        1/3/13    46.4 1    \n",
       "2769 8/16/66  GA    R     No        1/3/13    46.4 1    \n",
       "2770 3/12/68  IL    D     No        1/3/13    44.8 1    \n",
       "2771 4/17/68  NC    R     No        1/3/13    44.7 1    \n",
       "2772 2/27/69  IN    R     No        1/3/13    43.8 1    \n",
       "2773 1/5/70   IL    R     No        1/3/13    43.0 1    \n",
       "2774 8/4/70   NY    D     No        1/3/13    42.4 1    \n",
       "2775 1/3/71   TX    D     No        1/3/13    42.0 1    \n",
       "2776 11/4/71  NC    R     No        1/3/13    41.2 1    \n",
       "2777 8/25/72  CA    D     No        1/3/13    40.4 1    \n",
       "2778 9/26/72  TX    D     No        1/3/13    40.3 1    \n",
       "2779 4/29/73  NV    D     No        1/3/13    39.7 1    \n",
       "2780 7/24/73  KY    R     No        1/3/13    39.4 1    \n",
       "2781 1/1/74   WA    D     No        1/3/13    39.0 1    \n",
       "2782 1/7/74   LA    R     No        1/3/13    39.0 1    \n",
       "2783 9/16/74  TX    D     No        1/3/13    38.3 1    \n",
       "2784 6/15/75  OK    R     No        1/3/13    37.6 1    \n",
       "2785 10/1/75  NY    D     No        1/3/13    37.3 1    \n",
       "2786 4/20/76  FL    R     No        1/3/13    36.7 1    \n",
       "2787 7/12/76  AZ    D     No        1/3/13    36.5 1    \n",
       "2788 4/14/77  CA    R     No        1/3/13    35.7 1    \n",
       "2789 5/13/77  AR    R     No        1/3/13    35.6 1    \n",
       "2790 7/26/77  OK    R     No        1/3/13    35.4 1    \n",
       "2791 9/14/78  FL    R     No        1/3/13    34.3 1    \n",
       "2792 6/16/80  MO    R     No        1/3/13    32.6 1    \n",
       "2793 10/4/80  MA    D     No        1/3/13    32.2 1    \n",
       "2794 11/16/80 CA    D     No        1/3/13    32.1 1    \n",
       "2795 4/12/81  HI    D     No        1/3/13    31.7 1    \n",
       "2796 3/30/83  FL    D     No        1/3/13    29.8 1    "
      ]
     },
     "metadata": {},
     "output_type": "display_data"
    }
   ],
   "source": [
    "df %>% filter(chamber == 'house') %>%\n",
    "    group_by(bioguide) %>% mutate(terms = n()) %>% distinct(bioguide, .keep_all = TRUE) %>%\n",
    "    arrange(desc(terms))"
   ]
  },
  {
   "cell_type": "code",
   "execution_count": 14,
   "metadata": {},
   "outputs": [
    {
     "data": {
      "text/html": [
       "<table>\n",
       "<caption>A grouped_df: 574 × 14</caption>\n",
       "<thead>\n",
       "\t<tr><th scope=col>congress</th><th scope=col>chamber</th><th scope=col>bioguide</th><th scope=col>firstname</th><th scope=col>middlename</th><th scope=col>lastname</th><th scope=col>suffix</th><th scope=col>birthday</th><th scope=col>state</th><th scope=col>party</th><th scope=col>incumbent</th><th scope=col>termstart</th><th scope=col>age</th><th scope=col>terms</th></tr>\n",
       "\t<tr><th scope=col>&lt;int&gt;</th><th scope=col>&lt;fct&gt;</th><th scope=col>&lt;fct&gt;</th><th scope=col>&lt;fct&gt;</th><th scope=col>&lt;fct&gt;</th><th scope=col>&lt;fct&gt;</th><th scope=col>&lt;fct&gt;</th><th scope=col>&lt;fct&gt;</th><th scope=col>&lt;fct&gt;</th><th scope=col>&lt;fct&gt;</th><th scope=col>&lt;fct&gt;</th><th scope=col>&lt;fct&gt;</th><th scope=col>&lt;dbl&gt;</th><th scope=col>&lt;int&gt;</th></tr>\n",
       "</thead>\n",
       "<tbody>\n",
       "\t<tr><td>83</td><td>senate</td><td>T000254</td><td>J.       </td><td>Strom    </td><td>Thurmond </td><td>   </td><td>1902-12-05</td><td>SC</td><td>D</td><td>No </td><td>1/3/53 </td><td>50.1</td><td>26</td></tr>\n",
       "\t<tr><td>86</td><td>senate</td><td>B001210</td><td>Robert   </td><td>C.       </td><td>Byrd     </td><td>   </td><td>11/20/17  </td><td>WV</td><td>D</td><td>Yes</td><td>1/7/59 </td><td>41.1</td><td>26</td></tr>\n",
       "\t<tr><td>87</td><td>senate</td><td>K000105</td><td>Edward   </td><td>M.       </td><td>Kennedy  </td><td>   </td><td>2/22/32   </td><td>MA</td><td>D</td><td>No </td><td>1/3/61 </td><td>28.9</td><td>25</td></tr>\n",
       "\t<tr><td>88</td><td>senate</td><td>I000025</td><td>Daniel   </td><td>K.       </td><td>Inouye   </td><td>   </td><td>9/7/24    </td><td>HI</td><td>D</td><td>Yes</td><td>1/9/63 </td><td>38.3</td><td>25</td></tr>\n",
       "\t<tr><td>80</td><td>senate</td><td>S000852</td><td>John     </td><td>Cornelius</td><td>Stennis  </td><td>   </td><td>1901-08-03</td><td>MS</td><td>D</td><td>No </td><td>1/3/47 </td><td>45.4</td><td>21</td></tr>\n",
       "\t<tr><td>90</td><td>senate</td><td>S000888</td><td>Ted      </td><td>F.       </td><td>Stevens  </td><td>   </td><td>11/18/23  </td><td>AK</td><td>R</td><td>No </td><td>1/10/67</td><td>43.1</td><td>21</td></tr>\n",
       "\t<tr><td>80</td><td>senate</td><td>L000428</td><td>Russell  </td><td>Billiu   </td><td>Long     </td><td>   </td><td>11/3/18   </td><td>LA</td><td>D</td><td>Yes</td><td>1/3/47 </td><td>28.2</td><td>20</td></tr>\n",
       "\t<tr><td>89</td><td>senate</td><td>H000725</td><td>Ernest   </td><td>F.       </td><td>Hollings </td><td>   </td><td>1/1/22    </td><td>SC</td><td>D</td><td>No </td><td>1/4/65 </td><td>43.0</td><td>20</td></tr>\n",
       "\t<tr><td>94</td><td>senate</td><td>L000174</td><td>Patrick  </td><td>J.       </td><td>Leahy    </td><td>   </td><td>3/31/40   </td><td>VT</td><td>D</td><td>No </td><td>1/14/75</td><td>34.8</td><td>20</td></tr>\n",
       "\t<tr><td>93</td><td>senate</td><td>B000444</td><td>Joseph   </td><td>R.       </td><td>Biden    </td><td>Jr.</td><td>11/20/42  </td><td>DE</td><td>D</td><td>No </td><td>1/3/73 </td><td>30.1</td><td>19</td></tr>\n",
       "\t<tr><td>95</td><td>senate</td><td>H000338</td><td>Orrin    </td><td>G.       </td><td>Hatch    </td><td>   </td><td>3/22/34   </td><td>UT</td><td>R</td><td>No </td><td>1/4/77 </td><td>42.8</td><td>19</td></tr>\n",
       "\t<tr><td>95</td><td>senate</td><td>C000567</td><td>Thad     </td><td>         </td><td>Cochran  </td><td>   </td><td>12/7/37   </td><td>MS</td><td>R</td><td>Yes</td><td>1/4/77 </td><td>39.1</td><td>19</td></tr>\n",
       "\t<tr><td>95</td><td>senate</td><td>B000243</td><td>Max      </td><td>S.       </td><td>Baucus   </td><td>   </td><td>12/11/41  </td><td>MT</td><td>D</td><td>Yes</td><td>1/4/77 </td><td>35.1</td><td>19</td></tr>\n",
       "\t<tr><td>87</td><td>senate</td><td>P000193</td><td>Claiborne</td><td>de Borda </td><td>Pell     </td><td>   </td><td>11/22/18  </td><td>RI</td><td>D</td><td>No </td><td>1/3/61 </td><td>42.1</td><td>18</td></tr>\n",
       "\t<tr><td>93</td><td>senate</td><td>D000407</td><td>Pete     </td><td>V.       </td><td>Domenici </td><td>   </td><td>5/7/32    </td><td>NM</td><td>R</td><td>No </td><td>1/3/73 </td><td>40.7</td><td>18</td></tr>\n",
       "\t<tr><td>95</td><td>senate</td><td>L000504</td><td>Richard  </td><td>G.       </td><td>Lugar    </td><td>   </td><td>4/4/32    </td><td>IN</td><td>R</td><td>No </td><td>1/4/77 </td><td>44.8</td><td>18</td></tr>\n",
       "\t<tr><td>96</td><td>senate</td><td>L000261</td><td>Carl     </td><td>         </td><td>Levin    </td><td>   </td><td>6/28/34   </td><td>MI</td><td>D</td><td>No </td><td>1/15/79</td><td>44.6</td><td>18</td></tr>\n",
       "\t<tr><td>80</td><td>senate</td><td>Y000047</td><td>Milton   </td><td>Ruben    </td><td>Young    </td><td>   </td><td>1897-12-06</td><td>ND</td><td>R</td><td>Yes</td><td>1/3/47 </td><td>49.1</td><td>17</td></tr>\n",
       "\t<tr><td>80</td><td>senate</td><td>M000053</td><td>Warren   </td><td>Grant    </td><td>Magnuson </td><td>   </td><td>4/12/05   </td><td>WA</td><td>D</td><td>Yes</td><td>1/3/47 </td><td>41.7</td><td>17</td></tr>\n",
       "\t<tr><td>86</td><td>senate</td><td>B001077</td><td>Quentin  </td><td>Northrup </td><td>Burdick  </td><td>   </td><td>6/19/08   </td><td>ND</td><td>D</td><td>No </td><td>1/7/59 </td><td>50.6</td><td>17</td></tr>\n",
       "\t<tr><td>97</td><td>senate</td><td>G000386</td><td>Charles  </td><td>E.       </td><td>Grassley </td><td>   </td><td>9/17/33   </td><td>IA</td><td>R</td><td>Yes</td><td>1/5/81 </td><td>47.3</td><td>17</td></tr>\n",
       "\t<tr><td>80</td><td>senate</td><td>M000332</td><td>John     </td><td>Little   </td><td>McClellan</td><td>   </td><td>1896-02-25</td><td>AR</td><td>D</td><td>Yes</td><td>1/3/47 </td><td>50.9</td><td>16</td></tr>\n",
       "\t<tr><td>80</td><td>senate</td><td>S000701</td><td>John     </td><td>Jackson  </td><td>Sparkman </td><td>   </td><td>1899-12-20</td><td>AL</td><td>D</td><td>Yes</td><td>1/3/47 </td><td>47.0</td><td>16</td></tr>\n",
       "\t<tr><td>80</td><td>senate</td><td>E000018</td><td>James    </td><td>Oliver   </td><td>Eastland </td><td>   </td><td>11/28/04  </td><td>MS</td><td>D</td><td>Yes</td><td>1/3/47 </td><td>42.1</td><td>16</td></tr>\n",
       "\t<tr><td>83</td><td>senate</td><td>J000013</td><td>Henry    </td><td>Martin   </td><td>Jackson  </td><td>   </td><td>5/31/12   </td><td>WA</td><td>D</td><td>Yes</td><td>1/3/53 </td><td>40.6</td><td>16</td></tr>\n",
       "\t<tr><td>85</td><td>senate</td><td>P000553</td><td>William  </td><td>         </td><td>Proxmire </td><td>   </td><td>11/11/15  </td><td>WI</td><td>D</td><td>No </td><td>1/3/57 </td><td>41.1</td><td>16</td></tr>\n",
       "\t<tr><td>91</td><td>senate</td><td>R000460</td><td>William  </td><td>V.       </td><td>Roth     </td><td>Jr.</td><td>7/22/21   </td><td>DE</td><td>R</td><td>Yes</td><td>1/3/69 </td><td>47.5</td><td>16</td></tr>\n",
       "\t<tr><td>95</td><td>senate</td><td>W000154</td><td>John     </td><td>W.       </td><td>Warner   </td><td>   </td><td>2/18/27   </td><td>VA</td><td>R</td><td>No </td><td>1/4/77 </td><td>49.9</td><td>16</td></tr>\n",
       "\t<tr><td>83</td><td>senate</td><td>G000267</td><td>Barry    </td><td>Morris   </td><td>Goldwater</td><td>   </td><td>1/1/09    </td><td>AZ</td><td>R</td><td>No </td><td>1/3/53 </td><td>44.0</td><td>15</td></tr>\n",
       "\t<tr><td>90</td><td>senate</td><td>H000343</td><td>Mark     </td><td>Odom     </td><td>Hatfield </td><td>   </td><td>7/12/22   </td><td>OR</td><td>R</td><td>No </td><td>1/10/67</td><td>44.5</td><td>15</td></tr>\n",
       "\t<tr><td>⋮</td><td>⋮</td><td>⋮</td><td>⋮</td><td>⋮</td><td>⋮</td><td>⋮</td><td>⋮</td><td>⋮</td><td>⋮</td><td>⋮</td><td>⋮</td><td>⋮</td><td>⋮</td></tr>\n",
       "\t<tr><td>102</td><td>senate</td><td>B001076</td><td>Jocelyn    </td><td>Birch  </td><td>Burdick </td><td>   </td><td>2/6/22  </td><td>ND</td><td>D</td><td>No </td><td>1/3/91</td><td>68.9</td><td>1</td></tr>\n",
       "\t<tr><td>102</td><td>senate</td><td>S000269</td><td>John       </td><td>       </td><td>Seymour </td><td>   </td><td>12/2/33 </td><td>CA</td><td>R</td><td>No </td><td>1/3/91</td><td>57.1</td><td>1</td></tr>\n",
       "\t<tr><td>103</td><td>senate</td><td>M000236</td><td>Harlan     </td><td>       </td><td>Mathews </td><td>   </td><td>1/17/27 </td><td>TN</td><td>D</td><td>No </td><td>1/5/93</td><td>66.0</td><td>1</td></tr>\n",
       "\t<tr><td>103</td><td>senate</td><td>K000333</td><td>Robert     </td><td>Charles</td><td>Krueger </td><td>   </td><td>9/18/31 </td><td>TX</td><td>D</td><td>No </td><td>1/5/93</td><td>61.3</td><td>1</td></tr>\n",
       "\t<tr><td>104</td><td>senate</td><td>F000438</td><td>Sheila     </td><td>       </td><td>Frahm   </td><td>   </td><td>3/21/41 </td><td>KS</td><td>R</td><td>No </td><td>1/4/95</td><td>53.8</td><td>1</td></tr>\n",
       "\t<tr><td>107</td><td>senate</td><td>C001043</td><td>Jean       </td><td>       </td><td>Carnahan</td><td>   </td><td>12/20/33</td><td>MO</td><td>D</td><td>No </td><td>1/3/01</td><td>67.0</td><td>1</td></tr>\n",
       "\t<tr><td>107</td><td>senate</td><td>B001237</td><td>Dean       </td><td>       </td><td>Barkley </td><td>   </td><td>8/31/50 </td><td>MN</td><td>I</td><td>No </td><td>1/3/01</td><td>50.3</td><td>1</td></tr>\n",
       "\t<tr><td>111</td><td>senate</td><td>L000572</td><td>George     </td><td>S.     </td><td>LeMieux </td><td>   </td><td>5/21/69 </td><td>FL</td><td>R</td><td>No </td><td>1/6/09</td><td>39.6</td><td>1</td></tr>\n",
       "\t<tr><td>111</td><td>senate</td><td>B001266</td><td>Roland     </td><td>       </td><td>Burris  </td><td>   </td><td>8/2/33  </td><td>IL</td><td>D</td><td>No </td><td>1/6/09</td><td>75.4</td><td>1</td></tr>\n",
       "\t<tr><td>111</td><td>senate</td><td>G000561</td><td>Carte      </td><td>P.     </td><td>Goodwin </td><td>   </td><td>2/26/70 </td><td>WV</td><td>D</td><td>No </td><td>1/6/09</td><td>38.9</td><td>1</td></tr>\n",
       "\t<tr><td>111</td><td>senate</td><td>K000373</td><td>Edward     </td><td>E.     </td><td>Kaufman </td><td>   </td><td>3/14/35 </td><td>DE</td><td>D</td><td>No </td><td>1/6/09</td><td>73.8</td><td>1</td></tr>\n",
       "\t<tr><td>111</td><td>senate</td><td>K000374</td><td>Paul       </td><td>G.     </td><td>Kirk    </td><td>Jr.</td><td>1/17/34 </td><td>MA</td><td>D</td><td>No </td><td>1/6/09</td><td>75.0</td><td>1</td></tr>\n",
       "\t<tr><td>113</td><td>senate</td><td>K000383</td><td>Angus      </td><td>       </td><td>King    </td><td>   </td><td>3/31/44 </td><td>ME</td><td>I</td><td>No </td><td>1/3/13</td><td>68.8</td><td>1</td></tr>\n",
       "\t<tr><td>113</td><td>senate</td><td>M000133</td><td>Edward     </td><td>J.     </td><td>Markey  </td><td>   </td><td>7/11/46 </td><td>MA</td><td>D</td><td>Yes</td><td>1/3/13</td><td>66.5</td><td>1</td></tr>\n",
       "\t<tr><td>113</td><td>senate</td><td>H001042</td><td>Mazie      </td><td>K.     </td><td>Hirono  </td><td>   </td><td>11/3/47 </td><td>HI</td><td>D</td><td>Yes</td><td>1/3/13</td><td>65.2</td><td>1</td></tr>\n",
       "\t<tr><td>113</td><td>senate</td><td>W000817</td><td>Elizabeth  </td><td>       </td><td>Warren  </td><td>   </td><td>6/22/49 </td><td>MA</td><td>D</td><td>No </td><td>1/3/13</td><td>63.5</td><td>1</td></tr>\n",
       "\t<tr><td>113</td><td>senate</td><td>F000463</td><td>Deb        </td><td>       </td><td>Fischer </td><td>   </td><td>3/1/51  </td><td>NE</td><td>R</td><td>No </td><td>1/3/13</td><td>61.8</td><td>1</td></tr>\n",
       "\t<tr><td>113</td><td>senate</td><td>D000607</td><td>Joe        </td><td>       </td><td>Donnelly</td><td>   </td><td>9/28/55 </td><td>IN</td><td>D</td><td>Yes</td><td>1/3/13</td><td>57.3</td><td>1</td></tr>\n",
       "\t<tr><td>113</td><td>senate</td><td>H001069</td><td>Heidi      </td><td>       </td><td>Heitkamp</td><td>   </td><td>10/30/55</td><td>ND</td><td>D</td><td>No </td><td>1/3/13</td><td>57.2</td><td>1</td></tr>\n",
       "\t<tr><td>113</td><td>senate</td><td>K000384</td><td>Timothy    </td><td>       </td><td>Kaine   </td><td>   </td><td>2/26/58 </td><td>VA</td><td>D</td><td>No </td><td>1/3/13</td><td>54.9</td><td>1</td></tr>\n",
       "\t<tr><td>113</td><td>senate</td><td>W000818</td><td>John       </td><td>E.     </td><td>Walsh   </td><td>   </td><td>11/3/60 </td><td>MT</td><td>D</td><td>No </td><td>1/3/13</td><td>52.2</td><td>1</td></tr>\n",
       "\t<tr><td>113</td><td>senate</td><td>B001230</td><td>Tammy      </td><td>       </td><td>Baldwin </td><td>   </td><td>2/11/62 </td><td>WI</td><td>D</td><td>Yes</td><td>1/3/13</td><td>50.9</td><td>1</td></tr>\n",
       "\t<tr><td>113</td><td>senate</td><td>F000444</td><td>Jeff       </td><td>       </td><td>Flake   </td><td>   </td><td>12/31/62</td><td>AZ</td><td>R</td><td>Yes</td><td>1/3/13</td><td>50.0</td><td>1</td></tr>\n",
       "\t<tr><td>113</td><td>senate</td><td>S001184</td><td>Tim        </td><td>       </td><td>Scott   </td><td>   </td><td>9/19/65 </td><td>SC</td><td>R</td><td>Yes</td><td>1/3/13</td><td>47.3</td><td>1</td></tr>\n",
       "\t<tr><td>113</td><td>senate</td><td>B001288</td><td>Cory       </td><td>Anthony</td><td>Booker  </td><td>   </td><td>4/27/69 </td><td>NJ</td><td>D</td><td>No </td><td>1/3/13</td><td>43.7</td><td>1</td></tr>\n",
       "\t<tr><td>113</td><td>senate</td><td>C001098</td><td>Ted        </td><td>       </td><td>Cruz    </td><td>   </td><td>12/22/70</td><td>TX</td><td>R</td><td>No </td><td>1/3/13</td><td>42.0</td><td>1</td></tr>\n",
       "\t<tr><td>113</td><td>senate</td><td>H001046</td><td>Martin     </td><td>       </td><td>Heinrich</td><td>   </td><td>10/17/71</td><td>NM</td><td>D</td><td>Yes</td><td>1/3/13</td><td>41.2</td><td>1</td></tr>\n",
       "\t<tr><td>113</td><td>senate</td><td>M001169</td><td>Christopher</td><td>S.     </td><td>Murphy  </td><td>   </td><td>8/3/73  </td><td>CT</td><td>D</td><td>Yes</td><td>1/3/13</td><td>39.4</td><td>1</td></tr>\n",
       "\t<tr><td>113</td><td>senate</td><td>C001099</td><td>William    </td><td>       </td><td>Cowan   </td><td>   </td><td>4/3/65  </td><td>MA</td><td>D</td><td>No </td><td>1/3/13</td><td>47.8</td><td>1</td></tr>\n",
       "\t<tr><td>113</td><td>senate</td><td>C001100</td><td>Jeffrey    </td><td>Scott  </td><td>Chiesa  </td><td>   </td><td>6/21/61 </td><td>NJ</td><td>R</td><td>No </td><td>1/3/13</td><td>51.5</td><td>1</td></tr>\n",
       "</tbody>\n",
       "</table>\n"
      ],
      "text/latex": [
       "A grouped_df: 574 × 14\n",
       "\\begin{tabular}{r|llllllllllllll}\n",
       " congress & chamber & bioguide & firstname & middlename & lastname & suffix & birthday & state & party & incumbent & termstart & age & terms\\\\\n",
       " <int> & <fct> & <fct> & <fct> & <fct> & <fct> & <fct> & <fct> & <fct> & <fct> & <fct> & <fct> & <dbl> & <int>\\\\\n",
       "\\hline\n",
       "\t 83 & senate & T000254 & J.        & Strom     & Thurmond  &     & 1902-12-05 & SC & D & No  & 1/3/53  & 50.1 & 26\\\\\n",
       "\t 86 & senate & B001210 & Robert    & C.        & Byrd      &     & 11/20/17   & WV & D & Yes & 1/7/59  & 41.1 & 26\\\\\n",
       "\t 87 & senate & K000105 & Edward    & M.        & Kennedy   &     & 2/22/32    & MA & D & No  & 1/3/61  & 28.9 & 25\\\\\n",
       "\t 88 & senate & I000025 & Daniel    & K.        & Inouye    &     & 9/7/24     & HI & D & Yes & 1/9/63  & 38.3 & 25\\\\\n",
       "\t 80 & senate & S000852 & John      & Cornelius & Stennis   &     & 1901-08-03 & MS & D & No  & 1/3/47  & 45.4 & 21\\\\\n",
       "\t 90 & senate & S000888 & Ted       & F.        & Stevens   &     & 11/18/23   & AK & R & No  & 1/10/67 & 43.1 & 21\\\\\n",
       "\t 80 & senate & L000428 & Russell   & Billiu    & Long      &     & 11/3/18    & LA & D & Yes & 1/3/47  & 28.2 & 20\\\\\n",
       "\t 89 & senate & H000725 & Ernest    & F.        & Hollings  &     & 1/1/22     & SC & D & No  & 1/4/65  & 43.0 & 20\\\\\n",
       "\t 94 & senate & L000174 & Patrick   & J.        & Leahy     &     & 3/31/40    & VT & D & No  & 1/14/75 & 34.8 & 20\\\\\n",
       "\t 93 & senate & B000444 & Joseph    & R.        & Biden     & Jr. & 11/20/42   & DE & D & No  & 1/3/73  & 30.1 & 19\\\\\n",
       "\t 95 & senate & H000338 & Orrin     & G.        & Hatch     &     & 3/22/34    & UT & R & No  & 1/4/77  & 42.8 & 19\\\\\n",
       "\t 95 & senate & C000567 & Thad      &           & Cochran   &     & 12/7/37    & MS & R & Yes & 1/4/77  & 39.1 & 19\\\\\n",
       "\t 95 & senate & B000243 & Max       & S.        & Baucus    &     & 12/11/41   & MT & D & Yes & 1/4/77  & 35.1 & 19\\\\\n",
       "\t 87 & senate & P000193 & Claiborne & de Borda  & Pell      &     & 11/22/18   & RI & D & No  & 1/3/61  & 42.1 & 18\\\\\n",
       "\t 93 & senate & D000407 & Pete      & V.        & Domenici  &     & 5/7/32     & NM & R & No  & 1/3/73  & 40.7 & 18\\\\\n",
       "\t 95 & senate & L000504 & Richard   & G.        & Lugar     &     & 4/4/32     & IN & R & No  & 1/4/77  & 44.8 & 18\\\\\n",
       "\t 96 & senate & L000261 & Carl      &           & Levin     &     & 6/28/34    & MI & D & No  & 1/15/79 & 44.6 & 18\\\\\n",
       "\t 80 & senate & Y000047 & Milton    & Ruben     & Young     &     & 1897-12-06 & ND & R & Yes & 1/3/47  & 49.1 & 17\\\\\n",
       "\t 80 & senate & M000053 & Warren    & Grant     & Magnuson  &     & 4/12/05    & WA & D & Yes & 1/3/47  & 41.7 & 17\\\\\n",
       "\t 86 & senate & B001077 & Quentin   & Northrup  & Burdick   &     & 6/19/08    & ND & D & No  & 1/7/59  & 50.6 & 17\\\\\n",
       "\t 97 & senate & G000386 & Charles   & E.        & Grassley  &     & 9/17/33    & IA & R & Yes & 1/5/81  & 47.3 & 17\\\\\n",
       "\t 80 & senate & M000332 & John      & Little    & McClellan &     & 1896-02-25 & AR & D & Yes & 1/3/47  & 50.9 & 16\\\\\n",
       "\t 80 & senate & S000701 & John      & Jackson   & Sparkman  &     & 1899-12-20 & AL & D & Yes & 1/3/47  & 47.0 & 16\\\\\n",
       "\t 80 & senate & E000018 & James     & Oliver    & Eastland  &     & 11/28/04   & MS & D & Yes & 1/3/47  & 42.1 & 16\\\\\n",
       "\t 83 & senate & J000013 & Henry     & Martin    & Jackson   &     & 5/31/12    & WA & D & Yes & 1/3/53  & 40.6 & 16\\\\\n",
       "\t 85 & senate & P000553 & William   &           & Proxmire  &     & 11/11/15   & WI & D & No  & 1/3/57  & 41.1 & 16\\\\\n",
       "\t 91 & senate & R000460 & William   & V.        & Roth      & Jr. & 7/22/21    & DE & R & Yes & 1/3/69  & 47.5 & 16\\\\\n",
       "\t 95 & senate & W000154 & John      & W.        & Warner    &     & 2/18/27    & VA & R & No  & 1/4/77  & 49.9 & 16\\\\\n",
       "\t 83 & senate & G000267 & Barry     & Morris    & Goldwater &     & 1/1/09     & AZ & R & No  & 1/3/53  & 44.0 & 15\\\\\n",
       "\t 90 & senate & H000343 & Mark      & Odom      & Hatfield  &     & 7/12/22    & OR & R & No  & 1/10/67 & 44.5 & 15\\\\\n",
       "\t ⋮ & ⋮ & ⋮ & ⋮ & ⋮ & ⋮ & ⋮ & ⋮ & ⋮ & ⋮ & ⋮ & ⋮ & ⋮ & ⋮\\\\\n",
       "\t 102 & senate & B001076 & Jocelyn     & Birch   & Burdick  &     & 2/6/22   & ND & D & No  & 1/3/91 & 68.9 & 1\\\\\n",
       "\t 102 & senate & S000269 & John        &         & Seymour  &     & 12/2/33  & CA & R & No  & 1/3/91 & 57.1 & 1\\\\\n",
       "\t 103 & senate & M000236 & Harlan      &         & Mathews  &     & 1/17/27  & TN & D & No  & 1/5/93 & 66.0 & 1\\\\\n",
       "\t 103 & senate & K000333 & Robert      & Charles & Krueger  &     & 9/18/31  & TX & D & No  & 1/5/93 & 61.3 & 1\\\\\n",
       "\t 104 & senate & F000438 & Sheila      &         & Frahm    &     & 3/21/41  & KS & R & No  & 1/4/95 & 53.8 & 1\\\\\n",
       "\t 107 & senate & C001043 & Jean        &         & Carnahan &     & 12/20/33 & MO & D & No  & 1/3/01 & 67.0 & 1\\\\\n",
       "\t 107 & senate & B001237 & Dean        &         & Barkley  &     & 8/31/50  & MN & I & No  & 1/3/01 & 50.3 & 1\\\\\n",
       "\t 111 & senate & L000572 & George      & S.      & LeMieux  &     & 5/21/69  & FL & R & No  & 1/6/09 & 39.6 & 1\\\\\n",
       "\t 111 & senate & B001266 & Roland      &         & Burris   &     & 8/2/33   & IL & D & No  & 1/6/09 & 75.4 & 1\\\\\n",
       "\t 111 & senate & G000561 & Carte       & P.      & Goodwin  &     & 2/26/70  & WV & D & No  & 1/6/09 & 38.9 & 1\\\\\n",
       "\t 111 & senate & K000373 & Edward      & E.      & Kaufman  &     & 3/14/35  & DE & D & No  & 1/6/09 & 73.8 & 1\\\\\n",
       "\t 111 & senate & K000374 & Paul        & G.      & Kirk     & Jr. & 1/17/34  & MA & D & No  & 1/6/09 & 75.0 & 1\\\\\n",
       "\t 113 & senate & K000383 & Angus       &         & King     &     & 3/31/44  & ME & I & No  & 1/3/13 & 68.8 & 1\\\\\n",
       "\t 113 & senate & M000133 & Edward      & J.      & Markey   &     & 7/11/46  & MA & D & Yes & 1/3/13 & 66.5 & 1\\\\\n",
       "\t 113 & senate & H001042 & Mazie       & K.      & Hirono   &     & 11/3/47  & HI & D & Yes & 1/3/13 & 65.2 & 1\\\\\n",
       "\t 113 & senate & W000817 & Elizabeth   &         & Warren   &     & 6/22/49  & MA & D & No  & 1/3/13 & 63.5 & 1\\\\\n",
       "\t 113 & senate & F000463 & Deb         &         & Fischer  &     & 3/1/51   & NE & R & No  & 1/3/13 & 61.8 & 1\\\\\n",
       "\t 113 & senate & D000607 & Joe         &         & Donnelly &     & 9/28/55  & IN & D & Yes & 1/3/13 & 57.3 & 1\\\\\n",
       "\t 113 & senate & H001069 & Heidi       &         & Heitkamp &     & 10/30/55 & ND & D & No  & 1/3/13 & 57.2 & 1\\\\\n",
       "\t 113 & senate & K000384 & Timothy     &         & Kaine    &     & 2/26/58  & VA & D & No  & 1/3/13 & 54.9 & 1\\\\\n",
       "\t 113 & senate & W000818 & John        & E.      & Walsh    &     & 11/3/60  & MT & D & No  & 1/3/13 & 52.2 & 1\\\\\n",
       "\t 113 & senate & B001230 & Tammy       &         & Baldwin  &     & 2/11/62  & WI & D & Yes & 1/3/13 & 50.9 & 1\\\\\n",
       "\t 113 & senate & F000444 & Jeff        &         & Flake    &     & 12/31/62 & AZ & R & Yes & 1/3/13 & 50.0 & 1\\\\\n",
       "\t 113 & senate & S001184 & Tim         &         & Scott    &     & 9/19/65  & SC & R & Yes & 1/3/13 & 47.3 & 1\\\\\n",
       "\t 113 & senate & B001288 & Cory        & Anthony & Booker   &     & 4/27/69  & NJ & D & No  & 1/3/13 & 43.7 & 1\\\\\n",
       "\t 113 & senate & C001098 & Ted         &         & Cruz     &     & 12/22/70 & TX & R & No  & 1/3/13 & 42.0 & 1\\\\\n",
       "\t 113 & senate & H001046 & Martin      &         & Heinrich &     & 10/17/71 & NM & D & Yes & 1/3/13 & 41.2 & 1\\\\\n",
       "\t 113 & senate & M001169 & Christopher & S.      & Murphy   &     & 8/3/73   & CT & D & Yes & 1/3/13 & 39.4 & 1\\\\\n",
       "\t 113 & senate & C001099 & William     &         & Cowan    &     & 4/3/65   & MA & D & No  & 1/3/13 & 47.8 & 1\\\\\n",
       "\t 113 & senate & C001100 & Jeffrey     & Scott   & Chiesa   &     & 6/21/61  & NJ & R & No  & 1/3/13 & 51.5 & 1\\\\\n",
       "\\end{tabular}\n"
      ],
      "text/markdown": [
       "\n",
       "A grouped_df: 574 × 14\n",
       "\n",
       "| congress &lt;int&gt; | chamber &lt;fct&gt; | bioguide &lt;fct&gt; | firstname &lt;fct&gt; | middlename &lt;fct&gt; | lastname &lt;fct&gt; | suffix &lt;fct&gt; | birthday &lt;fct&gt; | state &lt;fct&gt; | party &lt;fct&gt; | incumbent &lt;fct&gt; | termstart &lt;fct&gt; | age &lt;dbl&gt; | terms &lt;int&gt; |\n",
       "|---|---|---|---|---|---|---|---|---|---|---|---|---|---|\n",
       "| 83 | senate | T000254 | J.        | Strom     | Thurmond  | <!----> | 1902-12-05 | SC | D | No  | 1/3/53  | 50.1 | 26 |\n",
       "| 86 | senate | B001210 | Robert    | C.        | Byrd      | <!----> | 11/20/17   | WV | D | Yes | 1/7/59  | 41.1 | 26 |\n",
       "| 87 | senate | K000105 | Edward    | M.        | Kennedy   | <!----> | 2/22/32    | MA | D | No  | 1/3/61  | 28.9 | 25 |\n",
       "| 88 | senate | I000025 | Daniel    | K.        | Inouye    | <!----> | 9/7/24     | HI | D | Yes | 1/9/63  | 38.3 | 25 |\n",
       "| 80 | senate | S000852 | John      | Cornelius | Stennis   | <!----> | 1901-08-03 | MS | D | No  | 1/3/47  | 45.4 | 21 |\n",
       "| 90 | senate | S000888 | Ted       | F.        | Stevens   | <!----> | 11/18/23   | AK | R | No  | 1/10/67 | 43.1 | 21 |\n",
       "| 80 | senate | L000428 | Russell   | Billiu    | Long      | <!----> | 11/3/18    | LA | D | Yes | 1/3/47  | 28.2 | 20 |\n",
       "| 89 | senate | H000725 | Ernest    | F.        | Hollings  | <!----> | 1/1/22     | SC | D | No  | 1/4/65  | 43.0 | 20 |\n",
       "| 94 | senate | L000174 | Patrick   | J.        | Leahy     | <!----> | 3/31/40    | VT | D | No  | 1/14/75 | 34.8 | 20 |\n",
       "| 93 | senate | B000444 | Joseph    | R.        | Biden     | Jr. | 11/20/42   | DE | D | No  | 1/3/73  | 30.1 | 19 |\n",
       "| 95 | senate | H000338 | Orrin     | G.        | Hatch     | <!----> | 3/22/34    | UT | R | No  | 1/4/77  | 42.8 | 19 |\n",
       "| 95 | senate | C000567 | Thad      | <!----> | Cochran   | <!----> | 12/7/37    | MS | R | Yes | 1/4/77  | 39.1 | 19 |\n",
       "| 95 | senate | B000243 | Max       | S.        | Baucus    | <!----> | 12/11/41   | MT | D | Yes | 1/4/77  | 35.1 | 19 |\n",
       "| 87 | senate | P000193 | Claiborne | de Borda  | Pell      | <!----> | 11/22/18   | RI | D | No  | 1/3/61  | 42.1 | 18 |\n",
       "| 93 | senate | D000407 | Pete      | V.        | Domenici  | <!----> | 5/7/32     | NM | R | No  | 1/3/73  | 40.7 | 18 |\n",
       "| 95 | senate | L000504 | Richard   | G.        | Lugar     | <!----> | 4/4/32     | IN | R | No  | 1/4/77  | 44.8 | 18 |\n",
       "| 96 | senate | L000261 | Carl      | <!----> | Levin     | <!----> | 6/28/34    | MI | D | No  | 1/15/79 | 44.6 | 18 |\n",
       "| 80 | senate | Y000047 | Milton    | Ruben     | Young     | <!----> | 1897-12-06 | ND | R | Yes | 1/3/47  | 49.1 | 17 |\n",
       "| 80 | senate | M000053 | Warren    | Grant     | Magnuson  | <!----> | 4/12/05    | WA | D | Yes | 1/3/47  | 41.7 | 17 |\n",
       "| 86 | senate | B001077 | Quentin   | Northrup  | Burdick   | <!----> | 6/19/08    | ND | D | No  | 1/7/59  | 50.6 | 17 |\n",
       "| 97 | senate | G000386 | Charles   | E.        | Grassley  | <!----> | 9/17/33    | IA | R | Yes | 1/5/81  | 47.3 | 17 |\n",
       "| 80 | senate | M000332 | John      | Little    | McClellan | <!----> | 1896-02-25 | AR | D | Yes | 1/3/47  | 50.9 | 16 |\n",
       "| 80 | senate | S000701 | John      | Jackson   | Sparkman  | <!----> | 1899-12-20 | AL | D | Yes | 1/3/47  | 47.0 | 16 |\n",
       "| 80 | senate | E000018 | James     | Oliver    | Eastland  | <!----> | 11/28/04   | MS | D | Yes | 1/3/47  | 42.1 | 16 |\n",
       "| 83 | senate | J000013 | Henry     | Martin    | Jackson   | <!----> | 5/31/12    | WA | D | Yes | 1/3/53  | 40.6 | 16 |\n",
       "| 85 | senate | P000553 | William   | <!----> | Proxmire  | <!----> | 11/11/15   | WI | D | No  | 1/3/57  | 41.1 | 16 |\n",
       "| 91 | senate | R000460 | William   | V.        | Roth      | Jr. | 7/22/21    | DE | R | Yes | 1/3/69  | 47.5 | 16 |\n",
       "| 95 | senate | W000154 | John      | W.        | Warner    | <!----> | 2/18/27    | VA | R | No  | 1/4/77  | 49.9 | 16 |\n",
       "| 83 | senate | G000267 | Barry     | Morris    | Goldwater | <!----> | 1/1/09     | AZ | R | No  | 1/3/53  | 44.0 | 15 |\n",
       "| 90 | senate | H000343 | Mark      | Odom      | Hatfield  | <!----> | 7/12/22    | OR | R | No  | 1/10/67 | 44.5 | 15 |\n",
       "| ⋮ | ⋮ | ⋮ | ⋮ | ⋮ | ⋮ | ⋮ | ⋮ | ⋮ | ⋮ | ⋮ | ⋮ | ⋮ | ⋮ |\n",
       "| 102 | senate | B001076 | Jocelyn     | Birch   | Burdick  | <!----> | 2/6/22   | ND | D | No  | 1/3/91 | 68.9 | 1 |\n",
       "| 102 | senate | S000269 | John        | <!----> | Seymour  | <!----> | 12/2/33  | CA | R | No  | 1/3/91 | 57.1 | 1 |\n",
       "| 103 | senate | M000236 | Harlan      | <!----> | Mathews  | <!----> | 1/17/27  | TN | D | No  | 1/5/93 | 66.0 | 1 |\n",
       "| 103 | senate | K000333 | Robert      | Charles | Krueger  | <!----> | 9/18/31  | TX | D | No  | 1/5/93 | 61.3 | 1 |\n",
       "| 104 | senate | F000438 | Sheila      | <!----> | Frahm    | <!----> | 3/21/41  | KS | R | No  | 1/4/95 | 53.8 | 1 |\n",
       "| 107 | senate | C001043 | Jean        | <!----> | Carnahan | <!----> | 12/20/33 | MO | D | No  | 1/3/01 | 67.0 | 1 |\n",
       "| 107 | senate | B001237 | Dean        | <!----> | Barkley  | <!----> | 8/31/50  | MN | I | No  | 1/3/01 | 50.3 | 1 |\n",
       "| 111 | senate | L000572 | George      | S.      | LeMieux  | <!----> | 5/21/69  | FL | R | No  | 1/6/09 | 39.6 | 1 |\n",
       "| 111 | senate | B001266 | Roland      | <!----> | Burris   | <!----> | 8/2/33   | IL | D | No  | 1/6/09 | 75.4 | 1 |\n",
       "| 111 | senate | G000561 | Carte       | P.      | Goodwin  | <!----> | 2/26/70  | WV | D | No  | 1/6/09 | 38.9 | 1 |\n",
       "| 111 | senate | K000373 | Edward      | E.      | Kaufman  | <!----> | 3/14/35  | DE | D | No  | 1/6/09 | 73.8 | 1 |\n",
       "| 111 | senate | K000374 | Paul        | G.      | Kirk     | Jr. | 1/17/34  | MA | D | No  | 1/6/09 | 75.0 | 1 |\n",
       "| 113 | senate | K000383 | Angus       | <!----> | King     | <!----> | 3/31/44  | ME | I | No  | 1/3/13 | 68.8 | 1 |\n",
       "| 113 | senate | M000133 | Edward      | J.      | Markey   | <!----> | 7/11/46  | MA | D | Yes | 1/3/13 | 66.5 | 1 |\n",
       "| 113 | senate | H001042 | Mazie       | K.      | Hirono   | <!----> | 11/3/47  | HI | D | Yes | 1/3/13 | 65.2 | 1 |\n",
       "| 113 | senate | W000817 | Elizabeth   | <!----> | Warren   | <!----> | 6/22/49  | MA | D | No  | 1/3/13 | 63.5 | 1 |\n",
       "| 113 | senate | F000463 | Deb         | <!----> | Fischer  | <!----> | 3/1/51   | NE | R | No  | 1/3/13 | 61.8 | 1 |\n",
       "| 113 | senate | D000607 | Joe         | <!----> | Donnelly | <!----> | 9/28/55  | IN | D | Yes | 1/3/13 | 57.3 | 1 |\n",
       "| 113 | senate | H001069 | Heidi       | <!----> | Heitkamp | <!----> | 10/30/55 | ND | D | No  | 1/3/13 | 57.2 | 1 |\n",
       "| 113 | senate | K000384 | Timothy     | <!----> | Kaine    | <!----> | 2/26/58  | VA | D | No  | 1/3/13 | 54.9 | 1 |\n",
       "| 113 | senate | W000818 | John        | E.      | Walsh    | <!----> | 11/3/60  | MT | D | No  | 1/3/13 | 52.2 | 1 |\n",
       "| 113 | senate | B001230 | Tammy       | <!----> | Baldwin  | <!----> | 2/11/62  | WI | D | Yes | 1/3/13 | 50.9 | 1 |\n",
       "| 113 | senate | F000444 | Jeff        | <!----> | Flake    | <!----> | 12/31/62 | AZ | R | Yes | 1/3/13 | 50.0 | 1 |\n",
       "| 113 | senate | S001184 | Tim         | <!----> | Scott    | <!----> | 9/19/65  | SC | R | Yes | 1/3/13 | 47.3 | 1 |\n",
       "| 113 | senate | B001288 | Cory        | Anthony | Booker   | <!----> | 4/27/69  | NJ | D | No  | 1/3/13 | 43.7 | 1 |\n",
       "| 113 | senate | C001098 | Ted         | <!----> | Cruz     | <!----> | 12/22/70 | TX | R | No  | 1/3/13 | 42.0 | 1 |\n",
       "| 113 | senate | H001046 | Martin      | <!----> | Heinrich | <!----> | 10/17/71 | NM | D | Yes | 1/3/13 | 41.2 | 1 |\n",
       "| 113 | senate | M001169 | Christopher | S.      | Murphy   | <!----> | 8/3/73   | CT | D | Yes | 1/3/13 | 39.4 | 1 |\n",
       "| 113 | senate | C001099 | William     | <!----> | Cowan    | <!----> | 4/3/65   | MA | D | No  | 1/3/13 | 47.8 | 1 |\n",
       "| 113 | senate | C001100 | Jeffrey     | Scott   | Chiesa   | <!----> | 6/21/61  | NJ | R | No  | 1/3/13 | 51.5 | 1 |\n",
       "\n"
      ],
      "text/plain": [
       "    congress chamber bioguide firstname   middlename lastname  suffix\n",
       "1   83       senate  T000254  J.          Strom      Thurmond        \n",
       "2   86       senate  B001210  Robert      C.         Byrd            \n",
       "3   87       senate  K000105  Edward      M.         Kennedy         \n",
       "4   88       senate  I000025  Daniel      K.         Inouye          \n",
       "5   80       senate  S000852  John        Cornelius  Stennis         \n",
       "6   90       senate  S000888  Ted         F.         Stevens         \n",
       "7   80       senate  L000428  Russell     Billiu     Long            \n",
       "8   89       senate  H000725  Ernest      F.         Hollings        \n",
       "9   94       senate  L000174  Patrick     J.         Leahy           \n",
       "10  93       senate  B000444  Joseph      R.         Biden     Jr.   \n",
       "11  95       senate  H000338  Orrin       G.         Hatch           \n",
       "12  95       senate  C000567  Thad                   Cochran         \n",
       "13  95       senate  B000243  Max         S.         Baucus          \n",
       "14  87       senate  P000193  Claiborne   de Borda   Pell            \n",
       "15  93       senate  D000407  Pete        V.         Domenici        \n",
       "16  95       senate  L000504  Richard     G.         Lugar           \n",
       "17  96       senate  L000261  Carl                   Levin           \n",
       "18  80       senate  Y000047  Milton      Ruben      Young           \n",
       "19  80       senate  M000053  Warren      Grant      Magnuson        \n",
       "20  86       senate  B001077  Quentin     Northrup   Burdick         \n",
       "21  97       senate  G000386  Charles     E.         Grassley        \n",
       "22  80       senate  M000332  John        Little     McClellan       \n",
       "23  80       senate  S000701  John        Jackson    Sparkman        \n",
       "24  80       senate  E000018  James       Oliver     Eastland        \n",
       "25  83       senate  J000013  Henry       Martin     Jackson         \n",
       "26  85       senate  P000553  William                Proxmire        \n",
       "27  91       senate  R000460  William     V.         Roth      Jr.   \n",
       "28  95       senate  W000154  John        W.         Warner          \n",
       "29  83       senate  G000267  Barry       Morris     Goldwater       \n",
       "30  90       senate  H000343  Mark        Odom       Hatfield        \n",
       "⋮   ⋮        ⋮       ⋮        ⋮           ⋮          ⋮         ⋮     \n",
       "545 102      senate  B001076  Jocelyn     Birch      Burdick         \n",
       "546 102      senate  S000269  John                   Seymour         \n",
       "547 103      senate  M000236  Harlan                 Mathews         \n",
       "548 103      senate  K000333  Robert      Charles    Krueger         \n",
       "549 104      senate  F000438  Sheila                 Frahm           \n",
       "550 107      senate  C001043  Jean                   Carnahan        \n",
       "551 107      senate  B001237  Dean                   Barkley         \n",
       "552 111      senate  L000572  George      S.         LeMieux         \n",
       "553 111      senate  B001266  Roland                 Burris          \n",
       "554 111      senate  G000561  Carte       P.         Goodwin         \n",
       "555 111      senate  K000373  Edward      E.         Kaufman         \n",
       "556 111      senate  K000374  Paul        G.         Kirk      Jr.   \n",
       "557 113      senate  K000383  Angus                  King            \n",
       "558 113      senate  M000133  Edward      J.         Markey          \n",
       "559 113      senate  H001042  Mazie       K.         Hirono          \n",
       "560 113      senate  W000817  Elizabeth              Warren          \n",
       "561 113      senate  F000463  Deb                    Fischer         \n",
       "562 113      senate  D000607  Joe                    Donnelly        \n",
       "563 113      senate  H001069  Heidi                  Heitkamp        \n",
       "564 113      senate  K000384  Timothy                Kaine           \n",
       "565 113      senate  W000818  John        E.         Walsh           \n",
       "566 113      senate  B001230  Tammy                  Baldwin         \n",
       "567 113      senate  F000444  Jeff                   Flake           \n",
       "568 113      senate  S001184  Tim                    Scott           \n",
       "569 113      senate  B001288  Cory        Anthony    Booker          \n",
       "570 113      senate  C001098  Ted                    Cruz            \n",
       "571 113      senate  H001046  Martin                 Heinrich        \n",
       "572 113      senate  M001169  Christopher S.         Murphy          \n",
       "573 113      senate  C001099  William                Cowan           \n",
       "574 113      senate  C001100  Jeffrey     Scott      Chiesa          \n",
       "    birthday   state party incumbent termstart age  terms\n",
       "1   1902-12-05 SC    D     No        1/3/53    50.1 26   \n",
       "2   11/20/17   WV    D     Yes       1/7/59    41.1 26   \n",
       "3   2/22/32    MA    D     No        1/3/61    28.9 25   \n",
       "4   9/7/24     HI    D     Yes       1/9/63    38.3 25   \n",
       "5   1901-08-03 MS    D     No        1/3/47    45.4 21   \n",
       "6   11/18/23   AK    R     No        1/10/67   43.1 21   \n",
       "7   11/3/18    LA    D     Yes       1/3/47    28.2 20   \n",
       "8   1/1/22     SC    D     No        1/4/65    43.0 20   \n",
       "9   3/31/40    VT    D     No        1/14/75   34.8 20   \n",
       "10  11/20/42   DE    D     No        1/3/73    30.1 19   \n",
       "11  3/22/34    UT    R     No        1/4/77    42.8 19   \n",
       "12  12/7/37    MS    R     Yes       1/4/77    39.1 19   \n",
       "13  12/11/41   MT    D     Yes       1/4/77    35.1 19   \n",
       "14  11/22/18   RI    D     No        1/3/61    42.1 18   \n",
       "15  5/7/32     NM    R     No        1/3/73    40.7 18   \n",
       "16  4/4/32     IN    R     No        1/4/77    44.8 18   \n",
       "17  6/28/34    MI    D     No        1/15/79   44.6 18   \n",
       "18  1897-12-06 ND    R     Yes       1/3/47    49.1 17   \n",
       "19  4/12/05    WA    D     Yes       1/3/47    41.7 17   \n",
       "20  6/19/08    ND    D     No        1/7/59    50.6 17   \n",
       "21  9/17/33    IA    R     Yes       1/5/81    47.3 17   \n",
       "22  1896-02-25 AR    D     Yes       1/3/47    50.9 16   \n",
       "23  1899-12-20 AL    D     Yes       1/3/47    47.0 16   \n",
       "24  11/28/04   MS    D     Yes       1/3/47    42.1 16   \n",
       "25  5/31/12    WA    D     Yes       1/3/53    40.6 16   \n",
       "26  11/11/15   WI    D     No        1/3/57    41.1 16   \n",
       "27  7/22/21    DE    R     Yes       1/3/69    47.5 16   \n",
       "28  2/18/27    VA    R     No        1/4/77    49.9 16   \n",
       "29  1/1/09     AZ    R     No        1/3/53    44.0 15   \n",
       "30  7/12/22    OR    R     No        1/10/67   44.5 15   \n",
       "⋮   ⋮          ⋮     ⋮     ⋮         ⋮         ⋮    ⋮    \n",
       "545 2/6/22     ND    D     No        1/3/91    68.9 1    \n",
       "546 12/2/33    CA    R     No        1/3/91    57.1 1    \n",
       "547 1/17/27    TN    D     No        1/5/93    66.0 1    \n",
       "548 9/18/31    TX    D     No        1/5/93    61.3 1    \n",
       "549 3/21/41    KS    R     No        1/4/95    53.8 1    \n",
       "550 12/20/33   MO    D     No        1/3/01    67.0 1    \n",
       "551 8/31/50    MN    I     No        1/3/01    50.3 1    \n",
       "552 5/21/69    FL    R     No        1/6/09    39.6 1    \n",
       "553 8/2/33     IL    D     No        1/6/09    75.4 1    \n",
       "554 2/26/70    WV    D     No        1/6/09    38.9 1    \n",
       "555 3/14/35    DE    D     No        1/6/09    73.8 1    \n",
       "556 1/17/34    MA    D     No        1/6/09    75.0 1    \n",
       "557 3/31/44    ME    I     No        1/3/13    68.8 1    \n",
       "558 7/11/46    MA    D     Yes       1/3/13    66.5 1    \n",
       "559 11/3/47    HI    D     Yes       1/3/13    65.2 1    \n",
       "560 6/22/49    MA    D     No        1/3/13    63.5 1    \n",
       "561 3/1/51     NE    R     No        1/3/13    61.8 1    \n",
       "562 9/28/55    IN    D     Yes       1/3/13    57.3 1    \n",
       "563 10/30/55   ND    D     No        1/3/13    57.2 1    \n",
       "564 2/26/58    VA    D     No        1/3/13    54.9 1    \n",
       "565 11/3/60    MT    D     No        1/3/13    52.2 1    \n",
       "566 2/11/62    WI    D     Yes       1/3/13    50.9 1    \n",
       "567 12/31/62   AZ    R     Yes       1/3/13    50.0 1    \n",
       "568 9/19/65    SC    R     Yes       1/3/13    47.3 1    \n",
       "569 4/27/69    NJ    D     No        1/3/13    43.7 1    \n",
       "570 12/22/70   TX    R     No        1/3/13    42.0 1    \n",
       "571 10/17/71   NM    D     Yes       1/3/13    41.2 1    \n",
       "572 8/3/73     CT    D     Yes       1/3/13    39.4 1    \n",
       "573 4/3/65     MA    D     No        1/3/13    47.8 1    \n",
       "574 6/21/61    NJ    R     No        1/3/13    51.5 1    "
      ]
     },
     "metadata": {},
     "output_type": "display_data"
    }
   ],
   "source": [
    "df %>% filter(chamber == 'senate') %>%\n",
    "    group_by(bioguide) %>% mutate(terms = n()) %>% distinct(bioguide, .keep_all = TRUE) %>%\n",
    "    arrange(desc(terms))"
   ]
  },
  {
   "cell_type": "raw",
   "metadata": {},
   "source": [
    "Answer the question above here.\n",
    "6. \n",
    "\n",
    "Senate - Robert Byrd & Strom Thurmond at 26\n",
    "House - John Dingell at 30"
   ]
  },
  {
   "cell_type": "markdown",
   "metadata": {},
   "source": [
    "**Challenge Exercise 1**: Using the mean, which party on average holds a higher number of terms per politician? "
   ]
  },
  {
   "cell_type": "code",
   "execution_count": 23,
   "metadata": {},
   "outputs": [
    {
     "data": {
      "text/html": [
       "6.21376811594203"
      ],
      "text/latex": [
       "6.21376811594203"
      ],
      "text/markdown": [
       "6.21376811594203"
      ],
      "text/plain": [
       "[1] 6.213768"
      ]
     },
     "metadata": {},
     "output_type": "display_data"
    },
    {
     "data": {
      "text/html": [
       "5.34151065203357"
      ],
      "text/latex": [
       "5.34151065203357"
      ],
      "text/markdown": [
       "5.34151065203357"
      ],
      "text/plain": [
       "[1] 5.341511"
      ]
     },
     "metadata": {},
     "output_type": "display_data"
    }
   ],
   "source": [
    "# Challenge Exercise 1 code goes here\n",
    "# -----------------------------------\n",
    "\n",
    "dem.terms <- df %>% filter(party == 'D') %>%\n",
    "    group_by(bioguide) %>% mutate(terms = n()) %>% distinct(bioguide, .keep_all = TRUE)\n",
    "\n",
    "mean(dem.terms$terms)\n",
    "\n",
    "rep.terms <- df %>% filter(party == 'R') %>%\n",
    "    group_by(bioguide) %>% mutate(terms = n()) %>% distinct(bioguide, .keep_all = TRUE)\n",
    "\n",
    "mean(rep.terms$terms)\n"
   ]
  },
  {
   "cell_type": "raw",
   "metadata": {},
   "source": [
    "Answer the question above here.\n",
    "1. Based on the above, the Democratic party on average holds more terms per politician at 6.2 terms where Republicans on average hold 5.3."
   ]
  },
  {
   "cell_type": "markdown",
   "metadata": {},
   "source": [
    "**Challenge Exercise 2**: Using the median age, what condition has the strongest linear relationship: Congress Number and Republican House age, Congress Number and Republican Senate age, Congress Number and Democratic House age, or Congress Number and Democratic Senate age."
   ]
  },
  {
   "cell_type": "code",
   "execution_count": 34,
   "metadata": {},
   "outputs": [
    {
     "data": {
      "text/html": [
       "0.138165104720257"
      ],
      "text/latex": [
       "0.138165104720257"
      ],
      "text/markdown": [
       "0.138165104720257"
      ],
      "text/plain": [
       "[1] 0.1381651"
      ]
     },
     "metadata": {},
     "output_type": "display_data"
    },
    {
     "data": {
      "text/html": [
       "0.227419207413242"
      ],
      "text/latex": [
       "0.227419207413242"
      ],
      "text/markdown": [
       "0.227419207413242"
      ],
      "text/plain": [
       "[1] 0.2274192"
      ]
     },
     "metadata": {},
     "output_type": "display_data"
    },
    {
     "data": {
      "text/html": [
       "0.658978989171323"
      ],
      "text/latex": [
       "0.658978989171323"
      ],
      "text/markdown": [
       "0.658978989171323"
      ],
      "text/plain": [
       "[1] 0.658979"
      ]
     },
     "metadata": {},
     "output_type": "display_data"
    },
    {
     "data": {
      "text/html": [
       "0.586392347934907"
      ],
      "text/latex": [
       "0.586392347934907"
      ],
      "text/markdown": [
       "0.586392347934907"
      ],
      "text/plain": [
       "[1] 0.5863923"
      ]
     },
     "metadata": {},
     "output_type": "display_data"
    }
   ],
   "source": [
    "# Challenge Exercise 2 code goes here\n",
    "# -----------------------------------\n",
    "\n",
    "## using cor() to find linear relationship\n",
    "\n",
    "median.rep.house <- df %>% filter(party == 'R' & chamber == 'house') %>% group_by(congress) %>% mutate(med.age = median(age))\n",
    "median.rep.sen <- df %>% filter(party == 'R' & chamber == 'senate') %>% group_by(congress) %>% mutate(med.age = median(age))\n",
    "median.dem.house <- df %>% filter(party == 'D' & chamber == 'house') %>% group_by(congress) %>% mutate(med.age = median(age))\n",
    "median.dem.sen <- df %>% filter(party == 'D' & chamber == 'senate') %>% group_by(congress) %>% mutate(med.age = median(age))\n",
    "\n",
    "\n",
    "cor(median.rep.house$congress, median.rep.house$med.age)\n",
    "cor(median.rep.sen$congress, median.rep.sen$med.age)\n",
    "cor(median.dem.house$congress, median.dem.house$med.age)\n",
    "cor(median.dem.sen$congress, median.dem.sen$med.age)\n"
   ]
  },
  {
   "cell_type": "raw",
   "metadata": {},
   "source": [
    "Answer the question above here.\n",
    "2. According to the above, the condition that has the strongest linear relationship is that between Congress Number and Democratic House Age at 0.66"
   ]
  },
  {
   "cell_type": "markdown",
   "metadata": {},
   "source": [
    "**Exercise 7**: Plot the relationship with the strongest linear relationship to visualize the results."
   ]
  },
  {
   "cell_type": "code",
   "execution_count": 35,
   "metadata": {},
   "outputs": [
    {
     "data": {
      "image/png": "[encoded data removed]",
      "text/plain": [
       "plot without title"
      ]
     },
     "metadata": {},
     "output_type": "display_data"
    }
   ],
   "source": [
    "# Exercise 7 code goes here\n",
    "# -------------------------\n",
    "\n",
    "plot(median.dem.house$congress, median.dem.house$med.age)"
   ]
  },
  {
   "cell_type": "code",
   "execution_count": 36,
   "metadata": {},
   "outputs": [
    {
     "data": {
      "image/png": "[encoded data removed]",
      "text/plain": [
       "plot without title"
      ]
     },
     "metadata": {},
     "output_type": "display_data"
    },
    {
     "data": {
      "image/png": "[encoded data removed]",
      "text/plain": [
       "plot without title"
      ]
     },
     "metadata": {},
     "output_type": "display_data"
    },
    {
     "data": {
      "image/png": "[encoded data removed]",
      "text/plain": [
       "plot without title"
      ]
     },
     "metadata": {},
     "output_type": "display_data"
    }
   ],
   "source": [
    "## plotting the others just to see.\n",
    "## Sure enough, it does look like that one\n",
    "\n",
    "plot(median.rep.house$congress, median.rep.house$med.age)\n",
    "plot(median.rep.sen$congress, median.rep.sen$med.age)\n",
    "plot(median.dem.sen$congress, median.dem.sen$med.age)"
   ]
  },
  {
   "cell_type": "markdown",
   "metadata": {},
   "source": [
    "# Save your notebook, then `File > Close and Halt`"
   ]
  }
 ],
 "metadata": {
  "kernelspec": {
   "display_name": "R",
   "language": "R",
   "name": "ir"
  },
  "language_info": {
   "codemirror_mode": "r",
   "file_extension": ".r",
   "mimetype": "text/x-r-source",
   "name": "R",
   "pygments_lexer": "r",
   "version": "3.5.1"
  }
 },
 "nbformat": 4,
 "nbformat_minor": 2
}
