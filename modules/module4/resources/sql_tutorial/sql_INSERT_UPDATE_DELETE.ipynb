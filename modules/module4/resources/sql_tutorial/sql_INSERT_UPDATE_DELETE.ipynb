{
 "cells": [
  {
   "cell_type": "markdown",
   "metadata": {},
   "source": [
    "# SQL - INSERT/UPDATE/DELETE\n",
    "### Inserting Data\n",
    "\n",
    "We add data into a table in rows, or tuples.\n",
    "\n",
    "Basic Syntax:\n",
    "```SQL\n",
    "INSERT INTO <table_name> (<column_list>) VALUES (<value_list>);\n",
    "```\n",
    "\n",
    "- http://www.tutorialspoint.com/sqlite/sqlite_insert_query.htm\n",
    "- https://www.sqlite.org/lang_insert.html\n",
    "- http://www.w3schools.com/sql/sql_insert.asp\n",
    "\n",
    "### Updating Data\n",
    "\n",
    "Basic Syntax:\n",
    "```SQL\n",
    "UPDATE <table_name>\n",
    "SET <column_name> = <column_value> [, <column_name_2> = <column_value_2> ]\n",
    "WHERE <restriction>;\n",
    "```\n",
    "\n",
    "- http://www.tutorialspoint.com/sqlite/sqlite_update_query.htm\n",
    "- https://www.sqlite.org/lang_update.html\n",
    "- http://www.w3schools.com/sql/sql_update.asp\n",
    "\n",
    "### Deleting Data\n",
    "\n",
    "Basic Syntax:\n",
    "```SQL\n",
    "DELETE FROM <table_name> WHERE <restriction>;\n",
    "```\n",
    "\n",
    "- http://www.tutorialspoint.com/sqlite/sqlite_delete_query.htm\n",
    "- https://www.sqlite.org/lang_delete.html\n",
    "- http://www.w3schools.com/sql/sql_delete.asp\n",
    "\n",
    "### Transactions\n",
    "\n",
    "Before you start doing updates and deletes, please learn about transactions.\n",
    "\n",
    "- http://www.tutorialspoint.com/sqlite/sqlite_transactions.htm\n",
    "\n",
    "### Other Useful Links\n",
    "\n",
    "- http://www.w3schools.com/sql/default.asp"
   ]
  }
 ],
 "metadata": {
  "kernelspec": {
   "display_name": "Python 3",
   "language": "python",
   "name": "python3"
  },
  "language_info": {
   "codemirror_mode": {
    "name": "ipython",
    "version": 3
   },
   "file_extension": ".py",
   "mimetype": "text/x-python",
   "name": "python",
   "nbconvert_exporter": "python",
   "pygments_lexer": "ipython3",
   "version": "3.5.2"
  }
 },
 "nbformat": 4,
 "nbformat_minor": 0
}
