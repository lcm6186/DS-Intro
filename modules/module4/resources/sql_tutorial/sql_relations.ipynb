{
 "cells": [
  {
   "cell_type": "markdown",
   "metadata": {},
   "source": [
    "# SQL - Relations AKA Tables\n",
    "In the relational model data is stored as a set of tuples.\n",
    "\n",
    "**Tuple** : an fixed-size, ordered set of datums, aka **Record**, **Row**\n",
    "\n",
    "**Relation** : a collection of identical structured tuples, aka **Table**\n",
    "\n",
    "Table Example, four records, using a *record_id* as a key column.\n",
    "\n",
    "\n",
    "                | record_id | datum1 | datum2 | ...\n",
    "----------------|-----------|--------|--------|----\n",
    "**Row of Data** |    1      | abc    | def    |...\n",
    "**Row of Data** |    2      | ghi    | jkl    |...\n",
    "**Row of Data** |    3      | mno    | pqr    |...\n",
    "\n",
    "**Field**: A positional datum of a tuple.\n",
    "\n",
    "**Key**: a sub-tuple of one or more fields used to identify rows in the table\n",
    "\n",
    "**Candidate Key**: a key that uniquely identifies rows in the table.\n",
    "\n",
    "**Primary Key**: a candidate key that us chosen as the primary index for the table.\n",
    "\n",
    "Tables are defined into the database using\n",
    "\n",
    "\n",
    "```SQL\n",
    "CREATE TABLE <table_name>( <tuple definition>, <constraints and modifiers> );\n",
    "```\n",
    "\n",
    "```SQL\n",
    "CREATE TABLE Person(ident TEXT, personal TEXT, family TEXT);\n",
    "```\n",
    "\n",
    "```SQL\n",
    "CREATE TABLE Site(name TEXT, lat REAL, long REAL);\n",
    "```\n",
    "\n",
    "```SQL\n",
    "CREATE TABLE Visited(ident INTEGER, site TEXT, dated TEXT);\n",
    "```\n",
    "\n",
    "```SQL\n",
    "CREATE TABLE Survey(taken INTEGER, person TEXT, quant REAL, reading REAL);\n",
    "```\n"
   ]
  }
 ],
 "metadata": {
  "kernelspec": {
   "display_name": "Python 3",
   "language": "python",
   "name": "python3"
  },
  "language_info": {
   "codemirror_mode": {
    "name": "ipython",
    "version": 3
   },
   "file_extension": ".py",
   "mimetype": "text/x-python",
   "name": "python",
   "nbconvert_exporter": "python",
   "pygments_lexer": "ipython3",
   "version": "3.5.2"
  }
 },
 "nbformat": 4,
 "nbformat_minor": 0
}
