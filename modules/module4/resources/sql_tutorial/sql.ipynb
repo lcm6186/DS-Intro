{
 "cells": [
  {
   "cell_type": "markdown",
   "metadata": {},
   "source": [
    "# Structured Query Language (SQL)\n",
    "\n",
    "... is a special-purpose language designed for defining, viewing, and modifying data within relational database management systems (RDBMS).  \n",
    "\n",
    "Relational data management was conceptualized by Edgar F. Codd in \"A Relational Model of Data for Large Shared Data Banks,\" when he was research scientist as IBM. This conceptualized records as **tuples** of values and became the foundation for RDBMS. Interestingly, the relational model is purely mathematical in design. The operations on data are formulized within _relational algebra_ and _relational calculus_.    \n",
    "\n",
    "SQL, as a language, consists of three sub-components:\n",
    "\n",
    "1.  data definition language (DDL), e.g., CREATE ... ;\n",
    "2.  data manipulation language (DML), e.g., SELECT/INSERT/UPDATE/DELETE ...; and\n",
    "3.  data control language (DCL), e.g., GRANT/REVOKE ... .\n",
    "\n",
    "\n",
    "Popular RDBMS include:\n",
    "\n",
    "- Oracle,\n",
    "- MS SQL Server,\n",
    "- DB2,\n",
    "- MySQL,\n",
    "- PostgreSQL\n",
    "\n",
    "For this course, we will use a [SQLite](https://www.sqlite.org/) which is a SQL compatible database engine.  This is different in numerous ways from a RDBMS, such as not requiring configuration or server processes.  As such, SQLite does manage databases as a regular DBMS would, instead it facilitates a SQL interface to binary files.\n",
    "\n",
    "The tools and techniques we learn in this module are applicable to any SQL supporting data repository, be it traditional RDBMS, data warehouses, or SQL wrapped Big Data ecosystems such a:\n",
    "\n",
    "- Phoenix on top of HBase on top of Hadoop, or\n",
    "- Google Big Query"
   ]
  }
 ],
 "metadata": {
  "kernelspec": {
   "display_name": "Python 3",
   "language": "python",
   "name": "python3"
  },
  "language_info": {
   "codemirror_mode": {
    "name": "ipython",
    "version": 3
   },
   "file_extension": ".py",
   "mimetype": "text/x-python",
   "name": "python",
   "nbconvert_exporter": "python",
   "pygments_lexer": "ipython3",
   "version": "3.5.2"
  }
 },
 "nbformat": 4,
 "nbformat_minor": 0
}
