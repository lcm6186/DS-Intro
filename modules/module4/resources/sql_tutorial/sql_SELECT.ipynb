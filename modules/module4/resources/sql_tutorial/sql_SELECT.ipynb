{
 "cells": [
  {
   "cell_type": "markdown",
   "metadata": {},
   "source": [
    "# SQL - SELECT\n",
    "\n",
    "Viewing table data is a key need of interacting with a database.  This is foremost accomplished using the SELECT command.\n",
    "\n",
    "The format of a selection is as follows:\n",
    "\n",
    "```SQL\n",
    "SELECT <tuple_projection_definition>\n",
    "FROM <table_expressions>\n",
    "WHERE <tuple_retrictions>\n",
    "```\n",
    "Additionally, SQL supports the aggregation of data\n",
    "\n",
    "```SQL\n",
    "SELECT <tuple_projection_definition, <aggregate_projection> >\n",
    "FROM <table_expressions>\n",
    "WHERE <tuple_retrictions>\n",
    "GROUP BY <tuple_projection_definition>\n",
    "HAVING <restriction_on_aggregate_projection>\n",
    "```\n",
    "\n",
    "Please refer to documentation resources for details and examples:\n",
    "- http://www.w3schools.com/sql/sql_select.asp\n",
    "- http://www.w3schools.com/sql/sql_join.asp\n",
    "- http://www.w3schools.com/sql/sql_join_left.asp & http://www.w3schools.com/sql/sql_join_right.asp\n",
    "- Scalar and Aggregate Functions : http://www.w3schools.com/sql/sql_functions.asp\n"
   ]
  }
 ],
 "metadata": {
  "kernelspec": {
   "display_name": "Python 3",
   "language": "python",
   "name": "python3"
  },
  "language_info": {
   "codemirror_mode": {
    "name": "ipython",
    "version": 3
   },
   "file_extension": ".py",
   "mimetype": "text/x-python",
   "name": "python",
   "nbconvert_exporter": "python",
   "pygments_lexer": "ipython3",
   "version": "3.5.2"
  }
 },
 "nbformat": 4,
 "nbformat_minor": 0
}
