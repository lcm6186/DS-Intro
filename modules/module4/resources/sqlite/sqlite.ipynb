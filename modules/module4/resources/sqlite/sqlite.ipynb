{
 "cells": [
  {
   "cell_type": "markdown",
   "metadata": {},
   "source": [
    "# SQLite\n",
    "From the Documentation:\n",
    "\n",
    "\"SQLite is an in-process library that implements a self-contained, serverless, zero-configuration, transactional SQL database engine. The code for SQLite is in the public domain and is thus free for use for any purpose, commercial or private. SQLite is the most widely deployed database in the world with more applications than we can count, including several high-profile projects.\n",
    "\n",
    "\"SQLite is an embedded SQL database engine. Unlike most other SQL databases, SQLite does not have a separate server process. SQLite reads and writes directly to ordinary disk files. A complete SQL database with multiple tables, indices, triggers, and views, is contained in a single disk file. The database file format is cross-platform - you can freely copy a database between 32-bit and 64-bit systems or between big-endian and little-endian architectures. These features make SQLite a popular choice as an Application File Format. Think of SQLite not as a replacement for Oracle but as a replacement for fopen().\n",
    "\n",
    "### SQLite Interfaces:\n",
    "SQLite has numerous interfaces, including a command line interface (CLI). Additionally, API interfaces are provided in numerous environments / langauges such as C / C++ / Python/ R / PHP / Perl /...\n",
    "\n",
    "## Self-Paced Lesson:\n",
    "\n",
    "[Install Notes](http://swcarpentry.github.io//sql-novice-survey/discussion.html)\n",
    "\n",
    "[Exercises](http://swcarpentry.github.io//sql-novice-survey/index.html)\n",
    "\n",
    "[Download Page, includes Linux, Windows, MAC.  Note: Linux, Unix, and Mac come with SQLite pre-installed as part of the OS.](https://www.sqlite.org/download.html) \n"
   ]
  }
 ],
 "metadata": {
  "kernelspec": {
   "display_name": "Python 3",
   "language": "python",
   "name": "python3"
  },
  "language_info": {
   "codemirror_mode": {
    "name": "ipython",
    "version": 3
   },
   "file_extension": ".py",
   "mimetype": "text/x-python",
   "name": "python",
   "nbconvert_exporter": "python",
   "pygments_lexer": "ipython3",
   "version": "3.5.2"
  }
 },
 "nbformat": 4,
 "nbformat_minor": 0
}
