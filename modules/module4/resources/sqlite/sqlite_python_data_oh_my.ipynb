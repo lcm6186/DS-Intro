{
 "cells": [
  {
   "cell_type": "markdown",
   "metadata": {},
   "source": [
    "# Python, SQLite, and Data - oh my!\n",
    "Now that we have a basic grasp on both Python and its environment, as well as using SQL; we will tie them together.\n",
    "\n",
    "Python Installs typically have the SQLite drivers installed by default.\n",
    "\n",
    "http://www.tutorialspoint.com/sqlite/sqlite_python.htm\n",
    "\n",
    "\n",
    "\n",
    "### Querying Data\n",
    "\n",
    "A common operation is to pull data from a database for use in python and data related operations.\n",
    "\n",
    "### Loading Data\n",
    "\n",
    "Loading data from python into a database is common when you are using python to prepare data from various sources (streams of data, structured or unstructured files, etc.)\n",
    "\n",
    "Typically, in this instance we are loading data that has been cleaned and well formed into the python database for later use.\n"
   ]
  }
 ],
 "metadata": {
  "kernelspec": {
   "display_name": "Python 3",
   "language": "python",
   "name": "python3"
  },
  "language_info": {
   "codemirror_mode": {
    "name": "ipython",
    "version": 3
   },
   "file_extension": ".py",
   "mimetype": "text/x-python",
   "name": "python",
   "nbconvert_exporter": "python",
   "pygments_lexer": "ipython3",
   "version": "3.5.2"
  }
 },
 "nbformat": 4,
 "nbformat_minor": 0
}
