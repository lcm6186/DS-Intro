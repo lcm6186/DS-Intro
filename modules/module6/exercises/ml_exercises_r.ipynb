{
 "cells": [
  {
   "cell_type": "markdown",
   "metadata": {},
   "source": [
    "# Machine Learning Exercise with `R`\n",
    "\n",
    "There is still a lot to learn about machine learning, and it is important to recognize that we have barely started to scrape the surface of it. There are many things we could do to refine our model that we didn't touch on in this module (don't worry, these will be covered throughout your curriculum), such as data transformation, elegant methods for automated feature selection, as well as unsupervised learning.\n",
    "\n",
    "For these exercises, we ask you to only complete **ONE** of the exercise notebooks, either `Python` or `R`. We will be asking you to predict wine quality using both Decision Tree and Naïve Bayes. Your exercises will serve as a sort-of extended practice in which you are free to try and refine the model however you see fit, but we do ask you to use both Decision Tree and Naïve Bayes.\n",
    "\n",
    "The questions will guide you a bit, but if you want to experiment or you find, through data exploration, a model that is better, feel free to do so. If you go this route, leave comments in the code justifying why you did what you did."
   ]
  },
  {
   "cell_type": "markdown",
   "metadata": {},
   "source": [
    "### Read in Packages"
   ]
  },
  {
   "cell_type": "code",
   "execution_count": 1,
   "metadata": {},
   "outputs": [],
   "source": [
    "library(tree)\n",
    "library(ggplot2)\n",
    "library(e1071)"
   ]
  },
  {
   "cell_type": "markdown",
   "metadata": {},
   "source": [
    "### Read in the Data\n",
    "\n",
    "Today we will be using the Red Wine Quality data. The target variable is numeric, so we are going to discretize it a bit before we get to the activities."
   ]
  },
  {
   "cell_type": "code",
   "execution_count": 2,
   "metadata": {},
   "outputs": [
    {
     "data": {
      "text/html": [
       "<table>\n",
       "<caption>A data.frame: 6 × 12</caption>\n",
       "<thead>\n",
       "\t<tr><th scope=col>fixed.acidity</th><th scope=col>volatile.acidity</th><th scope=col>citric.acid</th><th scope=col>residual.sugar</th><th scope=col>chlorides</th><th scope=col>free.sulfur.dioxide</th><th scope=col>total.sulfur.dioxide</th><th scope=col>density</th><th scope=col>pH</th><th scope=col>sulphates</th><th scope=col>alcohol</th><th scope=col>quality</th></tr>\n",
       "\t<tr><th scope=col>&lt;dbl&gt;</th><th scope=col>&lt;dbl&gt;</th><th scope=col>&lt;dbl&gt;</th><th scope=col>&lt;dbl&gt;</th><th scope=col>&lt;dbl&gt;</th><th scope=col>&lt;dbl&gt;</th><th scope=col>&lt;dbl&gt;</th><th scope=col>&lt;dbl&gt;</th><th scope=col>&lt;dbl&gt;</th><th scope=col>&lt;dbl&gt;</th><th scope=col>&lt;dbl&gt;</th><th scope=col>&lt;int&gt;</th></tr>\n",
       "</thead>\n",
       "<tbody>\n",
       "\t<tr><td> 7.4</td><td>0.70</td><td>0.00</td><td>1.9</td><td>0.076</td><td>11</td><td>34</td><td>0.9978</td><td>3.51</td><td>0.56</td><td>9.4</td><td>5</td></tr>\n",
       "\t<tr><td> 7.8</td><td>0.88</td><td>0.00</td><td>2.6</td><td>0.098</td><td>25</td><td>67</td><td>0.9968</td><td>3.20</td><td>0.68</td><td>9.8</td><td>5</td></tr>\n",
       "\t<tr><td> 7.8</td><td>0.76</td><td>0.04</td><td>2.3</td><td>0.092</td><td>15</td><td>54</td><td>0.9970</td><td>3.26</td><td>0.65</td><td>9.8</td><td>5</td></tr>\n",
       "\t<tr><td>11.2</td><td>0.28</td><td>0.56</td><td>1.9</td><td>0.075</td><td>17</td><td>60</td><td>0.9980</td><td>3.16</td><td>0.58</td><td>9.8</td><td>6</td></tr>\n",
       "\t<tr><td> 7.4</td><td>0.70</td><td>0.00</td><td>1.9</td><td>0.076</td><td>11</td><td>34</td><td>0.9978</td><td>3.51</td><td>0.56</td><td>9.4</td><td>5</td></tr>\n",
       "\t<tr><td> 7.4</td><td>0.66</td><td>0.00</td><td>1.8</td><td>0.075</td><td>13</td><td>40</td><td>0.9978</td><td>3.51</td><td>0.56</td><td>9.4</td><td>5</td></tr>\n",
       "</tbody>\n",
       "</table>\n"
      ],
      "text/latex": [
       "A data.frame: 6 × 12\n",
       "\\begin{tabular}{r|llllllllllll}\n",
       " fixed.acidity & volatile.acidity & citric.acid & residual.sugar & chlorides & free.sulfur.dioxide & total.sulfur.dioxide & density & pH & sulphates & alcohol & quality\\\\\n",
       " <dbl> & <dbl> & <dbl> & <dbl> & <dbl> & <dbl> & <dbl> & <dbl> & <dbl> & <dbl> & <dbl> & <int>\\\\\n",
       "\\hline\n",
       "\t  7.4 & 0.70 & 0.00 & 1.9 & 0.076 & 11 & 34 & 0.9978 & 3.51 & 0.56 & 9.4 & 5\\\\\n",
       "\t  7.8 & 0.88 & 0.00 & 2.6 & 0.098 & 25 & 67 & 0.9968 & 3.20 & 0.68 & 9.8 & 5\\\\\n",
       "\t  7.8 & 0.76 & 0.04 & 2.3 & 0.092 & 15 & 54 & 0.9970 & 3.26 & 0.65 & 9.8 & 5\\\\\n",
       "\t 11.2 & 0.28 & 0.56 & 1.9 & 0.075 & 17 & 60 & 0.9980 & 3.16 & 0.58 & 9.8 & 6\\\\\n",
       "\t  7.4 & 0.70 & 0.00 & 1.9 & 0.076 & 11 & 34 & 0.9978 & 3.51 & 0.56 & 9.4 & 5\\\\\n",
       "\t  7.4 & 0.66 & 0.00 & 1.8 & 0.075 & 13 & 40 & 0.9978 & 3.51 & 0.56 & 9.4 & 5\\\\\n",
       "\\end{tabular}\n"
      ],
      "text/markdown": [
       "\n",
       "A data.frame: 6 × 12\n",
       "\n",
       "| fixed.acidity &lt;dbl&gt; | volatile.acidity &lt;dbl&gt; | citric.acid &lt;dbl&gt; | residual.sugar &lt;dbl&gt; | chlorides &lt;dbl&gt; | free.sulfur.dioxide &lt;dbl&gt; | total.sulfur.dioxide &lt;dbl&gt; | density &lt;dbl&gt; | pH &lt;dbl&gt; | sulphates &lt;dbl&gt; | alcohol &lt;dbl&gt; | quality &lt;int&gt; |\n",
       "|---|---|---|---|---|---|---|---|---|---|---|---|\n",
       "|  7.4 | 0.70 | 0.00 | 1.9 | 0.076 | 11 | 34 | 0.9978 | 3.51 | 0.56 | 9.4 | 5 |\n",
       "|  7.8 | 0.88 | 0.00 | 2.6 | 0.098 | 25 | 67 | 0.9968 | 3.20 | 0.68 | 9.8 | 5 |\n",
       "|  7.8 | 0.76 | 0.04 | 2.3 | 0.092 | 15 | 54 | 0.9970 | 3.26 | 0.65 | 9.8 | 5 |\n",
       "| 11.2 | 0.28 | 0.56 | 1.9 | 0.075 | 17 | 60 | 0.9980 | 3.16 | 0.58 | 9.8 | 6 |\n",
       "|  7.4 | 0.70 | 0.00 | 1.9 | 0.076 | 11 | 34 | 0.9978 | 3.51 | 0.56 | 9.4 | 5 |\n",
       "|  7.4 | 0.66 | 0.00 | 1.8 | 0.075 | 13 | 40 | 0.9978 | 3.51 | 0.56 | 9.4 | 5 |\n",
       "\n"
      ],
      "text/plain": [
       "  fixed.acidity volatile.acidity citric.acid residual.sugar chlorides\n",
       "1  7.4          0.70             0.00        1.9            0.076    \n",
       "2  7.8          0.88             0.00        2.6            0.098    \n",
       "3  7.8          0.76             0.04        2.3            0.092    \n",
       "4 11.2          0.28             0.56        1.9            0.075    \n",
       "5  7.4          0.70             0.00        1.9            0.076    \n",
       "6  7.4          0.66             0.00        1.8            0.075    \n",
       "  free.sulfur.dioxide total.sulfur.dioxide density pH   sulphates alcohol\n",
       "1 11                  34                   0.9978  3.51 0.56      9.4    \n",
       "2 25                  67                   0.9968  3.20 0.68      9.8    \n",
       "3 15                  54                   0.9970  3.26 0.65      9.8    \n",
       "4 17                  60                   0.9980  3.16 0.58      9.8    \n",
       "5 11                  34                   0.9978  3.51 0.56      9.4    \n",
       "6 13                  40                   0.9978  3.51 0.56      9.4    \n",
       "  quality\n",
       "1 5      \n",
       "2 5      \n",
       "3 5      \n",
       "4 6      \n",
       "5 5      \n",
       "6 5      "
      ]
     },
     "metadata": {},
     "output_type": "display_data"
    }
   ],
   "source": [
    "wine <- read.csv('/dsa/data/all_datasets/wine-quality/winequality-red.csv', sep = \";\")\n",
    "head(wine)"
   ]
  },
  {
   "cell_type": "code",
   "execution_count": 3,
   "metadata": {},
   "outputs": [],
   "source": [
    "# if wine quality is less than 6, assign the value \"bad\".\n",
    "# if 6 or greater, assign \"good\". create a new target called\n",
    "# taste\n",
    "wine$taste <- ifelse(wine$quality < 6, 'bad', 'good') \n",
    "\n",
    "# 6 is the most popular value by a lot in this set, so \n",
    "# we are going to assign it a unique value. We will call \n",
    "# this \"normal\" as it is in the middle of the distribution.\n",
    "wine$taste[wine$quality == 6] <- 'normal'\n",
    "\n",
    "# make this target variable categorical\n",
    "wine$taste <- as.factor(wine$taste)\n",
    "\n",
    "# remove the old target, since it is no longer needed\n",
    "wine <- wine[,-12]"
   ]
  },
  {
   "cell_type": "markdown",
   "metadata": {},
   "source": [
    "**Exercise 1**: Create a training data set and testing data set from the `wine` data frame. Make sure that the rows are randomly selected. The training set should be constructed from 60% of the data; call it `train`. The testing set should be called `test` and should be constructed from the **other** 40% of the data. Be sure to pass `123` as the set.seed() first."
   ]
  },
  {
   "cell_type": "code",
   "execution_count": 4,
   "metadata": {},
   "outputs": [
    {
     "data": {
      "text/html": [
       "959.4"
      ],
      "text/latex": [
       "959.4"
      ],
      "text/markdown": [
       "959.4"
      ],
      "text/plain": [
       "[1] 959.4"
      ]
     },
     "metadata": {},
     "output_type": "display_data"
    },
    {
     "data": {
      "text/html": [
       "639.6"
      ],
      "text/latex": [
       "639.6"
      ],
      "text/markdown": [
       "639.6"
      ],
      "text/plain": [
       "[1] 639.6"
      ]
     },
     "metadata": {},
     "output_type": "display_data"
    }
   ],
   "source": [
    "nrow(wine) *.6\n",
    "\n",
    "nrow(wine) - (nrow(wine)* .6)"
   ]
  },
  {
   "cell_type": "code",
   "execution_count": 5,
   "metadata": {},
   "outputs": [
    {
     "data": {
      "text/html": [
       "<table>\n",
       "<caption>A data.frame: 6 × 12</caption>\n",
       "<thead>\n",
       "\t<tr><th></th><th scope=col>fixed.acidity</th><th scope=col>volatile.acidity</th><th scope=col>citric.acid</th><th scope=col>residual.sugar</th><th scope=col>chlorides</th><th scope=col>free.sulfur.dioxide</th><th scope=col>total.sulfur.dioxide</th><th scope=col>density</th><th scope=col>pH</th><th scope=col>sulphates</th><th scope=col>alcohol</th><th scope=col>taste</th></tr>\n",
       "\t<tr><th></th><th scope=col>&lt;dbl&gt;</th><th scope=col>&lt;dbl&gt;</th><th scope=col>&lt;dbl&gt;</th><th scope=col>&lt;dbl&gt;</th><th scope=col>&lt;dbl&gt;</th><th scope=col>&lt;dbl&gt;</th><th scope=col>&lt;dbl&gt;</th><th scope=col>&lt;dbl&gt;</th><th scope=col>&lt;dbl&gt;</th><th scope=col>&lt;dbl&gt;</th><th scope=col>&lt;dbl&gt;</th><th scope=col>&lt;fct&gt;</th></tr>\n",
       "</thead>\n",
       "<tbody>\n",
       "\t<tr><th scope=row>460</th><td>11.6</td><td>0.580</td><td>0.66</td><td>2.2</td><td>0.074</td><td>10</td><td>47</td><td>1.00080</td><td>3.25</td><td>0.57</td><td> 9.0</td><td>bad   </td></tr>\n",
       "\t<tr><th scope=row>1260</th><td> 6.8</td><td>0.640</td><td>0.00</td><td>2.7</td><td>0.123</td><td>15</td><td>33</td><td>0.99538</td><td>3.44</td><td>0.63</td><td>11.3</td><td>normal</td></tr>\n",
       "\t<tr><th scope=row>654</th><td> 9.4</td><td>0.330</td><td>0.59</td><td>2.8</td><td>0.079</td><td> 9</td><td>30</td><td>0.99760</td><td>3.12</td><td>0.54</td><td>12.0</td><td>normal</td></tr>\n",
       "\t<tr><th scope=row>1410</th><td> 6.0</td><td>0.510</td><td>0.00</td><td>2.1</td><td>0.064</td><td>40</td><td>54</td><td>0.99500</td><td>3.54</td><td>0.93</td><td>10.7</td><td>normal</td></tr>\n",
       "\t<tr><th scope=row>1501</th><td> 7.5</td><td>0.725</td><td>0.04</td><td>1.5</td><td>0.076</td><td> 8</td><td>15</td><td>0.99508</td><td>3.26</td><td>0.53</td><td> 9.6</td><td>bad   </td></tr>\n",
       "\t<tr><th scope=row>73</th><td> 7.7</td><td>0.690</td><td>0.22</td><td>1.9</td><td>0.084</td><td>18</td><td>94</td><td>0.99610</td><td>3.31</td><td>0.48</td><td> 9.5</td><td>bad   </td></tr>\n",
       "</tbody>\n",
       "</table>\n"
      ],
      "text/latex": [
       "A data.frame: 6 × 12\n",
       "\\begin{tabular}{r|llllllllllll}\n",
       "  & fixed.acidity & volatile.acidity & citric.acid & residual.sugar & chlorides & free.sulfur.dioxide & total.sulfur.dioxide & density & pH & sulphates & alcohol & taste\\\\\n",
       "  & <dbl> & <dbl> & <dbl> & <dbl> & <dbl> & <dbl> & <dbl> & <dbl> & <dbl> & <dbl> & <dbl> & <fct>\\\\\n",
       "\\hline\n",
       "\t460 & 11.6 & 0.580 & 0.66 & 2.2 & 0.074 & 10 & 47 & 1.00080 & 3.25 & 0.57 &  9.0 & bad   \\\\\n",
       "\t1260 &  6.8 & 0.640 & 0.00 & 2.7 & 0.123 & 15 & 33 & 0.99538 & 3.44 & 0.63 & 11.3 & normal\\\\\n",
       "\t654 &  9.4 & 0.330 & 0.59 & 2.8 & 0.079 &  9 & 30 & 0.99760 & 3.12 & 0.54 & 12.0 & normal\\\\\n",
       "\t1410 &  6.0 & 0.510 & 0.00 & 2.1 & 0.064 & 40 & 54 & 0.99500 & 3.54 & 0.93 & 10.7 & normal\\\\\n",
       "\t1501 &  7.5 & 0.725 & 0.04 & 1.5 & 0.076 &  8 & 15 & 0.99508 & 3.26 & 0.53 &  9.6 & bad   \\\\\n",
       "\t73 &  7.7 & 0.690 & 0.22 & 1.9 & 0.084 & 18 & 94 & 0.99610 & 3.31 & 0.48 &  9.5 & bad   \\\\\n",
       "\\end{tabular}\n"
      ],
      "text/markdown": [
       "\n",
       "A data.frame: 6 × 12\n",
       "\n",
       "| <!--/--> | fixed.acidity &lt;dbl&gt; | volatile.acidity &lt;dbl&gt; | citric.acid &lt;dbl&gt; | residual.sugar &lt;dbl&gt; | chlorides &lt;dbl&gt; | free.sulfur.dioxide &lt;dbl&gt; | total.sulfur.dioxide &lt;dbl&gt; | density &lt;dbl&gt; | pH &lt;dbl&gt; | sulphates &lt;dbl&gt; | alcohol &lt;dbl&gt; | taste &lt;fct&gt; |\n",
       "|---|---|---|---|---|---|---|---|---|---|---|---|---|\n",
       "| 460 | 11.6 | 0.580 | 0.66 | 2.2 | 0.074 | 10 | 47 | 1.00080 | 3.25 | 0.57 |  9.0 | bad    |\n",
       "| 1260 |  6.8 | 0.640 | 0.00 | 2.7 | 0.123 | 15 | 33 | 0.99538 | 3.44 | 0.63 | 11.3 | normal |\n",
       "| 654 |  9.4 | 0.330 | 0.59 | 2.8 | 0.079 |  9 | 30 | 0.99760 | 3.12 | 0.54 | 12.0 | normal |\n",
       "| 1410 |  6.0 | 0.510 | 0.00 | 2.1 | 0.064 | 40 | 54 | 0.99500 | 3.54 | 0.93 | 10.7 | normal |\n",
       "| 1501 |  7.5 | 0.725 | 0.04 | 1.5 | 0.076 |  8 | 15 | 0.99508 | 3.26 | 0.53 |  9.6 | bad    |\n",
       "| 73 |  7.7 | 0.690 | 0.22 | 1.9 | 0.084 | 18 | 94 | 0.99610 | 3.31 | 0.48 |  9.5 | bad    |\n",
       "\n"
      ],
      "text/plain": [
       "     fixed.acidity volatile.acidity citric.acid residual.sugar chlorides\n",
       "460  11.6          0.580            0.66        2.2            0.074    \n",
       "1260  6.8          0.640            0.00        2.7            0.123    \n",
       "654   9.4          0.330            0.59        2.8            0.079    \n",
       "1410  6.0          0.510            0.00        2.1            0.064    \n",
       "1501  7.5          0.725            0.04        1.5            0.076    \n",
       "73    7.7          0.690            0.22        1.9            0.084    \n",
       "     free.sulfur.dioxide total.sulfur.dioxide density pH   sulphates alcohol\n",
       "460  10                  47                   1.00080 3.25 0.57       9.0   \n",
       "1260 15                  33                   0.99538 3.44 0.63      11.3   \n",
       "654   9                  30                   0.99760 3.12 0.54      12.0   \n",
       "1410 40                  54                   0.99500 3.54 0.93      10.7   \n",
       "1501  8                  15                   0.99508 3.26 0.53       9.6   \n",
       "73   18                  94                   0.99610 3.31 0.48       9.5   \n",
       "     taste \n",
       "460  bad   \n",
       "1260 normal\n",
       "654  normal\n",
       "1410 normal\n",
       "1501 bad   \n",
       "73   bad   "
      ]
     },
     "metadata": {},
     "output_type": "display_data"
    }
   ],
   "source": [
    "# Code for exercise 1 goes here\n",
    "# *****************************\n",
    "\n",
    "## 960 is equal to approx. 60% of the data set\n",
    "set.seed(123)\n",
    "train_ind <- sample(seq_len(nrow(wine)), size = 960)\n",
    "\n",
    "train <- wine[train_ind, ]\n",
    "\n",
    "head(train)"
   ]
  },
  {
   "cell_type": "code",
   "execution_count": 6,
   "metadata": {},
   "outputs": [],
   "source": [
    "## Now set up the testing set\n",
    "\n",
    "test <- wine[-train_ind, ]"
   ]
  },
  {
   "cell_type": "markdown",
   "metadata": {},
   "source": [
    "**Exercise 2**: Create a formula for the prediction task. First predict using all of the variables other than the target. In order to avoid typing out all of the variables, you can use the following notation:\n",
    "\n",
    "```splus\n",
    "target ~ .\n",
    "```\n",
    "\n",
    "The \".\" tells `R` to use all other variables in the dataset (that are not the target) as inputs."
   ]
  },
  {
   "cell_type": "code",
   "execution_count": 7,
   "metadata": {},
   "outputs": [],
   "source": [
    "# Code for exercise 2 goes here\n",
    "# *****************************\n",
    "\n",
    "frmla_full <- taste ~ .\n",
    "\n",
    "\n"
   ]
  },
  {
   "cell_type": "markdown",
   "metadata": {},
   "source": [
    "**Exercise 3**: Create a Decision Tree model using the `tree` function. Make sure that you pass the newly created formula as a parameter and specify the training data set. Be sure to name this object something (in the examples, we called it `tr`). Then run a summary on the object. "
   ]
  },
  {
   "cell_type": "code",
   "execution_count": 8,
   "metadata": {},
   "outputs": [
    {
     "data": {
      "text/plain": [
       "\n",
       "Classification tree:\n",
       "tree(formula = frmla_full, data = train)\n",
       "Variables actually used in tree construction:\n",
       "[1] \"alcohol\"              \"volatile.acidity\"     \"sulphates\"           \n",
       "[4] \"chlorides\"            \"total.sulfur.dioxide\"\n",
       "Number of terminal nodes:  10 \n",
       "Residual mean deviance:  1.467 = 1394 / 950 \n",
       "Misclassification error rate: 0.326 = 313 / 960 "
      ]
     },
     "metadata": {},
     "output_type": "display_data"
    }
   ],
   "source": [
    "# Code for exercise 3 goes here\n",
    "# *****************************\n",
    "\n",
    "tr <- tree(frmla_full, data=train)\n",
    "\n",
    "summary(tr)\n",
    "\n",
    "\n"
   ]
  },
  {
   "cell_type": "markdown",
   "metadata": {},
   "source": [
    "Pay attention to the output of the summary.\n",
    "\n",
    "**Exercise 4**: What is the misclassification error rate of the tree using the **testing** set?"
   ]
  },
  {
   "cell_type": "code",
   "execution_count": 9,
   "metadata": {},
   "outputs": [
    {
     "data": {
      "text/html": [
       "0.367762128325509"
      ],
      "text/latex": [
       "0.367762128325509"
      ],
      "text/markdown": [
       "0.367762128325509"
      ],
      "text/plain": [
       "[1] 0.3677621"
      ]
     },
     "metadata": {},
     "output_type": "display_data"
    }
   ],
   "source": [
    "# Code for exercise 4 goes here\n",
    "# *****************************\n",
    "\n",
    "test_tr<-test\n",
    "test_tr$pred <- predict(tr, test_tr, type='class')\n",
    "miss_tr <- test_tr[test_tr$taste != test_tr$pred,]\n",
    "\n",
    "nrow(miss_tr)/nrow(test_tr)\n"
   ]
  },
  {
   "cell_type": "markdown",
   "metadata": {},
   "source": [
    "**Exercise 5**: Now create a Naïve Bayes classifier using the formula and training data. Be sure to name this model something (in the other notebooks, we called it `m`)."
   ]
  },
  {
   "cell_type": "code",
   "execution_count": 10,
   "metadata": {},
   "outputs": [
    {
     "data": {
      "text/plain": [
       "\n",
       "Naive Bayes Classifier for Discrete Predictors\n",
       "\n",
       "Call:\n",
       "naiveBayes.default(x = X, y = Y, laplace = laplace)\n",
       "\n",
       "A-priori probabilities:\n",
       "Y\n",
       "      bad      good    normal \n",
       "0.4739583 0.1302083 0.3958333 \n",
       "\n",
       "Conditional probabilities:\n",
       "        fixed.acidity\n",
       "Y            [,1]     [,2]\n",
       "  bad    8.187912 1.530198\n",
       "  good   8.928000 2.106771\n",
       "  normal 8.458947 1.834325\n",
       "\n",
       "        volatile.acidity\n",
       "Y             [,1]      [,2]\n",
       "  bad    0.5982857 0.1870850\n",
       "  good   0.4045200 0.1430999\n",
       "  normal 0.4914079 0.1687192\n",
       "\n",
       "        citric.acid\n",
       "Y             [,1]      [,2]\n",
       "  bad    0.2388352 0.1851983\n",
       "  good   0.3744800 0.1905444\n",
       "  normal 0.2882105 0.1950711\n",
       "\n",
       "        residual.sugar\n",
       "Y            [,1]     [,2]\n",
       "  bad    2.511319 1.296993\n",
       "  good   2.676400 1.299699\n",
       "  normal 2.471053 1.327730\n",
       "\n",
       "        chlorides\n",
       "Y              [,1]       [,2]\n",
       "  bad    0.09213846 0.05132500\n",
       "  good   0.07500800 0.02245443\n",
       "  normal 0.08388947 0.03630374\n",
       "\n",
       "        free.sulfur.dioxide\n",
       "Y            [,1]     [,2]\n",
       "  bad    16.43297 10.68138\n",
       "  good   14.34800 10.74075\n",
       "  normal 16.18553 10.24491\n",
       "\n",
       "        total.sulfur.dioxide\n",
       "Y            [,1]     [,2]\n",
       "  bad    53.22088 36.21132\n",
       "  good   36.41600 32.42365\n",
       "  normal 41.64474 25.59287\n",
       "\n",
       "        density\n",
       "Y             [,1]        [,2]\n",
       "  bad    0.9970558 0.001545827\n",
       "  good   0.9960550 0.002203826\n",
       "  normal 0.9966485 0.002043225\n",
       "\n",
       "        pH\n",
       "Y            [,1]      [,2]\n",
       "  bad    3.311714 0.1526020\n",
       "  good   3.286880 0.1573542\n",
       "  normal 3.312395 0.1519801\n",
       "\n",
       "        sulphates\n",
       "Y             [,1]      [,2]\n",
       "  bad    0.6209451 0.1746078\n",
       "  good   0.7485600 0.1372818\n",
       "  normal 0.6681842 0.1439680\n",
       "\n",
       "        alcohol\n",
       "Y             [,1]      [,2]\n",
       "  bad     9.942088 0.7189176\n",
       "  good   11.574133 0.9948421\n",
       "  normal 10.641535 1.0472273\n"
      ]
     },
     "metadata": {},
     "output_type": "display_data"
    }
   ],
   "source": [
    "# Code for exercise 5 goes here\n",
    "# *****************************\n",
    "\n",
    "m <- naiveBayes(frmla_full, data=train)\n",
    "\n",
    "m\n"
   ]
  },
  {
   "cell_type": "markdown",
   "metadata": {},
   "source": [
    "**Exercise 6**: What is the misclassification error rate of the Naïve Bayes classifier using the **testing** set?"
   ]
  },
  {
   "cell_type": "code",
   "execution_count": 11,
   "metadata": {},
   "outputs": [
    {
     "data": {
      "text/plain": [
       "        \n",
       "         bad good normal\n",
       "  bad    221    8     98\n",
       "  good     7   47     30\n",
       "  normal  61   37    130"
      ]
     },
     "metadata": {},
     "output_type": "display_data"
    },
    {
     "data": {
      "text/html": [
       "0.377151799687011"
      ],
      "text/latex": [
       "0.377151799687011"
      ],
      "text/markdown": [
       "0.377151799687011"
      ],
      "text/plain": [
       "[1] 0.3771518"
      ]
     },
     "metadata": {},
     "output_type": "display_data"
    }
   ],
   "source": [
    "# Code for exercise 6 goes here\n",
    "# *****************************\n",
    "\n",
    "table(predict(m, test[, -12]), test[, 12])\n",
    "\n",
    "test_nb<-test\n",
    "test_nb$pred <- predict(m, test_nb[, -12])\n",
    "miss_nb <- test_nb[test_nb$taste != test_nb$pred,]\n",
    "\n",
    "nrow(miss_nb)/nrow(test_nb)\n",
    "\n"
   ]
  },
  {
   "cell_type": "markdown",
   "metadata": {},
   "source": [
    "Take a look at the summary of the tree created in Exercise 3. It shows us the features that it used for the classification task. \n",
    "\n",
    "**Exercise 7**: Create a new formula that predicts `taste` using only the features that the decision tree defined. Be sure to name this formula something different from the old formula."
   ]
  },
  {
   "cell_type": "code",
   "execution_count": 12,
   "metadata": {},
   "outputs": [
    {
     "data": {
      "text/plain": [
       "\n",
       "Classification tree:\n",
       "tree(formula = frmla_trimmed, data = train)\n",
       "Number of terminal nodes:  10 \n",
       "Residual mean deviance:  1.467 = 1394 / 950 \n",
       "Misclassification error rate: 0.326 = 313 / 960 "
      ]
     },
     "metadata": {},
     "output_type": "display_data"
    },
    {
     "data": {
      "text/html": [
       "0.367762128325509"
      ],
      "text/latex": [
       "0.367762128325509"
      ],
      "text/markdown": [
       "0.367762128325509"
      ],
      "text/plain": [
       "[1] 0.3677621"
      ]
     },
     "metadata": {},
     "output_type": "display_data"
    }
   ],
   "source": [
    "# Code for exercise 7 goes here\n",
    "# *****************************\n",
    "\n",
    "#[1] \"alcohol\"              \"volatile.acidity\"     \"sulphates\"           \n",
    "#[4] \"chlorides\"            \"total.sulfur.dioxide\"\n",
    "\n",
    "frmla_trimmed <- taste ~ alcohol + volatile.acidity + sulphates + chlorides + total.sulfur.dioxide\n",
    "\n",
    "tr2 <- tree(frmla_trimmed, data=train)\n",
    "\n",
    "summary(tr2)\n",
    "\n",
    "test_tr_trim<-test\n",
    "test_tr_trim$pred <- predict(tr2, test_tr_trim, type='class')\n",
    "miss_tr_trim <- test_tr_trim[test_tr_trim$taste != test_tr_trim$pred,]\n",
    "\n",
    "nrow(miss_tr_trim)/nrow(test_tr_trim)\n"
   ]
  },
  {
   "cell_type": "markdown",
   "metadata": {},
   "source": [
    "**Exercise 8**: Now create a Naïve Bayes classifier using this pruned formula and training data. Be sure to name this model something other than your original Naive Bayes model."
   ]
  },
  {
   "cell_type": "code",
   "execution_count": 13,
   "metadata": {},
   "outputs": [
    {
     "data": {
      "text/html": [
       "0.355242566510172"
      ],
      "text/latex": [
       "0.355242566510172"
      ],
      "text/markdown": [
       "0.355242566510172"
      ],
      "text/plain": [
       "[1] 0.3552426"
      ]
     },
     "metadata": {},
     "output_type": "display_data"
    }
   ],
   "source": [
    "# Code for exercise 8 goes here\n",
    "# *****************************\n",
    "\n",
    "m2 <- naiveBayes(frmla_trimmed, data=train)\n",
    "\n",
    "test_nb_trim<-test\n",
    "test_nb_trim$pred <- predict(m2, test_nb_trim, type='class')\n",
    "miss_nb_trim <- test_nb_trim[test_nb_trim$taste != test_nb_trim$pred,]\n",
    "\n",
    "nrow(miss_nb_trim)/nrow(test_nb_trim)\n",
    "\n",
    "\n"
   ]
  },
  {
   "cell_type": "markdown",
   "metadata": {},
   "source": [
    "**Exercise 9**: Does using only these select features create a better model according to the testing data misclassification error rate?"
   ]
  },
  {
   "cell_type": "code",
   "execution_count": 14,
   "metadata": {},
   "outputs": [
    {
     "data": {
      "text/html": [
       "0.0580912863070539"
      ],
      "text/latex": [
       "0.0580912863070539"
      ],
      "text/markdown": [
       "0.0580912863070539"
      ],
      "text/plain": [
       "[1] 0.05809129"
      ]
     },
     "metadata": {},
     "output_type": "display_data"
    }
   ],
   "source": [
    "# Code for exercise 9 goes here\n",
    "# *****************************\n",
    "\n",
    "# Using these elements on the Niave Bayes prediction model decreased our misclassification error rate from\n",
    "# 38% to 36%, which is about a 6% decrease in the rate as shown below.\n",
    "\n",
    "mer1 <- nrow(miss_nb)/nrow(test_nb)\n",
    "mer2 <- nrow(miss_nb_trim)/nrow(test_nb_trim)\n",
    "\n",
    "improve_percent <- abs((mer2 - mer1)/mer1)\n",
    "\n",
    "improve_percent\n"
   ]
  },
  {
   "cell_type": "markdown",
   "metadata": {},
   "source": [
    "# Save your noteboot, then `File > Close and Halt`"
   ]
  }
 ],
 "metadata": {
  "kernelspec": {
   "display_name": "R",
   "language": "R",
   "name": "ir"
  },
  "language_info": {
   "codemirror_mode": "r",
   "file_extension": ".r",
   "mimetype": "text/x-r-source",
   "name": "R",
   "pygments_lexer": "r",
   "version": "3.5.1"
  }
 },
 "nbformat": 4,
 "nbformat_minor": 1
}
