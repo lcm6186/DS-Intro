{
 "cells": [
  {
   "cell_type": "markdown",
   "metadata": {},
   "source": [
    "# Practicing Machine Learning with Naïve Bayes\n",
    "\n",
    "So we should be familiar with the major components involved in classification. But we still need to cover how to do Naïve Bayes in `R`. Much like the `Python` exercise, we are going to learn how to create a training and testing set, as well using feature selection to prune reduce the number of features that go into our model.\n",
    "\n",
    "It begins by loading in the appropriate library. Again, there are several libraries that have a Naïve Bayesian classifier built in, but today we are going to be using `e1071`."
   ]
  },
  {
   "cell_type": "code",
   "execution_count": 1,
   "metadata": {},
   "outputs": [],
   "source": [
    "library(e1071)"
   ]
  },
  {
   "cell_type": "markdown",
   "metadata": {},
   "source": [
    "Then we will begin this notebook like many of the notebooks before it, by looking at the data."
   ]
  },
  {
   "cell_type": "code",
   "execution_count": 2,
   "metadata": {},
   "outputs": [
    {
     "data": {
      "text/html": [
       "<table>\n",
       "<caption>A data.frame: 6 × 5</caption>\n",
       "<thead>\n",
       "\t<tr><th scope=col>Sepal.Length</th><th scope=col>Sepal.Width</th><th scope=col>Petal.Length</th><th scope=col>Petal.Width</th><th scope=col>Species</th></tr>\n",
       "\t<tr><th scope=col>&lt;dbl&gt;</th><th scope=col>&lt;dbl&gt;</th><th scope=col>&lt;dbl&gt;</th><th scope=col>&lt;dbl&gt;</th><th scope=col>&lt;fct&gt;</th></tr>\n",
       "</thead>\n",
       "<tbody>\n",
       "\t<tr><td>5.1</td><td>3.5</td><td>1.4</td><td>0.2</td><td>setosa</td></tr>\n",
       "\t<tr><td>4.9</td><td>3.0</td><td>1.4</td><td>0.2</td><td>setosa</td></tr>\n",
       "\t<tr><td>4.7</td><td>3.2</td><td>1.3</td><td>0.2</td><td>setosa</td></tr>\n",
       "\t<tr><td>4.6</td><td>3.1</td><td>1.5</td><td>0.2</td><td>setosa</td></tr>\n",
       "\t<tr><td>5.0</td><td>3.6</td><td>1.4</td><td>0.2</td><td>setosa</td></tr>\n",
       "\t<tr><td>5.4</td><td>3.9</td><td>1.7</td><td>0.4</td><td>setosa</td></tr>\n",
       "</tbody>\n",
       "</table>\n"
      ],
      "text/latex": [
       "A data.frame: 6 × 5\n",
       "\\begin{tabular}{r|lllll}\n",
       " Sepal.Length & Sepal.Width & Petal.Length & Petal.Width & Species\\\\\n",
       " <dbl> & <dbl> & <dbl> & <dbl> & <fct>\\\\\n",
       "\\hline\n",
       "\t 5.1 & 3.5 & 1.4 & 0.2 & setosa\\\\\n",
       "\t 4.9 & 3.0 & 1.4 & 0.2 & setosa\\\\\n",
       "\t 4.7 & 3.2 & 1.3 & 0.2 & setosa\\\\\n",
       "\t 4.6 & 3.1 & 1.5 & 0.2 & setosa\\\\\n",
       "\t 5.0 & 3.6 & 1.4 & 0.2 & setosa\\\\\n",
       "\t 5.4 & 3.9 & 1.7 & 0.4 & setosa\\\\\n",
       "\\end{tabular}\n"
      ],
      "text/markdown": [
       "\n",
       "A data.frame: 6 × 5\n",
       "\n",
       "| Sepal.Length &lt;dbl&gt; | Sepal.Width &lt;dbl&gt; | Petal.Length &lt;dbl&gt; | Petal.Width &lt;dbl&gt; | Species &lt;fct&gt; |\n",
       "|---|---|---|---|---|\n",
       "| 5.1 | 3.5 | 1.4 | 0.2 | setosa |\n",
       "| 4.9 | 3.0 | 1.4 | 0.2 | setosa |\n",
       "| 4.7 | 3.2 | 1.3 | 0.2 | setosa |\n",
       "| 4.6 | 3.1 | 1.5 | 0.2 | setosa |\n",
       "| 5.0 | 3.6 | 1.4 | 0.2 | setosa |\n",
       "| 5.4 | 3.9 | 1.7 | 0.4 | setosa |\n",
       "\n"
      ],
      "text/plain": [
       "  Sepal.Length Sepal.Width Petal.Length Petal.Width Species\n",
       "1 5.1          3.5         1.4          0.2         setosa \n",
       "2 4.9          3.0         1.4          0.2         setosa \n",
       "3 4.7          3.2         1.3          0.2         setosa \n",
       "4 4.6          3.1         1.5          0.2         setosa \n",
       "5 5.0          3.6         1.4          0.2         setosa \n",
       "6 5.4          3.9         1.7          0.4         setosa "
      ]
     },
     "metadata": {},
     "output_type": "display_data"
    }
   ],
   "source": [
    "head(iris)"
   ]
  },
  {
   "cell_type": "markdown",
   "metadata": {},
   "source": [
    "In the `Python` practice notebook, we discussed the importance of splitting our data in to training and testing sets. We are going to do the same thing with `R` before we train our model. The method is very similar..."
   ]
  },
  {
   "cell_type": "code",
   "execution_count": 3,
   "metadata": {},
   "outputs": [
    {
     "data": {
      "text/html": [
       "<table>\n",
       "<caption>A data.frame: 100 × 5</caption>\n",
       "<thead>\n",
       "\t<tr><th></th><th scope=col>Sepal.Length</th><th scope=col>Sepal.Width</th><th scope=col>Petal.Length</th><th scope=col>Petal.Width</th><th scope=col>Species</th></tr>\n",
       "\t<tr><th></th><th scope=col>&lt;dbl&gt;</th><th scope=col>&lt;dbl&gt;</th><th scope=col>&lt;dbl&gt;</th><th scope=col>&lt;dbl&gt;</th><th scope=col>&lt;fct&gt;</th></tr>\n",
       "</thead>\n",
       "<tbody>\n",
       "\t<tr><th scope=row>40</th><td>5.1</td><td>3.4</td><td>1.5</td><td>0.2</td><td>setosa    </td></tr>\n",
       "\t<tr><th scope=row>56</th><td>5.7</td><td>2.8</td><td>4.5</td><td>1.3</td><td>versicolor</td></tr>\n",
       "\t<tr><th scope=row>85</th><td>5.4</td><td>3.0</td><td>4.5</td><td>1.5</td><td>versicolor</td></tr>\n",
       "\t<tr><th scope=row>134</th><td>6.3</td><td>2.8</td><td>5.1</td><td>1.5</td><td>virginica </td></tr>\n",
       "\t<tr><th scope=row>30</th><td>4.7</td><td>3.2</td><td>1.6</td><td>0.2</td><td>setosa    </td></tr>\n",
       "\t<tr><th scope=row>131</th><td>7.4</td><td>2.8</td><td>6.1</td><td>1.9</td><td>virginica </td></tr>\n",
       "\t<tr><th scope=row>137</th><td>6.3</td><td>3.4</td><td>5.6</td><td>2.4</td><td>virginica </td></tr>\n",
       "\t<tr><th scope=row>95</th><td>5.6</td><td>2.7</td><td>4.2</td><td>1.3</td><td>versicolor</td></tr>\n",
       "\t<tr><th scope=row>90</th><td>5.5</td><td>2.5</td><td>4.0</td><td>1.3</td><td>versicolor</td></tr>\n",
       "\t<tr><th scope=row>9</th><td>4.4</td><td>2.9</td><td>1.4</td><td>0.2</td><td>setosa    </td></tr>\n",
       "\t<tr><th scope=row>29</th><td>5.2</td><td>3.4</td><td>1.4</td><td>0.2</td><td>setosa    </td></tr>\n",
       "\t<tr><th scope=row>25</th><td>4.8</td><td>3.4</td><td>1.9</td><td>0.2</td><td>setosa    </td></tr>\n",
       "\t<tr><th scope=row>143</th><td>5.8</td><td>2.7</td><td>5.1</td><td>1.9</td><td>virginica </td></tr>\n",
       "\t<tr><th scope=row>53</th><td>6.9</td><td>3.1</td><td>4.9</td><td>1.5</td><td>versicolor</td></tr>\n",
       "\t<tr><th scope=row>105</th><td>6.5</td><td>3.0</td><td>5.8</td><td>2.2</td><td>virginica </td></tr>\n",
       "\t<tr><th scope=row>68</th><td>5.8</td><td>2.7</td><td>4.1</td><td>1.0</td><td>versicolor</td></tr>\n",
       "\t<tr><th scope=row>97</th><td>5.7</td><td>2.9</td><td>4.2</td><td>1.3</td><td>versicolor</td></tr>\n",
       "\t<tr><th scope=row>132</th><td>7.9</td><td>3.8</td><td>6.4</td><td>2.0</td><td>virginica </td></tr>\n",
       "\t<tr><th scope=row>51</th><td>7.0</td><td>3.2</td><td>4.7</td><td>1.4</td><td>versicolor</td></tr>\n",
       "\t<tr><th scope=row>102</th><td>5.8</td><td>2.7</td><td>5.1</td><td>1.9</td><td>virginica </td></tr>\n",
       "\t<tr><th scope=row>122</th><td>5.6</td><td>2.8</td><td>4.9</td><td>2.0</td><td>virginica </td></tr>\n",
       "\t<tr><th scope=row>28</th><td>5.2</td><td>3.5</td><td>1.5</td><td>0.2</td><td>setosa    </td></tr>\n",
       "\t<tr><th scope=row>84</th><td>6.0</td><td>2.7</td><td>5.1</td><td>1.6</td><td>versicolor</td></tr>\n",
       "\t<tr><th scope=row>16</th><td>5.7</td><td>4.4</td><td>1.5</td><td>0.4</td><td>setosa    </td></tr>\n",
       "\t<tr><th scope=row>34</th><td>5.5</td><td>4.2</td><td>1.4</td><td>0.2</td><td>setosa    </td></tr>\n",
       "\t<tr><th scope=row>49</th><td>5.3</td><td>3.7</td><td>1.5</td><td>0.2</td><td>setosa    </td></tr>\n",
       "\t<tr><th scope=row>2</th><td>4.9</td><td>3.0</td><td>1.4</td><td>0.2</td><td>setosa    </td></tr>\n",
       "\t<tr><th scope=row>48</th><td>4.6</td><td>3.2</td><td>1.4</td><td>0.2</td><td>setosa    </td></tr>\n",
       "\t<tr><th scope=row>107</th><td>4.9</td><td>2.5</td><td>4.5</td><td>1.7</td><td>virginica </td></tr>\n",
       "\t<tr><th scope=row>42</th><td>4.5</td><td>2.3</td><td>1.3</td><td>0.3</td><td>setosa    </td></tr>\n",
       "\t<tr><th scope=row>⋮</th><td>⋮</td><td>⋮</td><td>⋮</td><td>⋮</td><td>⋮</td></tr>\n",
       "\t<tr><th scope=row>129</th><td>6.4</td><td>2.8</td><td>5.6</td><td>2.1</td><td>virginica </td></tr>\n",
       "\t<tr><th scope=row>67</th><td>5.6</td><td>3.0</td><td>4.5</td><td>1.5</td><td>versicolor</td></tr>\n",
       "\t<tr><th scope=row>80</th><td>5.7</td><td>2.6</td><td>3.5</td><td>1.0</td><td>versicolor</td></tr>\n",
       "\t<tr><th scope=row>26</th><td>5.0</td><td>3.0</td><td>1.6</td><td>0.2</td><td>setosa    </td></tr>\n",
       "\t<tr><th scope=row>37</th><td>5.5</td><td>3.5</td><td>1.3</td><td>0.2</td><td>setosa    </td></tr>\n",
       "\t<tr><th scope=row>79</th><td>6.0</td><td>2.9</td><td>4.5</td><td>1.5</td><td>versicolor</td></tr>\n",
       "\t<tr><th scope=row>142</th><td>6.9</td><td>3.1</td><td>5.1</td><td>2.3</td><td>virginica </td></tr>\n",
       "\t<tr><th scope=row>87</th><td>6.7</td><td>3.1</td><td>4.7</td><td>1.5</td><td>versicolor</td></tr>\n",
       "\t<tr><th scope=row>99</th><td>5.1</td><td>2.5</td><td>3.0</td><td>1.1</td><td>versicolor</td></tr>\n",
       "\t<tr><th scope=row>69</th><td>6.2</td><td>2.2</td><td>4.5</td><td>1.5</td><td>versicolor</td></tr>\n",
       "\t<tr><th scope=row>31</th><td>4.8</td><td>3.1</td><td>1.6</td><td>0.2</td><td>setosa    </td></tr>\n",
       "\t<tr><th scope=row>103</th><td>7.1</td><td>3.0</td><td>5.9</td><td>2.1</td><td>virginica </td></tr>\n",
       "\t<tr><th scope=row>78</th><td>6.7</td><td>3.0</td><td>5.0</td><td>1.7</td><td>versicolor</td></tr>\n",
       "\t<tr><th scope=row>108</th><td>7.3</td><td>2.9</td><td>6.3</td><td>1.8</td><td>virginica </td></tr>\n",
       "\t<tr><th scope=row>81</th><td>5.5</td><td>2.4</td><td>3.8</td><td>1.1</td><td>versicolor</td></tr>\n",
       "\t<tr><th scope=row>14</th><td>4.3</td><td>3.0</td><td>1.1</td><td>0.1</td><td>setosa    </td></tr>\n",
       "\t<tr><th scope=row>111</th><td>6.5</td><td>3.2</td><td>5.1</td><td>2.0</td><td>virginica </td></tr>\n",
       "\t<tr><th scope=row>8</th><td>5.0</td><td>3.4</td><td>1.5</td><td>0.2</td><td>setosa    </td></tr>\n",
       "\t<tr><th scope=row>127</th><td>6.2</td><td>2.8</td><td>4.8</td><td>1.8</td><td>virginica </td></tr>\n",
       "\t<tr><th scope=row>141</th><td>6.7</td><td>3.1</td><td>5.6</td><td>2.4</td><td>virginica </td></tr>\n",
       "\t<tr><th scope=row>15</th><td>5.8</td><td>4.0</td><td>1.2</td><td>0.2</td><td>setosa    </td></tr>\n",
       "\t<tr><th scope=row>4</th><td>4.6</td><td>3.1</td><td>1.5</td><td>0.2</td><td>setosa    </td></tr>\n",
       "\t<tr><th scope=row>110</th><td>7.2</td><td>3.6</td><td>6.1</td><td>2.5</td><td>virginica </td></tr>\n",
       "\t<tr><th scope=row>66</th><td>6.7</td><td>3.1</td><td>4.4</td><td>1.4</td><td>versicolor</td></tr>\n",
       "\t<tr><th scope=row>44</th><td>5.0</td><td>3.5</td><td>1.6</td><td>0.6</td><td>setosa    </td></tr>\n",
       "\t<tr><th scope=row>119</th><td>7.7</td><td>2.6</td><td>6.9</td><td>2.3</td><td>virginica </td></tr>\n",
       "\t<tr><th scope=row>139</th><td>6.0</td><td>3.0</td><td>4.8</td><td>1.8</td><td>virginica </td></tr>\n",
       "\t<tr><th scope=row>145</th><td>6.7</td><td>3.3</td><td>5.7</td><td>2.5</td><td>virginica </td></tr>\n",
       "\t<tr><th scope=row>98</th><td>6.2</td><td>2.9</td><td>4.3</td><td>1.3</td><td>versicolor</td></tr>\n",
       "\t<tr><th scope=row>101</th><td>6.3</td><td>3.3</td><td>6.0</td><td>2.5</td><td>virginica </td></tr>\n",
       "</tbody>\n",
       "</table>\n"
      ],
      "text/latex": [
       "A data.frame: 100 × 5\n",
       "\\begin{tabular}{r|lllll}\n",
       "  & Sepal.Length & Sepal.Width & Petal.Length & Petal.Width & Species\\\\\n",
       "  & <dbl> & <dbl> & <dbl> & <dbl> & <fct>\\\\\n",
       "\\hline\n",
       "\t40 & 5.1 & 3.4 & 1.5 & 0.2 & setosa    \\\\\n",
       "\t56 & 5.7 & 2.8 & 4.5 & 1.3 & versicolor\\\\\n",
       "\t85 & 5.4 & 3.0 & 4.5 & 1.5 & versicolor\\\\\n",
       "\t134 & 6.3 & 2.8 & 5.1 & 1.5 & virginica \\\\\n",
       "\t30 & 4.7 & 3.2 & 1.6 & 0.2 & setosa    \\\\\n",
       "\t131 & 7.4 & 2.8 & 6.1 & 1.9 & virginica \\\\\n",
       "\t137 & 6.3 & 3.4 & 5.6 & 2.4 & virginica \\\\\n",
       "\t95 & 5.6 & 2.7 & 4.2 & 1.3 & versicolor\\\\\n",
       "\t90 & 5.5 & 2.5 & 4.0 & 1.3 & versicolor\\\\\n",
       "\t9 & 4.4 & 2.9 & 1.4 & 0.2 & setosa    \\\\\n",
       "\t29 & 5.2 & 3.4 & 1.4 & 0.2 & setosa    \\\\\n",
       "\t25 & 4.8 & 3.4 & 1.9 & 0.2 & setosa    \\\\\n",
       "\t143 & 5.8 & 2.7 & 5.1 & 1.9 & virginica \\\\\n",
       "\t53 & 6.9 & 3.1 & 4.9 & 1.5 & versicolor\\\\\n",
       "\t105 & 6.5 & 3.0 & 5.8 & 2.2 & virginica \\\\\n",
       "\t68 & 5.8 & 2.7 & 4.1 & 1.0 & versicolor\\\\\n",
       "\t97 & 5.7 & 2.9 & 4.2 & 1.3 & versicolor\\\\\n",
       "\t132 & 7.9 & 3.8 & 6.4 & 2.0 & virginica \\\\\n",
       "\t51 & 7.0 & 3.2 & 4.7 & 1.4 & versicolor\\\\\n",
       "\t102 & 5.8 & 2.7 & 5.1 & 1.9 & virginica \\\\\n",
       "\t122 & 5.6 & 2.8 & 4.9 & 2.0 & virginica \\\\\n",
       "\t28 & 5.2 & 3.5 & 1.5 & 0.2 & setosa    \\\\\n",
       "\t84 & 6.0 & 2.7 & 5.1 & 1.6 & versicolor\\\\\n",
       "\t16 & 5.7 & 4.4 & 1.5 & 0.4 & setosa    \\\\\n",
       "\t34 & 5.5 & 4.2 & 1.4 & 0.2 & setosa    \\\\\n",
       "\t49 & 5.3 & 3.7 & 1.5 & 0.2 & setosa    \\\\\n",
       "\t2 & 4.9 & 3.0 & 1.4 & 0.2 & setosa    \\\\\n",
       "\t48 & 4.6 & 3.2 & 1.4 & 0.2 & setosa    \\\\\n",
       "\t107 & 4.9 & 2.5 & 4.5 & 1.7 & virginica \\\\\n",
       "\t42 & 4.5 & 2.3 & 1.3 & 0.3 & setosa    \\\\\n",
       "\t⋮ & ⋮ & ⋮ & ⋮ & ⋮ & ⋮\\\\\n",
       "\t129 & 6.4 & 2.8 & 5.6 & 2.1 & virginica \\\\\n",
       "\t67 & 5.6 & 3.0 & 4.5 & 1.5 & versicolor\\\\\n",
       "\t80 & 5.7 & 2.6 & 3.5 & 1.0 & versicolor\\\\\n",
       "\t26 & 5.0 & 3.0 & 1.6 & 0.2 & setosa    \\\\\n",
       "\t37 & 5.5 & 3.5 & 1.3 & 0.2 & setosa    \\\\\n",
       "\t79 & 6.0 & 2.9 & 4.5 & 1.5 & versicolor\\\\\n",
       "\t142 & 6.9 & 3.1 & 5.1 & 2.3 & virginica \\\\\n",
       "\t87 & 6.7 & 3.1 & 4.7 & 1.5 & versicolor\\\\\n",
       "\t99 & 5.1 & 2.5 & 3.0 & 1.1 & versicolor\\\\\n",
       "\t69 & 6.2 & 2.2 & 4.5 & 1.5 & versicolor\\\\\n",
       "\t31 & 4.8 & 3.1 & 1.6 & 0.2 & setosa    \\\\\n",
       "\t103 & 7.1 & 3.0 & 5.9 & 2.1 & virginica \\\\\n",
       "\t78 & 6.7 & 3.0 & 5.0 & 1.7 & versicolor\\\\\n",
       "\t108 & 7.3 & 2.9 & 6.3 & 1.8 & virginica \\\\\n",
       "\t81 & 5.5 & 2.4 & 3.8 & 1.1 & versicolor\\\\\n",
       "\t14 & 4.3 & 3.0 & 1.1 & 0.1 & setosa    \\\\\n",
       "\t111 & 6.5 & 3.2 & 5.1 & 2.0 & virginica \\\\\n",
       "\t8 & 5.0 & 3.4 & 1.5 & 0.2 & setosa    \\\\\n",
       "\t127 & 6.2 & 2.8 & 4.8 & 1.8 & virginica \\\\\n",
       "\t141 & 6.7 & 3.1 & 5.6 & 2.4 & virginica \\\\\n",
       "\t15 & 5.8 & 4.0 & 1.2 & 0.2 & setosa    \\\\\n",
       "\t4 & 4.6 & 3.1 & 1.5 & 0.2 & setosa    \\\\\n",
       "\t110 & 7.2 & 3.6 & 6.1 & 2.5 & virginica \\\\\n",
       "\t66 & 6.7 & 3.1 & 4.4 & 1.4 & versicolor\\\\\n",
       "\t44 & 5.0 & 3.5 & 1.6 & 0.6 & setosa    \\\\\n",
       "\t119 & 7.7 & 2.6 & 6.9 & 2.3 & virginica \\\\\n",
       "\t139 & 6.0 & 3.0 & 4.8 & 1.8 & virginica \\\\\n",
       "\t145 & 6.7 & 3.3 & 5.7 & 2.5 & virginica \\\\\n",
       "\t98 & 6.2 & 2.9 & 4.3 & 1.3 & versicolor\\\\\n",
       "\t101 & 6.3 & 3.3 & 6.0 & 2.5 & virginica \\\\\n",
       "\\end{tabular}\n"
      ],
      "text/markdown": [
       "\n",
       "A data.frame: 100 × 5\n",
       "\n",
       "| <!--/--> | Sepal.Length &lt;dbl&gt; | Sepal.Width &lt;dbl&gt; | Petal.Length &lt;dbl&gt; | Petal.Width &lt;dbl&gt; | Species &lt;fct&gt; |\n",
       "|---|---|---|---|---|---|\n",
       "| 40 | 5.1 | 3.4 | 1.5 | 0.2 | setosa     |\n",
       "| 56 | 5.7 | 2.8 | 4.5 | 1.3 | versicolor |\n",
       "| 85 | 5.4 | 3.0 | 4.5 | 1.5 | versicolor |\n",
       "| 134 | 6.3 | 2.8 | 5.1 | 1.5 | virginica  |\n",
       "| 30 | 4.7 | 3.2 | 1.6 | 0.2 | setosa     |\n",
       "| 131 | 7.4 | 2.8 | 6.1 | 1.9 | virginica  |\n",
       "| 137 | 6.3 | 3.4 | 5.6 | 2.4 | virginica  |\n",
       "| 95 | 5.6 | 2.7 | 4.2 | 1.3 | versicolor |\n",
       "| 90 | 5.5 | 2.5 | 4.0 | 1.3 | versicolor |\n",
       "| 9 | 4.4 | 2.9 | 1.4 | 0.2 | setosa     |\n",
       "| 29 | 5.2 | 3.4 | 1.4 | 0.2 | setosa     |\n",
       "| 25 | 4.8 | 3.4 | 1.9 | 0.2 | setosa     |\n",
       "| 143 | 5.8 | 2.7 | 5.1 | 1.9 | virginica  |\n",
       "| 53 | 6.9 | 3.1 | 4.9 | 1.5 | versicolor |\n",
       "| 105 | 6.5 | 3.0 | 5.8 | 2.2 | virginica  |\n",
       "| 68 | 5.8 | 2.7 | 4.1 | 1.0 | versicolor |\n",
       "| 97 | 5.7 | 2.9 | 4.2 | 1.3 | versicolor |\n",
       "| 132 | 7.9 | 3.8 | 6.4 | 2.0 | virginica  |\n",
       "| 51 | 7.0 | 3.2 | 4.7 | 1.4 | versicolor |\n",
       "| 102 | 5.8 | 2.7 | 5.1 | 1.9 | virginica  |\n",
       "| 122 | 5.6 | 2.8 | 4.9 | 2.0 | virginica  |\n",
       "| 28 | 5.2 | 3.5 | 1.5 | 0.2 | setosa     |\n",
       "| 84 | 6.0 | 2.7 | 5.1 | 1.6 | versicolor |\n",
       "| 16 | 5.7 | 4.4 | 1.5 | 0.4 | setosa     |\n",
       "| 34 | 5.5 | 4.2 | 1.4 | 0.2 | setosa     |\n",
       "| 49 | 5.3 | 3.7 | 1.5 | 0.2 | setosa     |\n",
       "| 2 | 4.9 | 3.0 | 1.4 | 0.2 | setosa     |\n",
       "| 48 | 4.6 | 3.2 | 1.4 | 0.2 | setosa     |\n",
       "| 107 | 4.9 | 2.5 | 4.5 | 1.7 | virginica  |\n",
       "| 42 | 4.5 | 2.3 | 1.3 | 0.3 | setosa     |\n",
       "| ⋮ | ⋮ | ⋮ | ⋮ | ⋮ | ⋮ |\n",
       "| 129 | 6.4 | 2.8 | 5.6 | 2.1 | virginica  |\n",
       "| 67 | 5.6 | 3.0 | 4.5 | 1.5 | versicolor |\n",
       "| 80 | 5.7 | 2.6 | 3.5 | 1.0 | versicolor |\n",
       "| 26 | 5.0 | 3.0 | 1.6 | 0.2 | setosa     |\n",
       "| 37 | 5.5 | 3.5 | 1.3 | 0.2 | setosa     |\n",
       "| 79 | 6.0 | 2.9 | 4.5 | 1.5 | versicolor |\n",
       "| 142 | 6.9 | 3.1 | 5.1 | 2.3 | virginica  |\n",
       "| 87 | 6.7 | 3.1 | 4.7 | 1.5 | versicolor |\n",
       "| 99 | 5.1 | 2.5 | 3.0 | 1.1 | versicolor |\n",
       "| 69 | 6.2 | 2.2 | 4.5 | 1.5 | versicolor |\n",
       "| 31 | 4.8 | 3.1 | 1.6 | 0.2 | setosa     |\n",
       "| 103 | 7.1 | 3.0 | 5.9 | 2.1 | virginica  |\n",
       "| 78 | 6.7 | 3.0 | 5.0 | 1.7 | versicolor |\n",
       "| 108 | 7.3 | 2.9 | 6.3 | 1.8 | virginica  |\n",
       "| 81 | 5.5 | 2.4 | 3.8 | 1.1 | versicolor |\n",
       "| 14 | 4.3 | 3.0 | 1.1 | 0.1 | setosa     |\n",
       "| 111 | 6.5 | 3.2 | 5.1 | 2.0 | virginica  |\n",
       "| 8 | 5.0 | 3.4 | 1.5 | 0.2 | setosa     |\n",
       "| 127 | 6.2 | 2.8 | 4.8 | 1.8 | virginica  |\n",
       "| 141 | 6.7 | 3.1 | 5.6 | 2.4 | virginica  |\n",
       "| 15 | 5.8 | 4.0 | 1.2 | 0.2 | setosa     |\n",
       "| 4 | 4.6 | 3.1 | 1.5 | 0.2 | setosa     |\n",
       "| 110 | 7.2 | 3.6 | 6.1 | 2.5 | virginica  |\n",
       "| 66 | 6.7 | 3.1 | 4.4 | 1.4 | versicolor |\n",
       "| 44 | 5.0 | 3.5 | 1.6 | 0.6 | setosa     |\n",
       "| 119 | 7.7 | 2.6 | 6.9 | 2.3 | virginica  |\n",
       "| 139 | 6.0 | 3.0 | 4.8 | 1.8 | virginica  |\n",
       "| 145 | 6.7 | 3.3 | 5.7 | 2.5 | virginica  |\n",
       "| 98 | 6.2 | 2.9 | 4.3 | 1.3 | versicolor |\n",
       "| 101 | 6.3 | 3.3 | 6.0 | 2.5 | virginica  |\n",
       "\n"
      ],
      "text/plain": [
       "    Sepal.Length Sepal.Width Petal.Length Petal.Width Species   \n",
       "40  5.1          3.4         1.5          0.2         setosa    \n",
       "56  5.7          2.8         4.5          1.3         versicolor\n",
       "85  5.4          3.0         4.5          1.5         versicolor\n",
       "134 6.3          2.8         5.1          1.5         virginica \n",
       "30  4.7          3.2         1.6          0.2         setosa    \n",
       "131 7.4          2.8         6.1          1.9         virginica \n",
       "137 6.3          3.4         5.6          2.4         virginica \n",
       "95  5.6          2.7         4.2          1.3         versicolor\n",
       "90  5.5          2.5         4.0          1.3         versicolor\n",
       "9   4.4          2.9         1.4          0.2         setosa    \n",
       "29  5.2          3.4         1.4          0.2         setosa    \n",
       "25  4.8          3.4         1.9          0.2         setosa    \n",
       "143 5.8          2.7         5.1          1.9         virginica \n",
       "53  6.9          3.1         4.9          1.5         versicolor\n",
       "105 6.5          3.0         5.8          2.2         virginica \n",
       "68  5.8          2.7         4.1          1.0         versicolor\n",
       "97  5.7          2.9         4.2          1.3         versicolor\n",
       "132 7.9          3.8         6.4          2.0         virginica \n",
       "51  7.0          3.2         4.7          1.4         versicolor\n",
       "102 5.8          2.7         5.1          1.9         virginica \n",
       "122 5.6          2.8         4.9          2.0         virginica \n",
       "28  5.2          3.5         1.5          0.2         setosa    \n",
       "84  6.0          2.7         5.1          1.6         versicolor\n",
       "16  5.7          4.4         1.5          0.4         setosa    \n",
       "34  5.5          4.2         1.4          0.2         setosa    \n",
       "49  5.3          3.7         1.5          0.2         setosa    \n",
       "2   4.9          3.0         1.4          0.2         setosa    \n",
       "48  4.6          3.2         1.4          0.2         setosa    \n",
       "107 4.9          2.5         4.5          1.7         virginica \n",
       "42  4.5          2.3         1.3          0.3         setosa    \n",
       "⋮   ⋮            ⋮           ⋮            ⋮           ⋮         \n",
       "129 6.4          2.8         5.6          2.1         virginica \n",
       "67  5.6          3.0         4.5          1.5         versicolor\n",
       "80  5.7          2.6         3.5          1.0         versicolor\n",
       "26  5.0          3.0         1.6          0.2         setosa    \n",
       "37  5.5          3.5         1.3          0.2         setosa    \n",
       "79  6.0          2.9         4.5          1.5         versicolor\n",
       "142 6.9          3.1         5.1          2.3         virginica \n",
       "87  6.7          3.1         4.7          1.5         versicolor\n",
       "99  5.1          2.5         3.0          1.1         versicolor\n",
       "69  6.2          2.2         4.5          1.5         versicolor\n",
       "31  4.8          3.1         1.6          0.2         setosa    \n",
       "103 7.1          3.0         5.9          2.1         virginica \n",
       "78  6.7          3.0         5.0          1.7         versicolor\n",
       "108 7.3          2.9         6.3          1.8         virginica \n",
       "81  5.5          2.4         3.8          1.1         versicolor\n",
       "14  4.3          3.0         1.1          0.1         setosa    \n",
       "111 6.5          3.2         5.1          2.0         virginica \n",
       "8   5.0          3.4         1.5          0.2         setosa    \n",
       "127 6.2          2.8         4.8          1.8         virginica \n",
       "141 6.7          3.1         5.6          2.4         virginica \n",
       "15  5.8          4.0         1.2          0.2         setosa    \n",
       "4   4.6          3.1         1.5          0.2         setosa    \n",
       "110 7.2          3.6         6.1          2.5         virginica \n",
       "66  6.7          3.1         4.4          1.4         versicolor\n",
       "44  5.0          3.5         1.6          0.6         setosa    \n",
       "119 7.7          2.6         6.9          2.3         virginica \n",
       "139 6.0          3.0         4.8          1.8         virginica \n",
       "145 6.7          3.3         5.7          2.5         virginica \n",
       "98  6.2          2.9         4.3          1.3         versicolor\n",
       "101 6.3          3.3         6.0          2.5         virginica "
      ]
     },
     "metadata": {},
     "output_type": "display_data"
    }
   ],
   "source": [
    "set.seed(1)\n",
    "train_ind <- sample(seq_len(nrow(iris)), size = 100)\n",
    "iris[train_ind,]"
   ]
  },
  {
   "cell_type": "markdown",
   "metadata": {},
   "source": [
    "This looks complicated, but it's not. We can take this piece by piece starting with the inner most part `seq_len(nrow(iris))`. All this is doing is creating a sequence of numbers from 1 to the number of rows in the iris data frame, 150. Then we call the `sample()` function and specify that we only want 100 numbers returned that are sampled randomly from the sequence we just created. We call this sequence of randomly sampled numbers `train_ind`, as we will use these to reference these indexes on the iris data frame, which we can then use as a training set of data. The `set_seed(1)` just makes the sample replicable.\n",
    "\n",
    "**Activity 1**: *Create a training data frame by using the `train_ind` sequence on the iris data frame. Call this frame `train`.*"
   ]
  },
  {
   "cell_type": "code",
   "execution_count": 4,
   "metadata": {},
   "outputs": [],
   "source": [
    "# Code for Activity 1 goes here\n",
    "# *****************************\n",
    "\n",
    "\n",
    "\n",
    "train <- iris[train_ind,]"
   ]
  },
  {
   "cell_type": "markdown",
   "metadata": {},
   "source": [
    "And now we need to make a testing frame from those indexes that are not in the `train_ind` sequence. In `R` we can do this with the following notation `dataframe[-sequence,]` where the `dataframe` is our data frame object we are working with, and `sequence` is the sequence of indexes. The \"`-`\" sign specifies that we don't want those indexes. \n",
    "\n",
    "**Activity 2**: *Create a testing data frame from the rest of the data not included in `train`. Call this data frame `test`.*"
   ]
  },
  {
   "cell_type": "code",
   "execution_count": 5,
   "metadata": {},
   "outputs": [],
   "source": [
    "# Code for Activity 2 goes here\n",
    "# *****************************\n",
    "\n",
    "\n",
    "test <- iris[-train_ind,]"
   ]
  },
  {
   "cell_type": "markdown",
   "metadata": {},
   "source": [
    "Now that we have both the training and testing sets defined, we can specify our formula. We will begin predicting Species by all of the features. Let's do that now."
   ]
  },
  {
   "cell_type": "code",
   "execution_count": 6,
   "metadata": {},
   "outputs": [],
   "source": [
    "# just in case defining these two data frames was giving you trouble...\n",
    "train <- iris[train_ind,]\n",
    "test <- iris[-train_ind,]"
   ]
  },
  {
   "cell_type": "code",
   "execution_count": 7,
   "metadata": {},
   "outputs": [],
   "source": [
    "frmla <- Species ~ Sepal.Length + Sepal.Width + Petal.Length + Petal.Width "
   ]
  },
  {
   "cell_type": "markdown",
   "metadata": {},
   "source": [
    "And now we can train our model on our training set using our formula to specify our target and inputs. We will call this model `m`. "
   ]
  },
  {
   "cell_type": "code",
   "execution_count": 8,
   "metadata": {},
   "outputs": [
    {
     "data": {
      "text/plain": [
       "\n",
       "Naive Bayes Classifier for Discrete Predictors\n",
       "\n",
       "Call:\n",
       "naiveBayes.default(x = X, y = Y, laplace = laplace)\n",
       "\n",
       "A-priori probabilities:\n",
       "Y\n",
       "    setosa versicolor  virginica \n",
       "      0.32       0.36       0.32 \n",
       "\n",
       "Conditional probabilities:\n",
       "            Sepal.Length\n",
       "Y                [,1]      [,2]\n",
       "  setosa     4.943750 0.3609463\n",
       "  versicolor 5.936111 0.5483236\n",
       "  virginica  6.600000 0.6801328\n",
       "\n",
       "            Sepal.Width\n",
       "Y                [,1]      [,2]\n",
       "  setosa     3.340625 0.3958326\n",
       "  versicolor 2.780556 0.3178674\n",
       "  virginica  3.000000 0.3131525\n",
       "\n",
       "            Petal.Length\n",
       "Y                [,1]      [,2]\n",
       "  setosa     1.450000 0.1524002\n",
       "  versicolor 4.277778 0.4864514\n",
       "  virginica  5.556250 0.5724523\n",
       "\n",
       "            Petal.Width\n",
       "Y                [,1]      [,2]\n",
       "  setosa     0.240625 0.1131923\n",
       "  versicolor 1.330556 0.2095157\n",
       "  virginica  2.081250 0.2570772\n"
      ]
     },
     "metadata": {},
     "output_type": "display_data"
    }
   ],
   "source": [
    "m <- naiveBayes(frmla, data = train)\n",
    "m\n"
   ]
  },
  {
   "cell_type": "markdown",
   "metadata": {},
   "source": [
    "Now we can use the predict function on our testing data to assess the performance of the model. But this time we are going to create a table that shows the number of points properly classified and misclassified.\n",
    "\n",
    "To do this, we can call the `predict()` function and specify the dataset we want it to predict. But be careful, the dataset that you test on must have the same variables as the input of the formula. It is that reason that the `test[,-5]` below removes the 5th column, the `Species` column. "
   ]
  },
  {
   "cell_type": "code",
   "execution_count": 9,
   "metadata": {},
   "outputs": [
    {
     "data": {
      "text/plain": [
       "            \n",
       "             setosa versicolor virginica\n",
       "  setosa         18          0         0\n",
       "  versicolor      0         14         2\n",
       "  virginica       0          0        16"
      ]
     },
     "metadata": {},
     "output_type": "display_data"
    }
   ],
   "source": [
    "table(predict(m, test[,-5]), test[,5])"
   ]
  },
  {
   "cell_type": "markdown",
   "metadata": {},
   "source": [
    "And there we have it only 2 points were misclassified! Not bad. \n",
    "\n",
    "But remember back to the Decision Tree lab notebook in `R` where it said it only used petal length, petal width, and sepal length in its model? This was the same thing that we found in the Decision Trees practice notebook. \n",
    "\n",
    "How would performance change if we took this variable out?\n",
    "\n",
    "**Activity 3**: *Prune the formula and take out the `Sepal.Width` variable. Call this new formula `prune_frmla`."
   ]
  },
  {
   "cell_type": "code",
   "execution_count": 10,
   "metadata": {},
   "outputs": [],
   "source": [
    "# Code for Activity 3 goes here\n",
    "# *****************************\n",
    "\n",
    "\n",
    "prune_frmla <- Species ~ Sepal.Length + Petal.Length + Petal.Width "
   ]
  },
  {
   "cell_type": "markdown",
   "metadata": {},
   "source": [
    "**Activity 4**: *Now create a new model using `prune_frmla` with the training data set. Call this new model m2.*"
   ]
  },
  {
   "cell_type": "code",
   "execution_count": 11,
   "metadata": {},
   "outputs": [
    {
     "data": {
      "text/plain": [
       "\n",
       "Naive Bayes Classifier for Discrete Predictors\n",
       "\n",
       "Call:\n",
       "naiveBayes.default(x = X, y = Y, laplace = laplace)\n",
       "\n",
       "A-priori probabilities:\n",
       "Y\n",
       "    setosa versicolor  virginica \n",
       "      0.32       0.36       0.32 \n",
       "\n",
       "Conditional probabilities:\n",
       "            Sepal.Length\n",
       "Y                [,1]      [,2]\n",
       "  setosa     4.943750 0.3609463\n",
       "  versicolor 5.936111 0.5483236\n",
       "  virginica  6.600000 0.6801328\n",
       "\n",
       "            Petal.Length\n",
       "Y                [,1]      [,2]\n",
       "  setosa     1.450000 0.1524002\n",
       "  versicolor 4.277778 0.4864514\n",
       "  virginica  5.556250 0.5724523\n",
       "\n",
       "            Petal.Width\n",
       "Y                [,1]      [,2]\n",
       "  setosa     0.240625 0.1131923\n",
       "  versicolor 1.330556 0.2095157\n",
       "  virginica  2.081250 0.2570772\n"
      ]
     },
     "metadata": {},
     "output_type": "display_data"
    }
   ],
   "source": [
    "# Code for Activity 4 goes here\n",
    "# *****************************\n",
    "\n",
    "m2 <- naiveBayes(prune_frmla, data = train)\n",
    "m2"
   ]
  },
  {
   "cell_type": "markdown",
   "metadata": {},
   "source": [
    "Is `m2` a better, worse, or about the same given our testing data set?\n",
    "\n",
    "**Activity 5**: *Find the number of misclassified points using the `m2` model and the testing data set. Remember, when predicting on the testing data, remember that you will have to remove both the target variable and the `Sepal.Width` variable.*"
   ]
  },
  {
   "cell_type": "code",
   "execution_count": 12,
   "metadata": {},
   "outputs": [
    {
     "data": {
      "text/plain": [
       "            \n",
       "             setosa versicolor virginica\n",
       "  setosa         18          0         0\n",
       "  versicolor      0         14         2\n",
       "  virginica       0          0        16"
      ]
     },
     "metadata": {},
     "output_type": "display_data"
    }
   ],
   "source": [
    "# Code for Activity 5 goes here\n",
    "# *****************************\n",
    "\n",
    "table(predict(m2, test[,-c(2,5)]), test[,5])"
   ]
  },
  {
   "cell_type": "markdown",
   "metadata": {},
   "source": [
    "# Save your noteboot, then `File > Close and Halt`"
   ]
  }
 ],
 "metadata": {
  "kernelspec": {
   "display_name": "R",
   "language": "R",
   "name": "ir"
  },
  "language_info": {
   "codemirror_mode": "r",
   "file_extension": ".r",
   "mimetype": "text/x-r-source",
   "name": "R",
   "pygments_lexer": "r",
   "version": "3.5.1"
  }
 },
 "nbformat": 4,
 "nbformat_minor": 1
}
