{
 "cells": [
  {
   "cell_type": "markdown",
   "metadata": {},
   "source": [
    "# Practicing Descriptive Statistics with `NumPy` and `pandas`\n",
    "\n",
    "Much like the theme of the `R` practice notebook, data exploration isn't complete with out manipulating the data. Splitting the data across categories and discovering the underlying features of the categories could lead to better, more powerful insights. \n",
    "\n",
    "In this practice, we will be working with the data manipulation capabilities of `pandas` and the statistical functionality that `Numpy` provides to further investigate the *Game of Thrones* data."
   ]
  },
  {
   "cell_type": "code",
   "execution_count": 1,
   "metadata": {},
   "outputs": [],
   "source": [
    "import pandas as pd\n",
    "import numpy as np\n",
    "\n",
    "with open('/dsa/data/all_datasets/game-of-thrones/GoT_age_at_death.csv') as file:\n",
    "    df = pd.read_csv(file)\n",
    "    df.columns  = ['character', 'age', 'dead', 'gender', 'affiliation'] # rename the columns\n",
    "    \n",
    "    # turn age, gender, and affiliation into categorical data\n",
    "    df['dead'] = df['dead'].astype('category') \n",
    "    df['gender'] = df['gender'].astype('category')\n",
    "    df['affiliation'] = df['affiliation'].astype('category')"
   ]
  },
  {
   "cell_type": "code",
   "execution_count": 2,
   "metadata": {},
   "outputs": [
    {
     "data": {
      "text/html": [
       "<div>\n",
       "<style scoped>\n",
       "    .dataframe tbody tr th:only-of-type {\n",
       "        vertical-align: middle;\n",
       "    }\n",
       "\n",
       "    .dataframe tbody tr th {\n",
       "        vertical-align: top;\n",
       "    }\n",
       "\n",
       "    .dataframe thead th {\n",
       "        text-align: right;\n",
       "    }\n",
       "</style>\n",
       "<table border=\"1\" class=\"dataframe\">\n",
       "  <thead>\n",
       "    <tr style=\"text-align: right;\">\n",
       "      <th></th>\n",
       "      <th>character</th>\n",
       "      <th>age</th>\n",
       "      <th>dead</th>\n",
       "      <th>gender</th>\n",
       "      <th>affiliation</th>\n",
       "    </tr>\n",
       "  </thead>\n",
       "  <tbody>\n",
       "    <tr>\n",
       "      <th>0</th>\n",
       "      <td>Sandor Clegan</td>\n",
       "      <td>29</td>\n",
       "      <td>1</td>\n",
       "      <td>1</td>\n",
       "      <td>4</td>\n",
       "    </tr>\n",
       "    <tr>\n",
       "      <th>1</th>\n",
       "      <td>Benjen Stark</td>\n",
       "      <td>35</td>\n",
       "      <td>1</td>\n",
       "      <td>1</td>\n",
       "      <td>10</td>\n",
       "    </tr>\n",
       "    <tr>\n",
       "      <th>2</th>\n",
       "      <td>Syrio Forel</td>\n",
       "      <td>41</td>\n",
       "      <td>1</td>\n",
       "      <td>1</td>\n",
       "      <td>1</td>\n",
       "    </tr>\n",
       "    <tr>\n",
       "      <th>3</th>\n",
       "      <td>Tysha</td>\n",
       "      <td>29</td>\n",
       "      <td>0</td>\n",
       "      <td>0</td>\n",
       "      <td>4</td>\n",
       "    </tr>\n",
       "    <tr>\n",
       "      <th>4</th>\n",
       "      <td>Jeyne Pool</td>\n",
       "      <td>12</td>\n",
       "      <td>1</td>\n",
       "      <td>0</td>\n",
       "      <td>1</td>\n",
       "    </tr>\n",
       "    <tr>\n",
       "      <th>5</th>\n",
       "      <td>Imry Florent</td>\n",
       "      <td>35</td>\n",
       "      <td>1</td>\n",
       "      <td>1</td>\n",
       "      <td>2</td>\n",
       "    </tr>\n",
       "    <tr>\n",
       "      <th>6</th>\n",
       "      <td>Sorcerer in the Box</td>\n",
       "      <td>60</td>\n",
       "      <td>1</td>\n",
       "      <td>1</td>\n",
       "      <td>0</td>\n",
       "    </tr>\n",
       "  </tbody>\n",
       "</table>\n",
       "</div>"
      ],
      "text/plain": [
       "             character  age dead gender affiliation\n",
       "0        Sandor Clegan   29    1      1           4\n",
       "1         Benjen Stark   35    1      1          10\n",
       "2          Syrio Forel   41    1      1           1\n",
       "3                Tysha   29    0      0           4\n",
       "4           Jeyne Pool   12    1      0           1\n",
       "5         Imry Florent   35    1      1           2\n",
       "6  Sorcerer in the Box   60    1      1           0"
      ]
     },
     "execution_count": 2,
     "metadata": {},
     "output_type": "execute_result"
    }
   ],
   "source": [
    "df.head(7)"
   ]
  },
  {
   "cell_type": "markdown",
   "metadata": {},
   "source": [
    "Suppose we are now interested in knowning the mean age of the characters by gender. This could be done by subsetting the dataframe by gender and then calculating the mean for each. However there is a function within `pandas` that can do this for us `groupby`. `group_by` is great for beginning to explore data. `groupby` lets us split, apply a function, and combine the results. See [here](https://pandas.pydata.org/pandas-docs/stable/reference/api/pandas.DataFrame.groupby.html) for more information\n",
    "\n",
    "So if we are interested in the mean age by gender of the characters we would use the code below that produces a data frame by `gender` (so 0 and 1) and produce the `mean` age for both."
   ]
  },
  {
   "cell_type": "code",
   "execution_count": 3,
   "metadata": {},
   "outputs": [
    {
     "data": {
      "text/plain": [
       "gender\n",
       "0    29.467391\n",
       "1    37.635379\n",
       "Name: age, dtype: float64"
      ]
     },
     "execution_count": 3,
     "metadata": {},
     "output_type": "execute_result"
    }
   ],
   "source": [
    "df.groupby(['gender'])['age'].mean()"
   ]
  },
  {
   "cell_type": "markdown",
   "metadata": {},
   "source": [
    "We could go even more fine-grained than this. \n",
    "\n",
    "**Activity 1**: *Find the mean age per `gender` and per `affiliation`.*"
   ]
  },
  {
   "cell_type": "code",
   "execution_count": 4,
   "metadata": {},
   "outputs": [
    {
     "data": {
      "text/plain": [
       "gender  affiliation\n",
       "0       0              29.000000\n",
       "        1              33.000000\n",
       "        2              25.300000\n",
       "        3              31.750000\n",
       "        4              28.714286\n",
       "        5              24.166667\n",
       "        6              20.600000\n",
       "        8                    NaN\n",
       "        9              19.000000\n",
       "        10                   NaN\n",
       "        11                   NaN\n",
       "        12             30.333333\n",
       "        13             75.000000\n",
       "        14             30.666667\n",
       "        15             68.000000\n",
       "        16             35.666667\n",
       "1       0              33.375000\n",
       "        1              35.588235\n",
       "        2              35.437500\n",
       "        3              38.279070\n",
       "        4              41.645161\n",
       "        5              31.166667\n",
       "        6              40.933333\n",
       "        8              59.000000\n",
       "        9              30.500000\n",
       "        10             35.939394\n",
       "        11             36.666667\n",
       "        12             36.222222\n",
       "        13             44.894737\n",
       "        14             33.142857\n",
       "        15             44.777778\n",
       "        16             33.857143\n",
       "Name: age, dtype: float64"
      ]
     },
     "execution_count": 4,
     "metadata": {},
     "output_type": "execute_result"
    }
   ],
   "source": [
    "# Activity 1 code goes here\n",
    "# -------------------------\n",
    "\n",
    "df.groupby(['gender','affiliation'])['age'].mean()\n",
    "\n"
   ]
  },
  {
   "cell_type": "markdown",
   "metadata": {},
   "source": [
    "In the [Intro to Data Science with Python](../labs/intro_data_science_python.ipynb) lab, we learned how to subset data. We now want to look at only characters that are still alive. \n",
    "\n",
    "**Activity 2**: *Create a subset from the data frame of only those who are living. Call this subset `alive_chars`.*"
   ]
  },
  {
   "cell_type": "code",
   "execution_count": 5,
   "metadata": {},
   "outputs": [],
   "source": [
    "# Activity 2 code goes here\n",
    "# -------------------------\n",
    "\n",
    "alive_chars = df[df['dead']==0]\n",
    "\n"
   ]
  },
  {
   "cell_type": "markdown",
   "metadata": {},
   "source": [
    "Remember in the lab, we used `NumPy` to find the mean age of the entire dataset, the syntax for which is below. "
   ]
  },
  {
   "cell_type": "code",
   "execution_count": 6,
   "metadata": {},
   "outputs": [
    {
     "data": {
      "text/plain": [
       "35.59891598915989"
      ]
     },
     "execution_count": 6,
     "metadata": {},
     "output_type": "execute_result"
    }
   ],
   "source": [
    "np.mean(df.age)"
   ]
  },
  {
   "cell_type": "markdown",
   "metadata": {},
   "source": [
    "**Activity 3**: *Find the mean age of those who are alive.*"
   ]
  },
  {
   "cell_type": "code",
   "execution_count": 7,
   "metadata": {},
   "outputs": [
    {
     "data": {
      "text/plain": [
       "33.00568181818182"
      ]
     },
     "execution_count": 7,
     "metadata": {},
     "output_type": "execute_result"
    }
   ],
   "source": [
    "# Activity 3 code goes here\n",
    "# -------------------------\n",
    "\n",
    "\n",
    "np.mean(alive_chars.age)"
   ]
  },
  {
   "cell_type": "markdown",
   "metadata": {},
   "source": [
    "Below is one of the ways that we found the standard deviation."
   ]
  },
  {
   "cell_type": "code",
   "execution_count": 8,
   "metadata": {},
   "outputs": [
    {
     "data": {
      "text/plain": [
       "18.99184246263994"
      ]
     },
     "execution_count": 8,
     "metadata": {},
     "output_type": "execute_result"
    }
   ],
   "source": [
    "np.std(df.age)"
   ]
  },
  {
   "cell_type": "markdown",
   "metadata": {},
   "source": [
    "But remember, without any extra arguments passed in method, we get the population standard deviation. What we want is the sample standard deviation.\n",
    "\n",
    "**Activity 4**: *Find the sample standard deviation for those character ages for those who are still alive*"
   ]
  },
  {
   "cell_type": "code",
   "execution_count": 9,
   "metadata": {},
   "outputs": [
    {
     "data": {
      "text/plain": [
       "17.829829631135702"
      ]
     },
     "execution_count": 9,
     "metadata": {},
     "output_type": "execute_result"
    }
   ],
   "source": [
    "# Activity 4 code goes here\n",
    "# -------------------------\n",
    "\n",
    "np.std(alive_chars.age, ddof = 1)\n"
   ]
  },
  {
   "cell_type": "markdown",
   "metadata": {},
   "source": [
    "In the practice we introduced the mean, median, and quartiles. To take this one step farther we want to look at the symmetry of a distribution. When the mean is greater than the median, it means that the data is skewed to the right, and when the median is greater than the mean, the data is skewed to the left. When the mean and median are the same, it means that the data are symmetrical. In other words, in a right skewed distribution, most of the data points are below the mean, but there are some high value points pulling the mean higher; the opposite is true for a left skew.\n",
    "\n",
    "<img src=\"../images/distr_sym.gif\" style=\"width: 750px;\"/>\n",
    "\n",
    "Below is an example of how we found the median before."
   ]
  },
  {
   "cell_type": "code",
   "execution_count": 10,
   "metadata": {},
   "outputs": [
    {
     "data": {
      "text/plain": [
       "35.0"
      ]
     },
     "execution_count": 10,
     "metadata": {},
     "output_type": "execute_result"
    }
   ],
   "source": [
    "np.median(df.age)"
   ]
  },
  {
   "cell_type": "markdown",
   "metadata": {},
   "source": [
    "**Activity 5**: *Is the distribution of the age of those who are alive skewed to the right, the left, or symmetrical and what does this tell us?*"
   ]
  },
  {
   "cell_type": "code",
   "execution_count": 11,
   "metadata": {},
   "outputs": [
    {
     "name": "stdout",
     "output_type": "stream",
     "text": [
      "32.0\n",
      "33.00568181818182\n"
     ]
    }
   ],
   "source": [
    "# Activity 5 code goes here\n",
    "# -------------------------\n",
    "\n",
    "\n",
    "median = np.median(alive_chars.age)\n",
    "xbar = np.mean(alive_chars.age)\n",
    "\n",
    "\n",
    "print(median)\n",
    "print(xbar)\n",
    "\n",
    "#right skewed, the more people alive are younger than the mean."
   ]
  },
  {
   "cell_type": "markdown",
   "metadata": {},
   "source": [
    "`NumPy` also gives us the functionality to see what value a certain percentage of the rows fall under by calling the `percentile` method. We did this to find the 65th percentile of ages of the entire data fame by doing the following..."
   ]
  },
  {
   "cell_type": "code",
   "execution_count": 12,
   "metadata": {},
   "outputs": [
    {
     "data": {
      "text/plain": [
       "41.0"
      ]
     },
     "execution_count": 12,
     "metadata": {},
     "output_type": "execute_result"
    }
   ],
   "source": [
    "np.percentile(df.age, 65)"
   ]
  },
  {
   "cell_type": "markdown",
   "metadata": {},
   "source": [
    "Now, remember we discussed the Quartile Range in the lab notebook.\n",
    "\n",
    "**Activity 6**: *Find the the Quartile Range of the `alive_chars` age variable.*"
   ]
  },
  {
   "cell_type": "code",
   "execution_count": 13,
   "metadata": {},
   "outputs": [
    {
     "data": {
      "text/plain": [
       "count    176.000000\n",
       "mean      33.005682\n",
       "std       17.829830\n",
       "min        1.000000\n",
       "25%       18.000000\n",
       "50%       32.000000\n",
       "75%       44.250000\n",
       "max       92.000000\n",
       "Name: age, dtype: float64"
      ]
     },
     "execution_count": 13,
     "metadata": {},
     "output_type": "execute_result"
    }
   ],
   "source": [
    "# Activity 6 code goes here\n",
    "# -------------------------\n",
    "\n",
    "alive_chars.age.describe()\n",
    "#q1 = np.percentile(alive_chars.age, 25)\n",
    "#q3 = np.percentile(alive_chars.age,75)\n",
    "\n",
    "#print(q3-q1)"
   ]
  },
  {
   "cell_type": "markdown",
   "metadata": {},
   "source": [
    "## Bivariate Analysis\n",
    "\n",
    "Now we are going to switch back over to the *Stature Hand and Foot* data frame, and practice some bivariate analysis on some variables."
   ]
  },
  {
   "cell_type": "code",
   "execution_count": 14,
   "metadata": {},
   "outputs": [
    {
     "ename": "FileNotFoundError",
     "evalue": "[Errno 2] No such file or directory: '../../../datasets/stature-hand-foot/stature-hand-foot.csv'",
     "output_type": "error",
     "traceback": [
      "\u001b[0;31m---------------------------------------------------------------------------\u001b[0m",
      "\u001b[0;31mFileNotFoundError\u001b[0m                         Traceback (most recent call last)",
      "\u001b[0;32m<ipython-input-14-1f30403315f6>\u001b[0m in \u001b[0;36m<module>\u001b[0;34m\u001b[0m\n\u001b[0;32m----> 1\u001b[0;31m \u001b[0;32mwith\u001b[0m \u001b[0mopen\u001b[0m\u001b[0;34m(\u001b[0m\u001b[0;34m'../../../datasets/stature-hand-foot/stature-hand-foot.csv'\u001b[0m\u001b[0;34m)\u001b[0m \u001b[0;32mas\u001b[0m \u001b[0mfile2\u001b[0m\u001b[0;34m:\u001b[0m\u001b[0;34m\u001b[0m\u001b[0;34m\u001b[0m\u001b[0m\n\u001b[0m\u001b[1;32m      2\u001b[0m     \u001b[0mdf2\u001b[0m \u001b[0;34m=\u001b[0m \u001b[0mpd\u001b[0m\u001b[0;34m.\u001b[0m\u001b[0mread_csv\u001b[0m\u001b[0;34m(\u001b[0m\u001b[0mfile2\u001b[0m\u001b[0;34m)\u001b[0m\u001b[0;34m\u001b[0m\u001b[0;34m\u001b[0m\u001b[0m\n\u001b[1;32m      3\u001b[0m     \u001b[0mdf2\u001b[0m\u001b[0;34m[\u001b[0m\u001b[0;34m'gender'\u001b[0m\u001b[0;34m]\u001b[0m \u001b[0;34m=\u001b[0m \u001b[0mdf2\u001b[0m\u001b[0;34m[\u001b[0m\u001b[0;34m'gender'\u001b[0m\u001b[0;34m]\u001b[0m\u001b[0;34m.\u001b[0m\u001b[0mastype\u001b[0m\u001b[0;34m(\u001b[0m\u001b[0;34m'category'\u001b[0m\u001b[0;34m)\u001b[0m\u001b[0;34m\u001b[0m\u001b[0;34m\u001b[0m\u001b[0m\n\u001b[1;32m      4\u001b[0m     \u001b[0mdf2\u001b[0m\u001b[0;34m.\u001b[0m\u001b[0mcolumns\u001b[0m \u001b[0;34m=\u001b[0m \u001b[0;34m[\u001b[0m\u001b[0;34m'gender'\u001b[0m\u001b[0;34m,\u001b[0m \u001b[0;34m'height'\u001b[0m\u001b[0;34m,\u001b[0m \u001b[0;34m'hand_length'\u001b[0m\u001b[0;34m,\u001b[0m \u001b[0;34m'foot_length'\u001b[0m\u001b[0;34m]\u001b[0m\u001b[0;34m\u001b[0m\u001b[0;34m\u001b[0m\u001b[0m\n",
      "\u001b[0;31mFileNotFoundError\u001b[0m: [Errno 2] No such file or directory: '../../../datasets/stature-hand-foot/stature-hand-foot.csv'"
     ]
    }
   ],
   "source": [
    "with open('../../../datasets/stature-hand-foot/stature-hand-foot.csv') as file2:\n",
    "    df2 = pd.read_csv(file2)\n",
    "    df2['gender'] = df2['gender'].astype('category')\n",
    "    df2.columns = ['gender', 'height', 'hand_length', 'foot_length']"
   ]
  },
  {
   "cell_type": "markdown",
   "metadata": {},
   "source": [
    "First, we should actually split the data based on male and female. \n",
    "\n",
    "**Activity 7**: *Create two subsets of the data, one for females and the other for males. Name the two subsets `female` and `male` respectively.*"
   ]
  },
  {
   "cell_type": "code",
   "execution_count": null,
   "metadata": {},
   "outputs": [],
   "source": [
    "# Activity 7 code goes here\n",
    "# -------------------------\n",
    "\n",
    "female = df2[df2['gender']==2] \n",
    "male = df2[df2['gender']==1]\n"
   ]
  },
  {
   "cell_type": "markdown",
   "metadata": {},
   "source": [
    "You will recall that we conducted covariance and correlation calculations on two varibles. However we can also create a correlation and covariance matrix. This is a good way to quickly spot some linear relationships between variables. Below is an example of how to create a correlation matrix on the entire data frame."
   ]
  },
  {
   "cell_type": "code",
   "execution_count": null,
   "metadata": {},
   "outputs": [],
   "source": [
    "df2.corr()"
   ]
  },
  {
   "cell_type": "markdown",
   "metadata": {},
   "source": [
    "Simple enough. And in `pandas` it knows to ignore the non-quantitative columns. \n",
    "\n",
    "**Activity 8**: *Create a covariance and correlation matrix for both the males and females of this dataset.*"
   ]
  },
  {
   "cell_type": "code",
   "execution_count": null,
   "metadata": {},
   "outputs": [],
   "source": [
    "# Activity 8 code goes here\n",
    "# -------------------------\n",
    "print(\"FEMALE CORR \\n {} \\n\".format(female.corr()))\n",
    "print(\"MALE CORR \\n {} \\n\".format(male.corr()))\n",
    "print(\"FEMALE COV \\n {} \\n\".format(female.cov()))\n",
    "print(\"MALE COV \\n {} \\n\".format(male.cov()))"
   ]
  },
  {
   "cell_type": "markdown",
   "metadata": {},
   "source": [
    "# Save your notebook, then `File > Close and Halt`"
   ]
  }
 ],
 "metadata": {
  "anaconda-cloud": {},
  "kernelspec": {
   "display_name": "Python 3",
   "language": "python",
   "name": "python3"
  },
  "language_info": {
   "codemirror_mode": {
    "name": "ipython",
    "version": 3
   },
   "file_extension": ".py",
   "mimetype": "text/x-python",
   "name": "python",
   "nbconvert_exporter": "python",
   "pygments_lexer": "ipython3",
   "version": "3.7.3"
  }
 },
 "nbformat": 4,
 "nbformat_minor": 2
}
