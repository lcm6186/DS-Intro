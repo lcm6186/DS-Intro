{
 "cells": [
  {
   "cell_type": "markdown",
   "metadata": {},
   "source": [
    "# Descriptive Statistics with `Python` Exercises\n",
    "\n",
    "This is the second exercise for this course. \n",
    "Like the prior exercise, all of the concepts in the exercise will be familiar in the sense that it will mirror the concepts that we learned throughout the labs and practices. \n",
    "\n",
    "There could be multiple ways to solve a single answer, some more elegant than others. \n",
    "Revisit older notebooks for guidance, ask questions along the way, \n",
    "and **we encourage you to search the internet**. \n",
    "Chances are that someone has had the same/similar question / error to the one you have.\n",
    "\n",
    "For this exercise, we will be working with the `NationalNames3.csv`. Again, this is in the `/dsa/data/all_datasets/baby-names/` directory."
   ]
  },
  {
   "cell_type": "code",
   "execution_count": 1,
   "metadata": {},
   "outputs": [],
   "source": [
    "# Adding a cell above to import packages as needed\n",
    "\n",
    "import pandas as pd\n",
    "import numpy as np"
   ]
  },
  {
   "cell_type": "markdown",
   "metadata": {},
   "source": [
    "**Exercise 1**: *Read in the `NationalNames3.csv` file and name it `df`.*"
   ]
  },
  {
   "cell_type": "code",
   "execution_count": 2,
   "metadata": {},
   "outputs": [
    {
     "data": {
      "text/html": [
       "<div>\n",
       "<style scoped>\n",
       "    .dataframe tbody tr th:only-of-type {\n",
       "        vertical-align: middle;\n",
       "    }\n",
       "\n",
       "    .dataframe tbody tr th {\n",
       "        vertical-align: top;\n",
       "    }\n",
       "\n",
       "    .dataframe thead th {\n",
       "        text-align: right;\n",
       "    }\n",
       "</style>\n",
       "<table border=\"1\" class=\"dataframe\">\n",
       "  <thead>\n",
       "    <tr style=\"text-align: right;\">\n",
       "      <th></th>\n",
       "      <th>Id</th>\n",
       "      <th>Name</th>\n",
       "      <th>Year</th>\n",
       "      <th>Gender</th>\n",
       "      <th>Count</th>\n",
       "    </tr>\n",
       "  </thead>\n",
       "  <tbody>\n",
       "    <tr>\n",
       "      <th>0</th>\n",
       "      <td>1</td>\n",
       "      <td>Mary</td>\n",
       "      <td>1880</td>\n",
       "      <td>F</td>\n",
       "      <td>7065</td>\n",
       "    </tr>\n",
       "    <tr>\n",
       "      <th>1</th>\n",
       "      <td>5</td>\n",
       "      <td>Minnie</td>\n",
       "      <td>1880</td>\n",
       "      <td>F</td>\n",
       "      <td>1746</td>\n",
       "    </tr>\n",
       "    <tr>\n",
       "      <th>2</th>\n",
       "      <td>7</td>\n",
       "      <td>Ida</td>\n",
       "      <td>1880</td>\n",
       "      <td>F</td>\n",
       "      <td>1472</td>\n",
       "    </tr>\n",
       "    <tr>\n",
       "      <th>3</th>\n",
       "      <td>9</td>\n",
       "      <td>Bertha</td>\n",
       "      <td>1880</td>\n",
       "      <td>F</td>\n",
       "      <td>1320</td>\n",
       "    </tr>\n",
       "    <tr>\n",
       "      <th>4</th>\n",
       "      <td>15</td>\n",
       "      <td>Cora</td>\n",
       "      <td>1880</td>\n",
       "      <td>F</td>\n",
       "      <td>1045</td>\n",
       "    </tr>\n",
       "    <tr>\n",
       "      <th>5</th>\n",
       "      <td>16</td>\n",
       "      <td>Martha</td>\n",
       "      <td>1880</td>\n",
       "      <td>F</td>\n",
       "      <td>1040</td>\n",
       "    </tr>\n",
       "    <tr>\n",
       "      <th>6</th>\n",
       "      <td>17</td>\n",
       "      <td>Laura</td>\n",
       "      <td>1880</td>\n",
       "      <td>F</td>\n",
       "      <td>1012</td>\n",
       "    </tr>\n",
       "    <tr>\n",
       "      <th>7</th>\n",
       "      <td>19</td>\n",
       "      <td>Grace</td>\n",
       "      <td>1880</td>\n",
       "      <td>F</td>\n",
       "      <td>982</td>\n",
       "    </tr>\n",
       "    <tr>\n",
       "      <th>8</th>\n",
       "      <td>20</td>\n",
       "      <td>Carrie</td>\n",
       "      <td>1880</td>\n",
       "      <td>F</td>\n",
       "      <td>949</td>\n",
       "    </tr>\n",
       "    <tr>\n",
       "      <th>9</th>\n",
       "      <td>27</td>\n",
       "      <td>Hattie</td>\n",
       "      <td>1880</td>\n",
       "      <td>F</td>\n",
       "      <td>769</td>\n",
       "    </tr>\n",
       "  </tbody>\n",
       "</table>\n",
       "</div>"
      ],
      "text/plain": [
       "   Id    Name  Year Gender  Count\n",
       "0   1    Mary  1880      F   7065\n",
       "1   5  Minnie  1880      F   1746\n",
       "2   7     Ida  1880      F   1472\n",
       "3   9  Bertha  1880      F   1320\n",
       "4  15    Cora  1880      F   1045\n",
       "5  16  Martha  1880      F   1040\n",
       "6  17   Laura  1880      F   1012\n",
       "7  19   Grace  1880      F    982\n",
       "8  20  Carrie  1880      F    949\n",
       "9  27  Hattie  1880      F    769"
      ]
     },
     "execution_count": 2,
     "metadata": {},
     "output_type": "execute_result"
    }
   ],
   "source": [
    "# Exercise 1 code goes here\n",
    "# -------------------------\n",
    "\n",
    "with open('/dsa/data/all_datasets/baby-names/NationalNames3.csv', 'r') as file:\n",
    "    df = pd.read_csv(file)\n",
    "    \n",
    "# print head(10) to sample data and ensure import\n",
    "\n",
    "df.head(10)\n"
   ]
  },
  {
   "cell_type": "markdown",
   "metadata": {},
   "source": [
    "We will start out simple.\n",
    "\n",
    "**Exercise 2**: Find the mean of the `Count` column and how spread out is the data?"
   ]
  },
  {
   "cell_type": "code",
   "execution_count": 6,
   "metadata": {},
   "outputs": [
    {
     "name": "stdout",
     "output_type": "stream",
     "text": [
      "Below are some stats on the 'Count' column of the data frame\n",
      "\n",
      "Count Mean \t\t 181.71348937247797\n",
      "Standard Dev \t\t 1535.8103590811502\n",
      "Count Min \t\t 5\n",
      "Count Max \t\t 96205\n"
     ]
    }
   ],
   "source": [
    "# Exercise 2 code goes here\n",
    "# -------------------------\n",
    "\n",
    "# Find mean and standard deviation\n",
    "\n",
    "\n",
    "mean_count = df['Count'].mean()\n",
    "std_dev_count = df['Count'].std()\n",
    "min_count = df['Count'].min()\n",
    "max_count = df['Count'].max()\n",
    "\n",
    "print(\"Below are some stats on the 'Count' column of the data frame\\n\")\n",
    "\n",
    "print(\"Count Mean \\t\\t {}\".format(mean_count))\n",
    "print(\"Standard Dev \\t\\t {}\".format(std_dev_count))\n",
    "print(\"Count Min \\t\\t {}\".format(min_count))\n",
    "print(\"Count Max \\t\\t {}\".format(max_count))\n"
   ]
  },
  {
   "cell_type": "markdown",
   "metadata": {},
   "source": [
    "**Exercise 3:** Find the minimum, first quartile, median, third quartile and max count of the name \"Sam\" in this dataset."
   ]
  },
  {
   "cell_type": "code",
   "execution_count": 7,
   "metadata": {},
   "outputs": [
    {
     "data": {
      "text/html": [
       "<div>\n",
       "<style scoped>\n",
       "    .dataframe tbody tr th:only-of-type {\n",
       "        vertical-align: middle;\n",
       "    }\n",
       "\n",
       "    .dataframe tbody tr th {\n",
       "        vertical-align: top;\n",
       "    }\n",
       "\n",
       "    .dataframe thead th {\n",
       "        text-align: right;\n",
       "    }\n",
       "</style>\n",
       "<table border=\"1\" class=\"dataframe\">\n",
       "  <thead>\n",
       "    <tr style=\"text-align: right;\">\n",
       "      <th></th>\n",
       "      <th>Id</th>\n",
       "      <th>Year</th>\n",
       "      <th>Count</th>\n",
       "    </tr>\n",
       "  </thead>\n",
       "  <tbody>\n",
       "    <tr>\n",
       "      <th>count</th>\n",
       "      <td>8.600000e+01</td>\n",
       "      <td>86.000000</td>\n",
       "      <td>86.000000</td>\n",
       "    </tr>\n",
       "    <tr>\n",
       "      <th>mean</th>\n",
       "      <td>4.756664e+05</td>\n",
       "      <td>1942.837209</td>\n",
       "      <td>608.581395</td>\n",
       "    </tr>\n",
       "    <tr>\n",
       "      <th>std</th>\n",
       "      <td>4.163065e+05</td>\n",
       "      <td>32.879409</td>\n",
       "      <td>661.426755</td>\n",
       "    </tr>\n",
       "    <tr>\n",
       "      <th>min</th>\n",
       "      <td>9.351000e+03</td>\n",
       "      <td>1884.000000</td>\n",
       "      <td>5.000000</td>\n",
       "    </tr>\n",
       "    <tr>\n",
       "      <th>25%</th>\n",
       "      <td>1.663595e+05</td>\n",
       "      <td>1919.250000</td>\n",
       "      <td>16.250000</td>\n",
       "    </tr>\n",
       "    <tr>\n",
       "      <th>50%</th>\n",
       "      <td>3.882005e+05</td>\n",
       "      <td>1942.000000</td>\n",
       "      <td>482.000000</td>\n",
       "    </tr>\n",
       "    <tr>\n",
       "      <th>75%</th>\n",
       "      <td>6.320052e+05</td>\n",
       "      <td>1964.250000</td>\n",
       "      <td>1071.000000</td>\n",
       "    </tr>\n",
       "    <tr>\n",
       "      <th>max</th>\n",
       "      <td>1.778931e+06</td>\n",
       "      <td>2013.000000</td>\n",
       "      <td>2505.000000</td>\n",
       "    </tr>\n",
       "  </tbody>\n",
       "</table>\n",
       "</div>"
      ],
      "text/plain": [
       "                 Id         Year        Count\n",
       "count  8.600000e+01    86.000000    86.000000\n",
       "mean   4.756664e+05  1942.837209   608.581395\n",
       "std    4.163065e+05    32.879409   661.426755\n",
       "min    9.351000e+03  1884.000000     5.000000\n",
       "25%    1.663595e+05  1919.250000    16.250000\n",
       "50%    3.882005e+05  1942.000000   482.000000\n",
       "75%    6.320052e+05  1964.250000  1071.000000\n",
       "max    1.778931e+06  2013.000000  2505.000000"
      ]
     },
     "execution_count": 7,
     "metadata": {},
     "output_type": "execute_result"
    }
   ],
   "source": [
    "# Exercise 3 code goes here\n",
    "# -------------------------\n",
    "\n",
    "# Using the .describe method\n",
    "df[df['Name'] == 'Sam'].describe()\n"
   ]
  },
  {
   "cell_type": "code",
   "execution_count": 12,
   "metadata": {},
   "outputs": [
    {
     "name": "stdout",
     "output_type": "stream",
     "text": [
      "Min count of Sam \t\t 5.0\n",
      "First Quart count of Sam \t 16.25\n",
      "Median count of Sam \t\t 482.0\n",
      "Third Quart count of Sam \t 1071.0\n",
      "Max count of Sam \t\t 2505\n"
     ]
    }
   ],
   "source": [
    "# Similar to above, but now using the percentile method to hard code the quartile, etc.\n",
    "# Check that values are similar but note above we used pd and below we use np\n",
    "\n",
    "# Creating a subset of Sam\n",
    "sam = df[df['Name'] == 'Sam']\n",
    "\n",
    "min_sam = np.quantile(a=sam['Count'], q=0.0)\n",
    "first_quartile = np.quantile(a=sam['Count'], q=0.25)\n",
    "median_sam = np.quantile(a=sam['Count'], q=0.5)\n",
    "third_quartile = np.quantile(a=sam['Count'], q=0.75)\n",
    "max_sam = np.quantile(a=sam['Count'], q=1)\n",
    "\n",
    "print(\"Min count of Sam \\t\\t {}\".format(min_sam))\n",
    "print(\"First Quart count of Sam \\t {}\".format(first_quartile))\n",
    "print(\"Median count of Sam \\t\\t {}\".format(median_sam))\n",
    "print(\"Third Quart count of Sam \\t {}\".format(third_quartile))\n",
    "print(\"Max count of Sam \\t\\t {}\".format(max_sam))"
   ]
  },
  {
   "cell_type": "markdown",
   "metadata": {},
   "source": [
    "**Challenge Exercise 1**: On average (use the median), are there more female names per year or male names? Remember, you will have to add the names per year per gender."
   ]
  },
  {
   "cell_type": "code",
   "execution_count": 22,
   "metadata": {},
   "outputs": [
    {
     "name": "stdout",
     "output_type": "stream",
     "text": [
      "Female Median Names per year: \t2007.0\n",
      "Male Median Names per year: \t1516.0\n"
     ]
    }
   ],
   "source": [
    "# Challenge Exercise 1 code goes here\n",
    "# -----------------------------------\n",
    "\n",
    "# subset by gender\n",
    "females = df[df['Gender'] == 'F']\n",
    "males = df[df['Gender'] == 'M']\n",
    "\n",
    "female_median_names = np.median(females.groupby('Year').count()['Name'])\n",
    "male_median_names = np.median(males.groupby('Year').count()['Name'])\n",
    "\n",
    "print(\"Female Median Names per year: \\t{}\".format(female_median_names))\n",
    "print(\"Male Median Names per year: \\t{}\".format(male_median_names))\n",
    "\n",
    "# Based on the out below, there are more female names per year than male names"
   ]
  },
  {
   "cell_type": "markdown",
   "metadata": {},
   "source": [
    "**Exercise 4**: For the name \"Margaret\" over the years, 65% is equal or below what Count? \n"
   ]
  },
  {
   "cell_type": "code",
   "execution_count": 23,
   "metadata": {},
   "outputs": [
    {
     "name": "stdout",
     "output_type": "stream",
     "text": [
      "65% of Margaret names are below 3256.4000000000005\n"
     ]
    }
   ],
   "source": [
    "# Exercise 4 code goes here\n",
    "# -------------------------\n",
    "\n",
    "margarets = df[df['Name'] == 'Margaret']\n",
    "\n",
    "print(\"65% of Margaret names are below {}\".format(np.quantile(a=margarets['Count'], q=0.65)))\n"
   ]
  },
  {
   "cell_type": "markdown",
   "metadata": {},
   "source": [
    "**Exercise 5**: Find the covariance and correlation between the Year and Count of the name \"Addison\"."
   ]
  },
  {
   "cell_type": "code",
   "execution_count": 26,
   "metadata": {},
   "outputs": [
    {
     "name": "stdout",
     "output_type": "stream",
     "text": [
      "Covariance between Year and Count of 'Addison': \t48944.459016393455\n",
      "Correlation between Year and Count of 'Addison': \t0.4259311439218686\n"
     ]
    }
   ],
   "source": [
    "# Exercise 5 code goes here\n",
    "# -------------------------\n",
    "\n",
    "addisons = df[df['Name'] == 'Addison']\n",
    "\n",
    "addi_cov = addisons.Year.cov(addisons.Count)\n",
    "addi_corr = addisons.Year.corr(addisons.Count)\n",
    "\n",
    "print(\"Covariance between Year and Count of 'Addison': \\t{}\".format(addi_cov))\n",
    "print(\"Correlation between Year and Count of 'Addison': \\t{}\".format(addi_corr))"
   ]
  },
  {
   "cell_type": "markdown",
   "metadata": {},
   "source": [
    "**Challenge Exercise 2**: Does accounting for Gender affect the strength of the linear relationship with regards to Exercise 5? Does one gender have a stronger linear relationship than the other? \n"
   ]
  },
  {
   "cell_type": "code",
   "execution_count": 28,
   "metadata": {},
   "outputs": [
    {
     "name": "stdout",
     "output_type": "stream",
     "text": [
      "Female correlation between Year and Count of 'Addison': \t 0.8318457439323934\n",
      "Male correlation between Year and Count of 'Addison': \t\t 0.6712916451351595\n"
     ]
    }
   ],
   "source": [
    "# Challenge Exercise 2 code goes here\n",
    "# -----------------------------------\n",
    "\n",
    "addi_f = addisons[addisons['Gender'] == 'F']\n",
    "addi_m = addisons[addisons['Gender'] == 'M']\n",
    "\n",
    "print(\"Female correlation between Year and Count of 'Addison': \\t {}\".format(addi_f.Year.corr(addi_f.Count)))\n",
    "print(\"Male correlation between Year and Count of 'Addison': \\t\\t {}\".format(addi_m.Year.corr(addi_m.Count)))"
   ]
  },
  {
   "cell_type": "markdown",
   "metadata": {},
   "source": [
    "# Save your notebook, then `File > Close and Halt`"
   ]
  }
 ],
 "metadata": {
  "kernelspec": {
   "display_name": "Python 3",
   "language": "python",
   "name": "python3"
  },
  "language_info": {
   "codemirror_mode": {
    "name": "ipython",
    "version": 3
   },
   "file_extension": ".py",
   "mimetype": "text/x-python",
   "name": "python",
   "nbconvert_exporter": "python",
   "pygments_lexer": "ipython3",
   "version": "3.7.3"
  }
 },
 "nbformat": 4,
 "nbformat_minor": 2
}
