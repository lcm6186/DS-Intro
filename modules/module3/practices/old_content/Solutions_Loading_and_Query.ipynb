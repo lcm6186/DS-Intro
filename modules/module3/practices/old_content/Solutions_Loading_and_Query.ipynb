{
 "cells": [
  {
   "cell_type": "code",
   "execution_count": 1,
   "metadata": {
    "collapsed": false
   },
   "outputs": [
    {
     "ename": "SyntaxError",
     "evalue": "invalid syntax (<ipython-input-1-995f5129e3d6>, line 1)",
     "output_type": "error",
     "traceback": [
      "\u001b[0;36m  File \u001b[0;32m\"<ipython-input-1-995f5129e3d6>\"\u001b[0;36m, line \u001b[0;32m1\u001b[0m\n\u001b[0;31m    ```\u001b[0m\n\u001b[0m    ^\u001b[0m\n\u001b[0;31mSyntaxError\u001b[0m\u001b[0;31m:\u001b[0m invalid syntax\n"
     ]
    }
   ],
   "source": [
    "```\n",
    "# Exercise #1, Load Teams\n",
    "import pandas as pd\n",
    "import numpy as np\n",
    "teams = pd.read_csv('../../../datasets/baseball-databank/data/Teams.csv')\n",
    "\n",
    "databaseFilename = '../baseball.db'\n",
    "connection = sqlite3.connect(databaseFilename)\n",
    "cursor = connection.cursor()\n",
    "\n",
    "teams.fillna(value=0) # Fill NaN values\n",
    "cursor.executemany('INSERT INTO teams VALUES(?,?,?,?,?,?,?,?,?,?,?,?,?,?,?,?,?,?,?,?,?,?,?,?,?,?,?,?,?,?,?,?,?,?,?,?,?,?,?,?,?,?,?,?,?,?,?,?)',\n",
    "                   teams.itertuples(index=False, name ='None'))\n",
    "\n",
    "# Save (commit) the changes\n",
    "connection.commit()\n",
    "```"
   ]
  },
  {
   "cell_type": "code",
   "execution_count": 3,
   "metadata": {
    "collapsed": false
   },
   "outputs": [],
   "source": [
    "# Exercise #1, Load Teams\n",
    "import pandas as pd\n",
    "import numpy as np\n",
    "import sqlite3\n",
    "teams = pd.read_csv('../../../datasets/baseball-databank/data/Teams.csv')\n",
    "\n",
    "databaseFilename = '../baseball.db'\n",
    "connection = sqlite3.connect(databaseFilename)\n",
    "cursor = connection.cursor()\n",
    "\n",
    "teams.fillna(value=0) # Fill NaN values\n",
    "cursor.executemany('INSERT INTO teams VALUES(?,?,?,?,?,?,?,?,?,?,?,?,?,?,?,?,?,?,?,?,?,?,?,?,?,?,?,?,?,?,?,?,?,?,?,?,?,?,?,?,?,?,?,?,?,?,?,?)',\n",
    "                   teams.itertuples(index=False, name ='None'))\n",
    "\n",
    "# Save (commit) the changes\n",
    "connection.commit()"
   ]
  },
  {
   "cell_type": "markdown",
   "metadata": {},
   "source": [
    "Exercise 2;\n",
    "DO NOT USE \n",
    "```SQL\n",
    "UPDATE batting\n",
    "SET SH = 0, GIDP = 0\n",
    "WHERE GIDP is NULL OR SH is NULL;\n",
    "```"
   ]
  },
  {
   "cell_type": "code",
   "execution_count": 4,
   "metadata": {
    "collapsed": true
   },
   "outputs": [],
   "source": [
    "# Exerciese 2\n",
    "import sqlite3\n",
    "import pandas as d\n",
    "\n",
    "databaseFilename = '../baseball.db'\n",
    "connection = sqlite3.connect(databaseFilename)\n",
    "cursor = connection.cursor()\n",
    "\n",
    "# Use two separate commands\n",
    "cursor.execute('UPDATE batting SET SH=0 WHERE SH is NULL')\n",
    "cursor.execute('UPDATE batting SET GIDP=0 WHERE GIDP is NULL')\n",
    "\n",
    "# Save (commit) the changes\n",
    "connection.commit()\n",
    "\n",
    "connection.close()"
   ]
  },
  {
   "cell_type": "code",
   "execution_count": 5,
   "metadata": {
    "collapsed": false
   },
   "outputs": [
    {
     "name": "stdout",
     "output_type": "stream",
     "text": [
      "     count   mean        std   min    25%   50%    75%    max\n",
      "HBP  100.0  25.48   6.173387  20.0  21.00  24.0  27.00   51.0\n",
      "HR   100.0  12.72  12.647577   0.0   3.00   7.5  20.25   54.0\n",
      "RBI  100.0  71.40  26.438035  18.0  53.75  70.0  87.25  156.0\n"
     ]
    }
   ],
   "source": [
    "# exercise 3\n",
    "import sqlite3\n",
    "import pandas as pd\n",
    "\n",
    "databaseFilename = '../baseball.db'\n",
    "connection = sqlite3.connect(databaseFilename)\n",
    "cursor = connection.cursor()\n",
    "\n",
    "# Code for Exercise 3 goes here \n",
    "# -----------------------------\n",
    "\n",
    "SQL = 'select playerID, HBP,HR,RBI from batting  order by 2 desc  limit 100;'\n",
    "\n",
    "result = pd.read_sql_query(SQL, connection)\n",
    "\n",
    "print(result.describe().transpose())\n",
    "# -----------------------------\n",
    "\n",
    "connection.close()"
   ]
  },
  {
   "cell_type": "code",
   "execution_count": null,
   "metadata": {
    "collapsed": false
   },
   "outputs": [],
   "source": []
  },
  {
   "cell_type": "code",
   "execution_count": 2,
   "metadata": {
    "collapsed": false
   },
   "outputs": [
    {
     "name": "stdout",
     "output_type": "stream",
     "text": [
      "  teamID  avg(HBP)\n",
      "0    BLN  4.442708\n",
      "1    BL3  3.861111\n",
      "2    BFP  3.692308\n",
      "3    TL2  3.550000\n",
      "4    PHP  3.187500\n"
     ]
    }
   ],
   "source": [
    "# Exercise 4\n",
    "import sqlite3\n",
    "import pandas as pd\n",
    "\n",
    "databaseFilename = '../baseball.db'\n",
    "connection = sqlite3.connect(databaseFilename)\n",
    "cursor = connection.cursor()\n",
    "\n",
    "# Code for Exercise 3 goes here \n",
    "# -----------------------------\n",
    "\n",
    "databaseFilename = '../baseball.db'\n",
    "connection = sqlite3.connect(databaseFilename)\n",
    "cursor = connection.cursor()\n",
    "\n",
    "SQL = 'select teamID, avg(HBP) '\n",
    "SQL += ' from batting '\n",
    "SQL += ' group by teamID '\n",
    "SQL += ' order by 2 desc limit 5'\n",
    "\n",
    "result = pd.read_sql_query(SQL, connection)\n",
    "\n",
    "print(result)\n",
    "# -----------------------------\n",
    "connection.close()"
   ]
  },
  {
   "cell_type": "code",
   "execution_count": 5,
   "metadata": {
    "collapsed": false
   },
   "outputs": [
    {
     "name": "stdout",
     "output_type": "stream",
     "text": [
      "  nameFirst   nameLast  sum(AB)  sum(R)  sum(R)/sum(AB)\n",
      "0      Matt  Alexander    168.0   111.0        0.660714\n",
      "1    Dickie    Flowers    120.0    40.0        0.333333\n",
      "2     Jimmy       Wood    487.0   162.0        0.332649\n",
      "3      Glen     Barker    164.0    53.0        0.323171\n",
      "4      Jack       Reed    129.0    39.0        0.302326\n",
      "5      Ross     Barnes   2392.0   698.0        0.291806\n",
      "6     Steve       King    272.0    78.0        0.286765\n",
      "7       Ced    Landrum    105.0    30.0        0.285714\n",
      "8    Stuffy    Stewart    265.0    74.0        0.279245\n",
      "9      Dave   Birdsall    240.0    66.0        0.275000\n"
     ]
    }
   ],
   "source": [
    "# Exercise 5\n",
    "import sqlite3\n",
    "import pandas as pd\n",
    "\n",
    "databaseFilename = '../baseball.db'\n",
    "connection = sqlite3.connect(databaseFilename)\n",
    "cursor = connection.cursor()\n",
    "\n",
    "SQL = 'select nameFirst, nameLast, sum(AB),sum(R), sum(R)/sum(AB) '\n",
    "SQL += ' from players join batting using (playerID) '\n",
    "SQL += ' group by nameFirst, nameLast '\n",
    "SQL += ' having sum(AB) > 100 '\n",
    "SQL += ' order by sum(R)/sum(AB) desc, 4  limit 10'\n",
    "\n",
    "result = pd.read_sql_query(SQL, connection)\n",
    "\n",
    "print(result)\n",
    "\n",
    "connection.close()"
   ]
  },
  {
   "cell_type": "code",
   "execution_count": 9,
   "metadata": {
    "collapsed": false
   },
   "outputs": [
    {
     "name": "stdout",
     "output_type": "stream",
     "text": [
      "    playerID   HBP\n",
      "0  jennihu01  51.0\n",
      "1   huntro01  50.0\n",
      "2  jennihu01  46.0\n"
     ]
    }
   ],
   "source": [
    "# OTHER SQL\n",
    "import sqlite3\n",
    "import pandas as pd\n",
    "\n",
    "databaseFilename = '../baseball.db'\n",
    "connection = sqlite3.connect(databaseFilename)\n",
    "cursor = connection.cursor()\n",
    "\n",
    "SQL = 'select playerID, HBP from batting  order by 2 desc  limit 3;'\n",
    "\n",
    "result = pd.read_sql_query(SQL, connection)\n",
    "\n",
    "print(result)\n",
    "\n",
    "connection.close()"
   ]
  },
  {
   "cell_type": "code",
   "execution_count": 4,
   "metadata": {
    "collapsed": false
   },
   "outputs": [
    {
     "name": "stdout",
     "output_type": "stream",
     "text": [
      "  nameFirst   nameLast  sum(AB)  sum(R)  sum(R)/sum(AB)\n",
      "0      Matt  Alexander    168.0   111.0        0.660714\n",
      "1    Dickie    Flowers    120.0    40.0        0.333333\n",
      "2     Jimmy       Wood    487.0   162.0        0.332649\n",
      "3      Glen     Barker    164.0    53.0        0.323171\n",
      "4      Jack       Reed    129.0    39.0        0.302326\n",
      "5      Ross     Barnes   2392.0   698.0        0.291806\n",
      "6     Steve       King    272.0    78.0        0.286765\n",
      "7       Ced    Landrum    105.0    30.0        0.285714\n",
      "8    Stuffy    Stewart    265.0    74.0        0.279245\n",
      "9      Dave   Birdsall    240.0    66.0        0.275000\n"
     ]
    }
   ],
   "source": [
    "\n",
    "import sqlite3\n",
    "import pandas as pd\n",
    "\n",
    "databaseFilename = '../baseball.db'\n",
    "connection = sqlite3.connect(databaseFilename)\n",
    "cursor = connection.cursor()\n",
    "\n",
    "SQL = 'select nameFirst, nameLast, sum(AB),sum(R), sum(R)/sum(AB) '\n",
    "SQL += ' from players join batting using (playerID) '\n",
    "SQL += ' group by nameFirst, nameLast '\n",
    "SQL += ' having sum(AB) > 100 '\n",
    "SQL += ' order by sum(R)/sum(AB) desc, 4  limit 10'\n",
    "\n",
    "result = pd.read_sql_query(SQL, connection)\n",
    "\n",
    "print(result)\n",
    "\n",
    "connection.close()"
   ]
  },
  {
   "cell_type": "code",
   "execution_count": null,
   "metadata": {
    "collapsed": true
   },
   "outputs": [],
   "source": []
  }
 ],
 "metadata": {
  "kernelspec": {
   "display_name": "Python 3",
   "language": "python",
   "name": "python3"
  },
  "language_info": {
   "codemirror_mode": {
    "name": "ipython",
    "version": 3
   },
   "file_extension": ".py",
   "mimetype": "text/x-python",
   "name": "python",
   "nbconvert_exporter": "python",
   "pygments_lexer": "ipython3",
   "version": "3.4.3"
  }
 },
 "nbformat": 4,
 "nbformat_minor": 1
}
