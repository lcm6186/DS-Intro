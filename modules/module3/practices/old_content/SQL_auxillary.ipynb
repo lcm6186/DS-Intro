{
 "cells": [
  {
   "cell_type": "markdown",
   "metadata": {},
   "source": [
    "# Auxillary Notes / Helps on Database Practice\n",
    "\n",
    "Some of the students have had a few challenges on the database practice for module 3.\n",
    "This notebook is a supplement to add additional information."
   ]
  },
  {
   "cell_type": "markdown",
   "metadata": {},
   "source": [
    "## Practice Question 2\n",
    "\n",
    "From the original practice Question:\n",
    "----\n",
    "For now we will update a column, *Hit by Pitch* (HBP) to be zero instead of NULL.\n",
    "\n",
    "```SQL\n",
    "UPDATE batting\n",
    "SET HBP = 0\n",
    "WHERE HBP is NULL;\n",
    "```\n",
    "\n",
    "Ponder the statement above.  Now we want to update the SH and the GIDP columns where they are NULL. Why is this next statement going to corrupt our data?\n",
    "\n",
    "```SQL\n",
    "UPDATE batting\n",
    "SET SH = 0, GIDP = 0\n",
    "WHERE GIDP is NULL OR SH is NULL;\n",
    "```\n",
    "\n",
    "What alternative command(s) should be used?\n",
    "----\n",
    "\n",
    "Before we dive in, lets look at the counts that were supplied via SQL.\n",
    "\n",
    "```SQL\n",
    "sqlite> select count(*) from batting where SH is NULL;\n",
    "11487\n",
    "sqlite> select count(*) from batting where SF is NULL;\n",
    "41181\n",
    "sqlite> select count(*) from batting where GIDP is NULL;\n",
    "31257\n",
    "sqlite> select count(*) from batting where HBP is NULL;\n",
    "7959\n",
    "\n",
    "```\n",
    "Note, was have just counted the number of rows that are NULL for each column.\n",
    "We will spend some time in Python / Pandas to break then tabular data down without the database being involved.\n",
    "\n",
    "Then we will re-visit the original practice exercise.\n"
   ]
  },
  {
   "cell_type": "code",
   "execution_count": 4,
   "metadata": {
    "collapsed": false
   },
   "outputs": [
    {
     "name": "stdout",
     "output_type": "stream",
     "text": [
      "float64\n",
      "float64\n",
      "float64\n",
      "float64\n"
     ]
    }
   ],
   "source": [
    "## Import libraries\n",
    "import pandas as pd\n",
    "import numpy as np\n",
    "import sqlite3\n",
    "\n",
    "# Read the data in from a .csv file\n",
    "batting = pd.read_csv('../../../datasets/baseball-databank/data/Batting.csv')\n",
    "\n",
    "\n",
    "print(batting['SH'].dtype)\n",
    "print(batting['SF'].dtype)\n",
    "print(batting['GIDP'].dtype)\n",
    "print(batting['HBP'].dtype)\n",
    "#batting[batting['SH']==' '].head()"
   ]
  },
  {
   "cell_type": "markdown",
   "metadata": {},
   "source": [
    "__Above__ we load the Batting file into a Panda Dataframe named *batting*\n",
    "\n",
    "You saw in the [*modules/module1/labs/intro_data_science_python*](../../module1/labs/intro_data_science_python.ipynb#Data-Filtering) notebook how to filter rows of a dataframe.\n",
    "\n",
    "While you previously saw the comparison based filtering on values, we can also filter dataframes using functions to check / evaluate a particular presence or absence of the value.\n",
    "\n",
    "__REFERENCE__ : [isnull()](http://pandas.pydata.org/pandas-docs/stable/generated/pandas.isnull.html) and [isnotnull](http://pandas.pydata.org/pandas-docs/stable/generated/pandas.notnull.html#pandas.notnull)\n",
    "\n",
    "Lets compare Pandas to our ealier DB answers.  **Please review the comments in the source below**"
   ]
  },
  {
   "cell_type": "code",
   "execution_count": 5,
   "metadata": {
    "collapsed": false
   },
   "outputs": [
    {
     "name": "stdout",
     "output_type": "stream",
     "text": [
      "Size of batting is 101332 rows\n",
      "SH Nulls = 11487\n",
      "SF Nulls = 41181\n",
      "GIDP Nulls = 31257\n",
      "HBP Nulls = 7959\n"
     ]
    }
   ],
   "source": [
    "print (\"Size of batting is {} rows\".format( len(batting) ) )\n",
    "\n",
    "\n",
    " # Recall the len() function measures length or number of elements.\n",
    "           #  |  # Recall the df[filter] generates a true/false list that selects the 'true' rows to filter\n",
    "           #  |               |\n",
    "           #  V               V\n",
    "shNull =      len ( batting[  batting['SH'].isnull()   ] ) \n",
    "                    #      ^\n",
    "                    #      |\n",
    "                #  This df[] is the select operation on a data frame.\n",
    "                    #         When a column name is supplied, we get the column as a Series\n",
    "                    #         When a list of rows is supplied, we get a subset of the dataframe\n",
    "    # So batting is filtered on the rows where the SF column has a null value\n",
    "    # This is the equivalent of SQL statement part \"where SH is NULL\"\n",
    "                \n",
    "                \n",
    "sfNull =  len ( batting[  batting['SF'].isnull()   ] ) \n",
    "gidpNull = len ( batting[ batting['GIDP'].isnull() ] )\n",
    "hbpNull = len ( batting[  batting['HBP'].isnull()  ] )\n",
    "\n",
    "print (\"SH Nulls =\", shNull)\n",
    "\n",
    "print (\"SF Nulls =\", sfNull)\n",
    "\n",
    "print (\"GIDP Nulls =\", gidpNull)\n",
    "\n",
    "print (\"HBP Nulls =\", hbpNull)\n"
   ]
  },
  {
   "cell_type": "markdown",
   "metadata": {},
   "source": [
    "Recall :\n",
    "```SQL\n",
    "sqlite> select count(*) from batting where SH is NULL;\n",
    "11487\n",
    "sqlite> select count(*) from batting where SF is NULL;\n",
    "41181\n",
    "sqlite> select count(*) from batting where GIDP is NULL;\n",
    "31257\n",
    "sqlite> select count(*) from batting where HBP is NULL;\n",
    "7959\n",
    "```\n",
    "\n",
    "__Recall our challenge question__\n",
    "\n",
    "```SQL\n",
    "UPDATE batting\n",
    "SET SH = 0, GIDP = 0\n",
    "WHERE GIDP is NULL OR SH is NULL;\n",
    "```\n",
    "\n",
    "Ponder the statement above. Now we want to update the SH and the GIDP columns where they are NULL. Why is this next statement going to corrupt our data?\n",
    "\n",
    "\n",
    "__Issue__: the counts of NULL values for SH and GIDP are not the same, 11487 versus 31257 respectively.\n",
    "\n",
    "Even if they are the same, we cannot be sure that the values of both SH and GIDP are null in all cases.\n",
    "\n",
    "So, imagine that the 11487 rows that are *SH is NULL* are completely different rows than the  *GIDP is NULL* rows.\n",
    "This means that there are no rows that are simultaneously  *SH is NULL* and  *GIDP is NULL*.  \n",
    "Then the update statement will match the where clause on  11487 + 31257 = 42744 rows.\n",
    "Therefore, the **OR** in the where clause of the SQL is collecting too many rows to update; because a row matches if either the SH or the GIDP columns are NULL.\n",
    "\n",
    "The effect then, given a row with SF = 1 and GIDP is NULL is that the database statement you were asked to ponder will erase the SF = 1 value and set it to SF = 0.\n",
    "\n",
    "____\n",
    "\n",
    "Can we test this with Pandas?  Yep!"
   ]
  },
  {
   "cell_type": "code",
   "execution_count": 6,
   "metadata": {
    "collapsed": false
   },
   "outputs": [
    {
     "name": "stdout",
     "output_type": "stream",
     "text": [
      "Number of OR rows =  41186\n",
      "Number of AND rows =  31252\n"
     ]
    }
   ],
   "source": [
    "#  SH OR GIDP is NULL \n",
    "shOrGidpNull =  len ( batting[  batting['SF'].isnull() | batting['GIDP'].isnull() ] ) \n",
    "print (\"Number of OR rows = \", shOrGidpNull)\n",
    "\n",
    "# SH AND GIDP are NULL\n",
    "shAndGidpNull =  len ( batting[  batting['SF'].isnull() & batting['GIDP'].isnull() ] ) \n",
    "print (\"Number of AND rows = \", shAndGidpNull)"
   ]
  },
  {
   "cell_type": "markdown",
   "metadata": {
    "collapsed": true
   },
   "source": [
    "The key concepts to take away from this practice exercise are these:\n",
    "  1. Be careful with the WHERE clause on SQL!  Especially during UPDATE and DELETE.\n",
    "  1. When you want to update multiple columns, then be sure the values you are setting for the multiple columns are linked.  \n",
    "  \n",
    "In our case, the UPDATE to set SH = 0 when it is NULL is **independent** of the UPDATE to set GIDP = 0 when it is NULL.\n",
    "  ** Therefore, we should use two distinct update commands! **"
   ]
  },
  {
   "cell_type": "code",
   "execution_count": null,
   "metadata": {
    "collapsed": true
   },
   "outputs": [],
   "source": []
  }
 ],
 "metadata": {
  "kernelspec": {
   "display_name": "Python 3",
   "language": "python",
   "name": "python3"
  },
  "language_info": {
   "codemirror_mode": {
    "name": "ipython",
    "version": 3
   },
   "file_extension": ".py",
   "mimetype": "text/x-python",
   "name": "python",
   "nbconvert_exporter": "python",
   "pygments_lexer": "ipython3",
   "version": "3.4.3"
  }
 },
 "nbformat": 4,
 "nbformat_minor": 1
}
