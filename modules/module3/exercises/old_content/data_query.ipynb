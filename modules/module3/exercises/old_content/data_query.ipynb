{
 "cells": [
  {
   "cell_type": "markdown",
   "metadata": {},
   "source": [
    "# Data Query Exercise for a Mini Analysis"
   ]
  },
  {
   "cell_type": "markdown",
   "metadata": {
    "collapsed": true
   },
   "source": [
    "Let's revisit our earlier statistical question:\n",
    "\n",
    "**Can we determine which teams have the highest *hit by pitches* (HBP) values, averaged across their players?  If so, only show the top 5! **\n",
    "\n",
    "```\n",
    "teamID|Average(HBP)\n",
    "BLN   |4.44270833333333\n",
    "BL3   |3.86111111111111\n",
    "BFP   |3.69230769230769\n",
    "TL2   |3.55\n",
    "PHP   |3.1875\n",
    "```\n",
    "\n",
    "**Exercise 1**: Write the SQL that produces the results above."
   ]
  },
  {
   "cell_type": "code",
   "execution_count": 1,
   "metadata": {
    "collapsed": true
   },
   "outputs": [],
   "source": [
    "## Place Exercise 1 Code here\n"
   ]
  }
 ],
 "metadata": {
  "kernelspec": {
   "display_name": "Python 3",
   "language": "python",
   "name": "python3"
  },
  "language_info": {
   "codemirror_mode": {
    "name": "ipython",
    "version": 3
   },
   "file_extension": ".py",
   "mimetype": "text/x-python",
   "name": "python",
   "nbconvert_exporter": "python",
   "pygments_lexer": "ipython3",
   "version": "3.4.3"
  }
 },
 "nbformat": 4,
 "nbformat_minor": 1
}
